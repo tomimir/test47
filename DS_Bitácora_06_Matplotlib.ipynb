{
 "cells": [
  {
   "cell_type": "markdown",
   "metadata": {
    "colab_type": "text",
    "id": "HVKK9hcPQaWL"
   },
   "source": [
    "# Visualización con Matplotlib\n",
    "\n",
    "Matplotlib es la librería fundamental de visualización en Python. Es una librería de bajo nivel, con muchísima flexibilidad, de sintaxis compleja pero muy bien [documentada](https://matplotlib.org/users/index.html).\n",
    "\n",
    "Pero antes, para no perder la costumbre de hacer un poco de programación, dejamos el siguiente ejercicio:\n",
    "\n",
    "**Ejercicio - Challenge**: dadas las listas\n",
    "```python\n",
    "a = [12,3,5,12,8,9,25,12,1,3,4,5,17,15]\n",
    "b = [3,5,7,8,45,8,9,16,1,11,30,41,2,3,15,1,29,22]\n",
    "```\n",
    "\n",
    "Armar una nueva lista `c` con:\n",
    "\n",
    "1. Con todos los elementos de *a* y *b*\n",
    "1. Con todos los elementos de *a* y *b*, ordenados de menor a mayor\n",
    "1. Con todos los elementos de *a* y *b*, ordenados de mayor a menor\n",
    "1. Con todos los elementos de *a* y *b*, ordenados de menor a mayor y sin elementos repetidos\n",
    "1. Con todos los elementos que están en ambas listas, sin elementos repetidos. Es decir, si un elemento está sólo en una lista, no debe aparecer en `c`.\n",
    "1. Con todos los elementos que NO están en ambas listas, sin elementos repetidos. Es decir, si un elemento está en `a` y en `b`, no debe aparecer en `c`.\n",
    "\n",
    "**Pistas:** puedes resolver este ejercicio trabajando con listas, arrays o sets (¡Googlear qué son!). ¡Según el ítem, una opción o la otra es conveniente! Insistimos: ¡¡¡googlear mucho!!!"
   ]
  },
  {
   "cell_type": "code",
   "execution_count": null,
   "metadata": {
    "colab": {},
    "colab_type": "code",
    "id": "kZomYkqkQaWY"
   },
   "outputs": [],
   "source": [
    "# COMPLETAR"
   ]
  },
  {
   "cell_type": "markdown",
   "metadata": {
    "colab_type": "text",
    "id": "LGEV7NvbQaW0"
   },
   "source": [
    "## Matplotlib\n",
    "\n",
    "Ahora sí, veamos de qué se trata Matplotlib. Pero antes, una **advertencia:** hay dos formas de utilizar Matplotlib, como se explica al comienzo de este [tutorial](https://matplotlib.org/3.1.3/tutorials/introductory/usage.html#sphx-glr-tutorials-introductory-usage-py). Una a través de los comandos `plt.`, que es la forma más rápida y sencilla, aunque un poco menos versátil. La otra consiste en crear dos objetos, llamados figuras y ejes. Si bien es un poco más difícil, es también más versátil. En general, vamos a usar la primera opción, pero es importante que conozcan ambas. Por eso, al final del notebook, dejamos algunos ejemplos de cómo hacer gráficos de la segunda manera.\n",
    "\n",
    "\n",
    "### 1. Gráficos de Líneas y Puntos\n",
    "Vamos a empezar con el gráfico más sencillo posible, una línea. Vamos a graficar una función sinusoidal de tipo: $y = sen(2 \\pi x) + 1$.\n",
    "\n",
    "La manera mas rápida de lograr un gráfico es la siguiente:"
   ]
  },
  {
   "cell_type": "code",
   "execution_count": null,
   "metadata": {
    "colab": {},
    "colab_type": "code",
    "id": "5OzD2CrzQaW6"
   },
   "outputs": [],
   "source": [
    "import matplotlib.pyplot as plt\n",
    "import numpy as np"
   ]
  },
  {
   "cell_type": "code",
   "execution_count": null,
   "metadata": {
    "colab": {},
    "colab_type": "code",
    "id": "6R2967clQaXM"
   },
   "outputs": [],
   "source": [
    "# Generamos dos vectores x e y, que nos daran las cordenadas por donde pasará la linea.\n",
    "x = np.arange(0.0, 2.0, 0.05)\n",
    "y = 1 + np.sin(2 * np.pi * x)\n",
    "\n",
    "# Simplemente le pedimos a la librería que dibuje una variable en funcion de la otra\n",
    "# En el primer lugar va la variable horizontal y en el segundo la vertical\n",
    "plt.plot(x, y)"
   ]
  },
  {
   "cell_type": "markdown",
   "metadata": {
    "colab_type": "text",
    "id": "YB8I6I2YQaXb"
   },
   "source": [
    "Si queremos pasar este gráfico a uno de puntos, es muy sencillo:"
   ]
  },
  {
   "cell_type": "code",
   "execution_count": null,
   "metadata": {
    "colab": {},
    "colab_type": "code",
    "id": "YPG38FJhQaXh"
   },
   "outputs": [],
   "source": [
    "plt.plot(x, y, 'o')"
   ]
  },
  {
   "cell_type": "markdown",
   "metadata": {
    "colab_type": "text",
    "id": "TTQkjFCVQaXu"
   },
   "source": [
    "O de puntos y líneas:"
   ]
  },
  {
   "cell_type": "code",
   "execution_count": null,
   "metadata": {
    "colab": {},
    "colab_type": "code",
    "id": "UjgPczH6QaX1"
   },
   "outputs": [],
   "source": [
    "plt.plot(x, y, 'o-')"
   ]
  },
  {
   "cell_type": "markdown",
   "metadata": {
    "colab_type": "text",
    "id": "Ut6BImmXQaYE"
   },
   "source": [
    "Muy parecida es la función `plt.scatter()`, que sirve para hacer gráficos de dispersión. A diferencia de `plt.plot()`, esta función no permite gráficos de líneas."
   ]
  },
  {
   "cell_type": "code",
   "execution_count": null,
   "metadata": {
    "colab": {},
    "colab_type": "code",
    "id": "8jUenidfQaYI"
   },
   "outputs": [],
   "source": [
    "plt.scatter(x, y)"
   ]
  },
  {
   "cell_type": "markdown",
   "metadata": {
    "colab_type": "text",
    "id": "6wOTqaDkQaYZ"
   },
   "source": [
    "### 2. Agregando información al gráfico.\n",
    "\n",
    "Es muy importante que los gráficos sean entendibles. Esto puede parecer una obviedad, pero muchas veces nos lo olvidamos. Agregar información a los gráficos - cuidándonos de no saturarlos - favorece su comprensión. Algunas cosas que podemos hacer son:\n",
    "\n",
    "* Etiquetar correctamente los ejes. ¡No olvidar sus unidades!\n",
    "* Agregar un título.\n"
   ]
  },
  {
   "cell_type": "code",
   "execution_count": null,
   "metadata": {
    "colab": {},
    "colab_type": "code",
    "id": "wA2WxNntQaYg"
   },
   "outputs": [],
   "source": [
    "x = np.arange(0.0, 24, 0.5)\n",
    "y = 20 + 5*np.sin(2*np.pi*(x - 8)/24)\n",
    "\n",
    "plt.plot(x, y, color = 'g', linewidth = 2)\n",
    "\n",
    "# Podemos agregarle etiquetas a los ejes y un titulo al gráfico\n",
    "plt.xlabel('Tiempo (horas)')\n",
    "plt.ylabel('Temperatura (°C)')\n",
    "plt.title('Temperatura de un día primaveral')\n",
    "\n",
    "plt.grid() # Este comando enciende la grilla de referencia \n",
    "plt.show() #Show muestra el gráfico. Si no lo ponemos, en general no pasa nada.¡Pero no siempre es así!"
   ]
  },
  {
   "cell_type": "markdown",
   "metadata": {
    "colab_type": "text",
    "id": "jbo7-8XhQaYw"
   },
   "source": [
    "**Leyendas**\n",
    "\n",
    "En general, los gráficos suelen contener más de una curva. Para poder distinguirlas correctamente, usamos las leyendas, que son cuadros que se agregan dentro del gráfico que nos brindan información sobre los distintos elementos. Matplotlib se encarga de manejar muy bien las leyendas. Nosotros sólo debemos decirle el nombre de cada objeto que graficamos y avisarle que queremos que agregue la leyenda al gráfico.\n",
    "\n",
    "Veamos cómo graficar más de una curva con sus correspondientes etiquetas (`label`) y cómo crear la leyenda."
   ]
  },
  {
   "cell_type": "code",
   "execution_count": null,
   "metadata": {
    "colab": {},
    "colab_type": "code",
    "id": "kvZrW7cgQaY0"
   },
   "outputs": [],
   "source": [
    "x = np.arange(0.0, 24, 0.5)\n",
    "y1 = 20 + 5*np.sin(2*np.pi*(x - 8)/24)\n",
    "y2 = 5 + 5*np.sin(2*np.pi*(x - 6)/24)\n",
    "\n",
    "# Ploteamos las dos lineas, dandole un nombre a cada una mediante el parámetro 'label'.\n",
    "# Notar que para agregar una curva, simplemente debemos poner una debajo de la otra\n",
    "plt.plot(x, y1, label = 'Primavera')\n",
    "plt.plot(x, y2, label = 'invierno')\n",
    "\n",
    "plt.xlabel('Tiempo (horas)')\n",
    "plt.ylabel('Temperatura (°C)')\n",
    "plt.title('Temperatura diaria promedio')\n",
    "\n",
    "# Este comando enciende la grilla de referencia \n",
    "plt.grid()\n",
    "\n",
    "# Agregamos la leyenda al gráfico\n",
    "plt.legend() #loc='upper center', shadow=True, fontsize='x-large')\n",
    "plt.show() "
   ]
  },
  {
   "cell_type": "markdown",
   "metadata": {
    "colab_type": "text",
    "id": "2GQunhEcQaZG"
   },
   "source": [
    "**Probar** cambiar el orden en que graficas las curvas, los estilos, los colores, etc. También, cambiar algunos parámetros de `plt.legend()`. Siempre puedes ir a la documentación de la función.\n",
    "\n",
    "**Ejercicio - Challenge:** Para realizar este ejercicio, debes consultar la documentación de Matplotlib.\n",
    "1. Define dos listas de valores `x` e `y`, tal que los pares (x,y) cumplan una relación lineal del tipo $y = 2x + 1$. Defina la lista de valores de `x` con 100 puntos en el intervalo de valores que van desde -1 hasta 1.\n",
    "2. Grafica la curva generada por los valores (x,y) en color verde, con un ancho `linewidth = 3` y que sea una línea a trazos. Agrega al gráfico el título 'Relación Lineal'.\n",
    "3. Agrega una segunda curva de su invención.\n",
    "4. Agrega etiquetas en los ejes, leyenda y título al gráfico. ¡Puede ser lo que desees, pero tiene que tener sentido!"
   ]
  },
  {
   "cell_type": "code",
   "execution_count": null,
   "metadata": {
    "colab": {},
    "colab_type": "code",
    "id": "LNDmvLYWQaZM"
   },
   "outputs": [],
   "source": [
    "# COMPLETAR"
   ]
  },
  {
   "cell_type": "markdown",
   "metadata": {
    "colab_type": "text",
    "id": "EJM73g69QaZY"
   },
   "source": [
    "### 3. Histogramas\n",
    "\n",
    "Matplotlib también nos permite graficar fácilmente histogramas mediante la función `hist`, como vimos en el notebook anterior. Prestar atención a la siguiente celda, vamos a generar muestras de una distribución normal de una forma ligeramente distinta a la que usamos en ese notebook."
   ]
  },
  {
   "cell_type": "code",
   "execution_count": null,
   "metadata": {
    "colab": {},
    "colab_type": "code",
    "id": "Aq3G97vJQaZc"
   },
   "outputs": [],
   "source": [
    "# Elegimos una distribución con centro en 20 y una desviación igual a 4\n",
    "mu = 20  # Media de la distribución\n",
    "sigma = 4  # Desviación Estandar\n",
    "valores = mu + sigma * np.random.randn(1000)\n",
    "\n",
    "# Imprimimos la media y la desviación de los valores generados\n",
    "print('Media:',np.mean(valores))\n",
    "print('Desvio Estandar:',np.std(valores))\n",
    "# Recuerden que cuantos mas valores sampleen, \n",
    "# mas se aproximaran estos valores a los de la distribución."
   ]
  },
  {
   "cell_type": "markdown",
   "metadata": {
    "colab_type": "text",
    "id": "xC6PBG5PQaZq"
   },
   "source": [
    "Ahora vamos a graficar un histograma para estos valores:"
   ]
  },
  {
   "cell_type": "code",
   "execution_count": null,
   "metadata": {
    "colab": {},
    "colab_type": "code",
    "id": "TMGGQctkQaZt"
   },
   "outputs": [],
   "source": [
    "plt.hist(valores, bins = 50)\n",
    "plt.show()"
   ]
  },
  {
   "cell_type": "markdown",
   "metadata": {
    "colab_type": "text",
    "id": "Tta_l42XQaZ7"
   },
   "source": [
    "**Ejercicio**: \n",
    "\n",
    "1. Repite el histograma anterior, pero esta vez cambiando el número de `bins`. Por ejemplo, prueba con 5, 10, 20, 50, 500 y 5000. ¿Cuál les parece la opción más adecuada? ¿De qué dependará el número de bins adecuado a seleccionar?\n",
    "2. Prueba qué sucede si no le pasan el argumento `bins` a la función. Busca en la bibliografía de la librería que es lo que hace por default la función.\n",
    "3. Averigua cuales son los argumentos de la función `hist` y modifica el color del histograma, el tamaño de las barras, etc."
   ]
  },
  {
   "cell_type": "markdown",
   "metadata": {
    "colab_type": "text",
    "id": "3bVbBx6hQaaA"
   },
   "source": [
    "**Nota**: la función `hist` además nos devuelve dos vectores relevantes. El vector `n` donde nos especifica el número de cuentas de cada bin (columna) del histograma. Y el vector `bins`, que nos dice los límites de estos bines (donde empieza y termina cada columna. Notar que el vector 'bins' tiene un largo igual a `len(n)+1`."
   ]
  },
  {
   "cell_type": "code",
   "execution_count": null,
   "metadata": {
    "colab": {},
    "colab_type": "code",
    "id": "-Q3WRwbGQaaE"
   },
   "outputs": [],
   "source": [
    "n, bins, _ = plt.hist(valores, bins = 50)\n",
    "plt.show()\n",
    "print(n, bins)"
   ]
  },
  {
   "cell_type": "markdown",
   "metadata": {
    "colab_type": "text",
    "id": "jDcmQNNeQaaP"
   },
   "source": [
    "### Ejercitación\n",
    "\n",
    "Vamos a trabajar con un dataset de reviews de vinos, 'DS_Bitácora_06_Wine_Reviews.csv'. Pueden obtener más información sobre este dataset [aquí](https://www.kaggle.com/zynicide/wine-reviews/). Recomendamos leer su descripción.\n",
    "\n",
    "**Si no puedes hacer el ejercicio 1, no te preocupes, en el ejercicio 2 te dejamos las líneas de código necesarias para que puedas continuar.**\n",
    "\n",
    "**Ejercicio 1: Exploración del Dataset** abrir el dataset con Pandas y:\n",
    "1. Imprimir sus primeras cinco instancias.\n",
    "1. ¿Cuántas columnas (features) tiene?¿Cuáles son sus nombres?¿Y cuántas filas (instancias)? Descartar la columna `'Unnamed: 0'`.\n",
    "1. ¿Qué es un valor faltante?¿Cuántos valores faltantes hay en cada columna? Pista: `isna()`, `sum()`.\n",
    "1. ¿Cuáles son el peor y el mejor vino? Imprimir en pantalla sus características y su descripción. ¿Hay un solo vino que sea el mejor o el peor?\n",
    "1. Hacer una pregunta y responderla utilizando el dataset.\n",
    "\n",
    "**Recomendación:** puede ser útil recordar qué es una máscara o filtro booleano."
   ]
  },
  {
   "cell_type": "markdown",
   "metadata": {
    "colab_type": "text",
    "id": "RRIsQ5X3QaaR"
   },
   "source": [
    "**Ejercicio 2:** Hacer una diagrama de dispersión entre los precios (eje x) y el puntaje de los vinos (eje y). Ponerle las etiquetas correspondientes a los ejes y un título informativo. ¿Qué ocurre con la escala en el eje de los precios en este gráfico?¿Te animás a cambiarle los límites al eje x? ¿Qué conclusiones pueden sacar sobre la relación de precio y puntaje observando este gráfico?"
   ]
  },
  {
   "cell_type": "code",
   "execution_count": null,
   "metadata": {
    "colab": {},
    "colab_type": "code",
    "id": "cTiZAb9MQaaY"
   },
   "outputs": [],
   "source": [
    "### En estas celdas preparamos el dataset de forma de que puedas trabajar sin inconvenientes.\n",
    "# Definimos las columnas que nos interesan\n",
    "fields = ['country', 'points','price', 'variety']\n",
    "\n",
    "# Cargamos el DataFrame solo con esas columnas\n",
    "wine_reviews = pd.read_csv('DS_Bitácora_06_Wine_Reviews.csv', usecols = fields)\n",
    "\n",
    "# Tiramos las isntancias que tienen un nan en alguno de los features.\n",
    "wine_reviews.dropna(inplace=True)\n",
    "wine_reviews.head()"
   ]
  },
  {
   "cell_type": "code",
   "execution_count": null,
   "metadata": {
    "colab": {},
    "colab_type": "code",
    "id": "w0NCTT7rQaal"
   },
   "outputs": [],
   "source": [
    "# COMPLETAR"
   ]
  },
  {
   "cell_type": "code",
   "execution_count": null,
   "metadata": {
    "colab": {},
    "colab_type": "code",
    "id": "2WblOml4Qaax"
   },
   "outputs": [],
   "source": [
    "# COMPLETAR"
   ]
  },
  {
   "cell_type": "markdown",
   "metadata": {
    "colab_type": "text",
    "id": "OpYoPn23Qaa8"
   },
   "source": [
    "**Ejercicio 3:** Selecciona solamente solamente los vinos realizados en Argentina, Italia y un país de su elección (recuerde usar máscaras) y realice nuevamente un scatter plot de precio vs puntaje para estos vinos. Distinga, utilizando una leyenda, la procedencia de cada vino. **Recomendaciones:** \n",
    "* Si no sabes bien por dónde empezar, empieza haciéndolo para un solo país y luego ve agregando al resto.\n",
    "* NO es necesario, pero puede ser útil utilizar un for-loop.\n",
    "* No te olvides de etiquetar los ejes y poner un título.\n",
    "* Si los puntos se ocultan entre sí, puede ser útil utilzar el argumento `alpha` en `plt.scatter`. También, cambiar el orden en que grafican cada país y el tamaño de la figura.\n",
    "* Hecho correctamente, el gráfico te puede indicar qué país tiene mejor relación calidad-precio en sus vinos.\n",
    "\n",
    "¡Experimenta hasta lograr un gráfico que te parezca interesante!"
   ]
  },
  {
   "cell_type": "code",
   "execution_count": null,
   "metadata": {
    "colab": {},
    "colab_type": "code",
    "id": "bb3yftYAQaa_"
   },
   "outputs": [],
   "source": [
    "# COMPLETAR"
   ]
  },
  {
   "cell_type": "markdown",
   "metadata": {
    "colab_type": "text",
    "id": "k_U5KgHOQabL"
   },
   "source": [
    "## Extras Uno\n",
    "\n",
    "A continuación, puedes ver cómo creamos los ejemplos para la bitácora. Prestar atención a que usamos la función `plt.subplot()`. ¿Qué te parece que hace? También, prestar atención a cómo modificar el tamaño de una figura."
   ]
  },
  {
   "cell_type": "code",
   "execution_count": null,
   "metadata": {
    "colab": {},
    "colab_type": "code",
    "id": "sWR2WZIfQabS"
   },
   "outputs": [],
   "source": [
    "import numpy as np\n",
    "import matplotlib.pyplot as plt"
   ]
  },
  {
   "cell_type": "code",
   "execution_count": null,
   "metadata": {
    "colab": {},
    "colab_type": "code",
    "id": "6gIHQX-IQabb"
   },
   "outputs": [],
   "source": [
    "x = np.linspace(0,10,50)\n",
    "y = np.sin(x)"
   ]
  },
  {
   "cell_type": "code",
   "execution_count": null,
   "metadata": {
    "colab": {},
    "colab_type": "code",
    "id": "3RsrEh-rQabq"
   },
   "outputs": [],
   "source": [
    "plt.figure(figsize = (6.4*3,4.8))\n",
    "plt.subplot(1,3,1)\n",
    "plt.scatter(x,y)\n",
    "\n",
    "plt.subplot(1,3,2)\n",
    "plt.plot(x,y)\n",
    "\n",
    "plt.subplot(1,3,3)\n",
    "plt.plot(x,y, 'o-')\n",
    "\n",
    "plt.tight_layout()\n",
    "# plt.savefig('DS_Bitacora_06_Ejemplos_puntos_y_lineas.png', dpi = 300)\n",
    "plt.show()"
   ]
  },
  {
   "cell_type": "code",
   "execution_count": null,
   "metadata": {
    "colab": {},
    "colab_type": "code",
    "id": "DKkyb3oJQab2"
   },
   "outputs": [],
   "source": [
    "x = np.linspace(0,10,200) + 0.15*np.random.randn(200)\n",
    "y = np.sin(x) + 0.15*np.random.randn(200)"
   ]
  },
  {
   "cell_type": "code",
   "execution_count": null,
   "metadata": {
    "colab": {},
    "colab_type": "code",
    "id": "kjtCOJtqQab_"
   },
   "outputs": [],
   "source": [
    "plt.figure(figsize = (6.4*2,4.8))\n",
    "plt.subplot(1,2,1)\n",
    "plt.scatter(x ,y)\n",
    "\n",
    "plt.subplot(1,2,2)\n",
    "plt.plot(x,y)\n",
    "\n",
    "\n",
    "plt.tight_layout()\n",
    "# plt.savefig('DS_Bitacora_06_Ejemplos_puntos_y_lineas_malo.png', dpi = 300)\n",
    "plt.show()"
   ]
  },
  {
   "cell_type": "code",
   "execution_count": null,
   "metadata": {
    "colab": {},
    "colab_type": "code",
    "id": "j3_6shRvQacJ"
   },
   "outputs": [],
   "source": [
    "muestras = np.random.normal(50,15, 5000)"
   ]
  },
  {
   "cell_type": "code",
   "execution_count": null,
   "metadata": {
    "colab": {},
    "colab_type": "code",
    "id": "7a1a88vjQacT"
   },
   "outputs": [],
   "source": [
    "plt.figure(figsize = (6.4*2,4.8))\n",
    "plt.subplot(1,2,1)\n",
    "plt.hist(muestras, bins = range(0,101,10), alpha = 0.75, edgecolor='black', linewidth=1.2)\n",
    "\n",
    "plt.subplot(1,2,2)\n",
    "plt.hist(muestras, bins = range(0,101,10), alpha = 0.75, edgecolor='black', linewidth=1.2, weights=np.ones_like(muestras)/len(muestras))\n",
    "\n",
    "plt.tight_layout()\n",
    "# plt.savefig('DS_Bitacora_06_Ejemplos_histograma.png', dpi = 300)\n",
    "plt.show()"
   ]
  },
  {
   "cell_type": "code",
   "execution_count": null,
   "metadata": {
    "colab": {},
    "colab_type": "code",
    "id": "aorw8mo-QadC"
   },
   "outputs": [],
   "source": [
    "muestras = np.random.normal(50,15, 200)\n",
    "\n",
    "plt.figure(figsize = (6.4*3,4.8))\n",
    "plt.subplot(1,3,1)\n",
    "plt.hist(muestras, bins = np.linspace(0,100,6), alpha = 0.75, edgecolor='black', linewidth=1.2)\n",
    "\n",
    "plt.subplot(1,3,2)\n",
    "plt.hist(muestras, bins = np.linspace(0,100,21), alpha = 0.75, edgecolor='black', linewidth=1.2)\n",
    "\n",
    "plt.subplot(1,3,3)\n",
    "plt.hist(muestras, bins = np.linspace(0,100,101), alpha = 0.75, edgecolor='black', linewidth=1.2)\n",
    "\n",
    "plt.tight_layout()\n",
    "# plt.savefig('DS_Bitacora_06_Ejemplos_histograma_muchos_bines.png', dpi = 300)\n",
    "plt.show()"
   ]
  },
  {
   "cell_type": "markdown",
   "metadata": {
    "colab_type": "text",
    "id": "4sJrOnZDQadK"
   },
   "source": [
    "## Extras Dos \n",
    "\n",
    "Veamos cómo hacer algunos gráficos usando los elementos `fig` y `ax`. ¡Notar que algunas instrucciones son muy parecidas!"
   ]
  },
  {
   "cell_type": "code",
   "execution_count": null,
   "metadata": {
    "colab": {},
    "colab_type": "code",
    "id": "8dBRgIMVQadM"
   },
   "outputs": [],
   "source": [
    "# Generamos las dos curvas\n",
    "x = np.arange(0.0, 2.0, 0.01)\n",
    "y = 1 + np.sin(2 * np.pi * x)\n",
    "\n",
    "x2 = np.arange(0.0, 2.0, 0.01)\n",
    "y2 = x2\n",
    "\n",
    "# Generamos la figura y los ejes\n",
    "fig = plt.figure()\n",
    "ax = plt.axes()\n",
    "\n",
    "# Ploteamos las dos lineas\n",
    "ax.plot(x, y)\n",
    "ax.plot(x2,y2)"
   ]
  },
  {
   "cell_type": "code",
   "execution_count": null,
   "metadata": {
    "colab": {},
    "colab_type": "code",
    "id": "VdOdvzY3QadW"
   },
   "outputs": [],
   "source": [
    "fig = plt.figure()\n",
    "ax = plt.axes()\n",
    "\n",
    "ax.plot(x, y, color = 'k', linewidth = 2, linestyle = '-')\n",
    "\n",
    "# Podemos agregarle etiquetas a los ejes y un titulo al gráfico\n",
    "ax.set(xlabel='Tiempo (s)', ylabel='Temperatura (°C)',\n",
    "       title='Valor de temperatura')\n",
    "\n",
    "# Podemos también modificar los márgenes del gráfico\n",
    "ax.set(xlim = (0,1), ylim = (0,4))\n",
    "\n",
    "# Este comando enciende la grilla de referencia \n",
    "ax.grid()\n",
    "\n",
    "# Con este comando pueden guardar la imagen en su pc\n",
    "#fig.savefig(\"test.png\")"
   ]
  }
 ],
 "metadata": {
  "colab": {
   "collapsed_sections": [],
   "name": "DS_Bitácora_06_Matplotlib.ipynb",
   "provenance": []
  },
  "kernelspec": {
   "display_name": "Python 3",
   "language": "python",
   "name": "python3"
  },
  "language_info": {
   "codemirror_mode": {
    "name": "ipython",
    "version": 3
   },
   "file_extension": ".py",
   "mimetype": "text/x-python",
   "name": "python",
   "nbconvert_exporter": "python",
   "pygments_lexer": "ipython3",
   "version": "3.8.3"
  }
 },
 "nbformat": 4,
 "nbformat_minor": 4
}
