{
 "cells": [
  {
   "cell_type": "markdown",
   "metadata": {
    "id": "bK3pqTH0Luyf"
   },
   "source": [
    "# Optimización de Hiperparámetros\n",
    "\n",
    "¡Gracias Martín Gonella por la creación de los contenidos de este encuentro!\n",
    "\n",
    "\n",
    "Comenzamos a trabajar con Optimización de Hiperparámetros en Python con Scikit-Learn, para ello vamos a empezar con ejemplo guiado usando como conjunto de datos el mismo dataset que en el Notebook anterior, Breast Cancer Wisconsin (diagnostic) dataset . Al finalizar, proponemos un análisis similar, pero con otro conjunto de datos. \n",
    "\n",
    "## 1. Breast Cancer Wisconsin (diagnostic) dataset"
   ]
  },
  {
   "cell_type": "code",
   "execution_count": 53,
   "metadata": {
    "id": "MVLM-Z0zLuyk"
   },
   "outputs": [],
   "source": [
    "import pandas as pd\n",
    "import numpy as np\n",
    "import scipy as sp\n",
    "\n",
    "from sklearn.metrics import classification_report\n",
    "from sklearn.model_selection import train_test_split\n",
    "from sklearn.neighbors import KNeighborsClassifier\n",
    "from sklearn.model_selection import GridSearchCV\n",
    "from sklearn.model_selection import RandomizedSearchCV\n",
    "from sklearn.metrics import confusion_matrix, accuracy_score"
   ]
  },
  {
   "cell_type": "markdown",
   "metadata": {
    "id": "3E9wDjvOLuyq"
   },
   "source": [
    "**Para investigar:** ¿Reconoces todas las librerías que acabamos de importar y sus objetos? Si no es así, recuerda simpre leer la documentación."
   ]
  },
  {
   "cell_type": "markdown",
   "metadata": {
    "id": "Joj6_SWyLuyq"
   },
   "source": [
    "Importamos el dataset así como hicimos en el notebook anterior."
   ]
  },
  {
   "cell_type": "code",
   "execution_count": 2,
   "metadata": {
    "id": "S3OjdVBKLuyr"
   },
   "outputs": [],
   "source": [
    "from sklearn.datasets import load_breast_cancer\n",
    "data = load_breast_cancer()"
   ]
  },
  {
   "cell_type": "markdown",
   "metadata": {
    "id": "RxCeoN3cLuyx"
   },
   "source": [
    "Si observan la variable `data`, podrán notar que es un `diccionario`, por lo tanto vamos a proceder a convertirlo en un `DataFrame` de Pandas."
   ]
  },
  {
   "cell_type": "code",
   "execution_count": 3,
   "metadata": {
    "id": "FRUT_r1aLuyx"
   },
   "outputs": [],
   "source": [
    "df = pd.DataFrame(np.c_[data['data'], data['target']],\n",
    "                  columns= np.append(data['feature_names'], ['target']))"
   ]
  },
  {
   "cell_type": "markdown",
   "metadata": {
    "id": "EqQj1sXALuy2"
   },
   "source": [
    "Y, como ya lo exploramos, simplemente vamos a seleccionar los atributos que utilizaremos."
   ]
  },
  {
   "cell_type": "code",
   "execution_count": 4,
   "metadata": {
    "id": "o7oN_raTLuy3",
    "outputId": "b577f354-505e-4de4-a6d2-faf786c0bc12"
   },
   "outputs": [
    {
     "data": {
      "text/plain": [
       "['mean radius',\n",
       " 'mean texture',\n",
       " 'mean perimeter',\n",
       " 'mean area',\n",
       " 'mean smoothness',\n",
       " 'mean compactness',\n",
       " 'mean concavity',\n",
       " 'mean concave points',\n",
       " 'mean symmetry',\n",
       " 'mean fractal dimension']"
      ]
     },
     "execution_count": 4,
     "metadata": {},
     "output_type": "execute_result"
    }
   ],
   "source": [
    "features_mean = list(df.columns[0:10])\n",
    "features_mean"
   ]
  },
  {
   "cell_type": "code",
   "execution_count": 5,
   "metadata": {
    "id": "r8qCFrPQLuy8",
    "outputId": "fb1c5e6a-756f-42d1-f544-fad7013f85b5"
   },
   "outputs": [
    {
     "data": {
      "text/html": [
       "<div>\n",
       "<style scoped>\n",
       "    .dataframe tbody tr th:only-of-type {\n",
       "        vertical-align: middle;\n",
       "    }\n",
       "\n",
       "    .dataframe tbody tr th {\n",
       "        vertical-align: top;\n",
       "    }\n",
       "\n",
       "    .dataframe thead th {\n",
       "        text-align: right;\n",
       "    }\n",
       "</style>\n",
       "<table border=\"1\" class=\"dataframe\">\n",
       "  <thead>\n",
       "    <tr style=\"text-align: right;\">\n",
       "      <th></th>\n",
       "      <th>mean radius</th>\n",
       "      <th>mean texture</th>\n",
       "      <th>mean perimeter</th>\n",
       "      <th>mean area</th>\n",
       "      <th>mean smoothness</th>\n",
       "      <th>mean compactness</th>\n",
       "      <th>mean concavity</th>\n",
       "      <th>mean concave points</th>\n",
       "      <th>mean symmetry</th>\n",
       "      <th>mean fractal dimension</th>\n",
       "      <th>target</th>\n",
       "    </tr>\n",
       "  </thead>\n",
       "  <tbody>\n",
       "    <tr>\n",
       "      <th>0</th>\n",
       "      <td>17.99</td>\n",
       "      <td>10.38</td>\n",
       "      <td>122.80</td>\n",
       "      <td>1001.0</td>\n",
       "      <td>0.11840</td>\n",
       "      <td>0.27760</td>\n",
       "      <td>0.3001</td>\n",
       "      <td>0.14710</td>\n",
       "      <td>0.2419</td>\n",
       "      <td>0.07871</td>\n",
       "      <td>0.0</td>\n",
       "    </tr>\n",
       "    <tr>\n",
       "      <th>1</th>\n",
       "      <td>20.57</td>\n",
       "      <td>17.77</td>\n",
       "      <td>132.90</td>\n",
       "      <td>1326.0</td>\n",
       "      <td>0.08474</td>\n",
       "      <td>0.07864</td>\n",
       "      <td>0.0869</td>\n",
       "      <td>0.07017</td>\n",
       "      <td>0.1812</td>\n",
       "      <td>0.05667</td>\n",
       "      <td>0.0</td>\n",
       "    </tr>\n",
       "    <tr>\n",
       "      <th>2</th>\n",
       "      <td>19.69</td>\n",
       "      <td>21.25</td>\n",
       "      <td>130.00</td>\n",
       "      <td>1203.0</td>\n",
       "      <td>0.10960</td>\n",
       "      <td>0.15990</td>\n",
       "      <td>0.1974</td>\n",
       "      <td>0.12790</td>\n",
       "      <td>0.2069</td>\n",
       "      <td>0.05999</td>\n",
       "      <td>0.0</td>\n",
       "    </tr>\n",
       "    <tr>\n",
       "      <th>3</th>\n",
       "      <td>11.42</td>\n",
       "      <td>20.38</td>\n",
       "      <td>77.58</td>\n",
       "      <td>386.1</td>\n",
       "      <td>0.14250</td>\n",
       "      <td>0.28390</td>\n",
       "      <td>0.2414</td>\n",
       "      <td>0.10520</td>\n",
       "      <td>0.2597</td>\n",
       "      <td>0.09744</td>\n",
       "      <td>0.0</td>\n",
       "    </tr>\n",
       "    <tr>\n",
       "      <th>4</th>\n",
       "      <td>20.29</td>\n",
       "      <td>14.34</td>\n",
       "      <td>135.10</td>\n",
       "      <td>1297.0</td>\n",
       "      <td>0.10030</td>\n",
       "      <td>0.13280</td>\n",
       "      <td>0.1980</td>\n",
       "      <td>0.10430</td>\n",
       "      <td>0.1809</td>\n",
       "      <td>0.05883</td>\n",
       "      <td>0.0</td>\n",
       "    </tr>\n",
       "  </tbody>\n",
       "</table>\n",
       "</div>"
      ],
      "text/plain": [
       "   mean radius  mean texture  mean perimeter  mean area  mean smoothness  \\\n",
       "0        17.99         10.38          122.80     1001.0          0.11840   \n",
       "1        20.57         17.77          132.90     1326.0          0.08474   \n",
       "2        19.69         21.25          130.00     1203.0          0.10960   \n",
       "3        11.42         20.38           77.58      386.1          0.14250   \n",
       "4        20.29         14.34          135.10     1297.0          0.10030   \n",
       "\n",
       "   mean compactness  mean concavity  mean concave points  mean symmetry  \\\n",
       "0           0.27760          0.3001              0.14710         0.2419   \n",
       "1           0.07864          0.0869              0.07017         0.1812   \n",
       "2           0.15990          0.1974              0.12790         0.2069   \n",
       "3           0.28390          0.2414              0.10520         0.2597   \n",
       "4           0.13280          0.1980              0.10430         0.1809   \n",
       "\n",
       "   mean fractal dimension  target  \n",
       "0                 0.07871     0.0  \n",
       "1                 0.05667     0.0  \n",
       "2                 0.05999     0.0  \n",
       "3                 0.09744     0.0  \n",
       "4                 0.05883     0.0  "
      ]
     },
     "execution_count": 5,
     "metadata": {},
     "output_type": "execute_result"
    }
   ],
   "source": [
    "data = df[features_mean + ['target']]\n",
    "data.head()"
   ]
  },
  {
   "cell_type": "markdown",
   "metadata": {
    "id": "PD0HJU5YLuzA"
   },
   "source": [
    "Procedemos a separar los `features` del `target`, para luego poder dividir los datos en conjunto de `train` y `test`."
   ]
  },
  {
   "cell_type": "code",
   "execution_count": 6,
   "metadata": {
    "id": "jPfTV5hkLuzA"
   },
   "outputs": [],
   "source": [
    "X = data.drop(['target'],axis=1)\n",
    "y = data['target']\n",
    "\n",
    "# Dividimos los datos en Train y Test\n",
    "X_train, X_test, y_train, y_test = train_test_split(X, y, random_state=42)"
   ]
  },
  {
   "cell_type": "markdown",
   "metadata": {
    "id": "gWDzTTZjLuzE"
   },
   "source": [
    "Genial, ¡ya tenemos listos nuestros datos!\n",
    "\n",
    "Ahora vamos a escoger un modelo de clasificación, vamos con un `KNeighborsClassifier`. Luego, puedes probar con algún otro clasificador."
   ]
  },
  {
   "cell_type": "code",
   "execution_count": 7,
   "metadata": {
    "id": "zTGe4dENLuzE"
   },
   "outputs": [],
   "source": [
    "knn = KNeighborsClassifier()"
   ]
  },
  {
   "cell_type": "markdown",
   "metadata": {
    "id": "KSZtJHc9LuzL"
   },
   "source": [
    "Como recordarás de la bitácora, vimos tres estrategias para realizar una optimización de hiperparámetros:\n",
    "\n",
    "    * Manual.\n",
    "    * Por grilla.\n",
    "    * Aleatoria.\n",
    "    \n",
    "Como ya mencionamos la búsqueda manual puede resultar muy tediosa y poco eficiente, por lo tanto vamos a probar con las dos restantes: **aleatoria** y por **grilla**. Además, ya tenemos una idea del desempeño de estos modelos sobre este dataset del encuentro anterior.\n",
    "\n",
    "### 1.1 Grid Search\n",
    "\n",
    "Definamos las grillas que necesitamos para el `GridSearchCV`. ¿Que tipo de objeto - desde el punto de vista de la programación - es? Prestar atención también qué tipo de datos usamos para cada hiperparámetro. Como siempre, mirar la documentación de la clase."
   ]
  },
  {
   "cell_type": "code",
   "execution_count": 8,
   "metadata": {
    "id": "RsPNkriyLuzL"
   },
   "outputs": [],
   "source": [
    "# Grilla para Grid Search\n",
    "param_grid = {'n_neighbors':np.arange(1, 20),\n",
    "              'weights': ['uniform', 'distance'], \n",
    "              'leaf_size':[1,3,5,7,10],\n",
    "              'algorithm':['auto', 'kd_tree']}"
   ]
  },
  {
   "cell_type": "markdown",
   "metadata": {
    "id": "xIlZoRugLuzP"
   },
   "source": [
    "Una vez definida la grilla, ya podemos entrenar el modelo. "
   ]
  },
  {
   "cell_type": "code",
   "execution_count": 9,
   "metadata": {
    "id": "GwBzgeIjLuzQ",
    "outputId": "b1b42b2b-1a0c-4fae-cad5-f0effe2120c9"
   },
   "outputs": [
    {
     "data": {
      "text/plain": [
       "GridSearchCV(cv=5, estimator=KNeighborsClassifier(),\n",
       "             param_grid={'algorithm': ['auto', 'kd_tree'],\n",
       "                         'leaf_size': [1, 3, 5, 7, 10],\n",
       "                         'n_neighbors': array([ 1,  2,  3,  4,  5,  6,  7,  8,  9, 10, 11, 12, 13, 14, 15, 16, 17,\n",
       "       18, 19]),\n",
       "                         'weights': ['uniform', 'distance']})"
      ]
     },
     "execution_count": 9,
     "metadata": {},
     "output_type": "execute_result"
    }
   ],
   "source": [
    "# ESTRATEGIA 1: Grid Search\n",
    "model = GridSearchCV(knn, param_grid=param_grid, cv=5)\n",
    "\n",
    "# Entrenamos: KNN con la grilla definida arriba y CV con tamaño de Fold=5\n",
    "model.fit(X_train, y_train)"
   ]
  },
  {
   "cell_type": "markdown",
   "metadata": {
    "id": "OLZopXMqLuzT"
   },
   "source": [
    "Genial, ya tenemos entrenado nuestro modelo KNN para una grilla de hiperparámetros. Además, dichas búsquedas por grilla vienen acompañadas de un validación cruzada, por lo cuál también hemos validado correctamente cada modelo con su correspondiente configuración de hiperparámetros.\n",
    "\n",
    "<img src=\"https://media.giphy.com/media/rVbAzUUSUC6dO/giphy.gif\" width=\"400\" />\n",
    "\n",
    "**Pero, ¿Cómo elijo la mejor configuración? ¿Cuál es la mejor performance? ¿Y el resto de los resultados?**\n",
    "\n",
    "**Pista:** La respuesta correcta siempre se encuentra en la documentación.\n",
    "\n",
    "Existen 3 atributos del modelo (clase de la librería sklearn) que nos van a ayudar a responder éstas preguntas: `best_params_`, `best_score_` y `cv_results_`\n",
    "\n",
    "**Para investigar:** Antes de continuar con la ejecución de la notebbok, lee un poco más acerca de la documentación en general de [`GridSearchCV()`](https://scikit-learn.org/stable/modules/generated/sklearn.model_selection.GridSearchCV.html) y [`RandomizedSearchCV()`](https://scikit-learn.org/stable/modules/generated/sklearn.model_selection.RandomizedSearchCV.html) y en particular sobre los 3 atributos que acabamos de mencionar.\n",
    "\n",
    "<img src=\"https://media.giphy.com/media/2k8EwXEwhoQGQ/giphy.gif\" width=\"400\" />"
   ]
  },
  {
   "cell_type": "code",
   "execution_count": 10,
   "metadata": {
    "id": "lrkuhiQCLuzU",
    "outputId": "8e077337-030c-436a-a095-5b90358f7a36"
   },
   "outputs": [
    {
     "name": "stdout",
     "output_type": "stream",
     "text": [
      "Mejores parametros: {'algorithm': 'auto', 'leaf_size': 1, 'n_neighbors': 18, 'weights': 'uniform'}\n",
      "Mejor Score: 0.8872777017783857\n",
      "\n"
     ]
    },
    {
     "data": {
      "text/html": [
       "<div>\n",
       "<style scoped>\n",
       "    .dataframe tbody tr th:only-of-type {\n",
       "        vertical-align: middle;\n",
       "    }\n",
       "\n",
       "    .dataframe tbody tr th {\n",
       "        vertical-align: top;\n",
       "    }\n",
       "\n",
       "    .dataframe thead th {\n",
       "        text-align: right;\n",
       "    }\n",
       "</style>\n",
       "<table border=\"1\" class=\"dataframe\">\n",
       "  <thead>\n",
       "    <tr style=\"text-align: right;\">\n",
       "      <th></th>\n",
       "      <th>mean_fit_time</th>\n",
       "      <th>std_fit_time</th>\n",
       "      <th>mean_score_time</th>\n",
       "      <th>std_score_time</th>\n",
       "      <th>param_algorithm</th>\n",
       "      <th>param_leaf_size</th>\n",
       "      <th>param_n_neighbors</th>\n",
       "      <th>param_weights</th>\n",
       "      <th>params</th>\n",
       "      <th>split0_test_score</th>\n",
       "      <th>split1_test_score</th>\n",
       "      <th>split2_test_score</th>\n",
       "      <th>split3_test_score</th>\n",
       "      <th>split4_test_score</th>\n",
       "      <th>mean_test_score</th>\n",
       "      <th>std_test_score</th>\n",
       "      <th>rank_test_score</th>\n",
       "    </tr>\n",
       "  </thead>\n",
       "  <tbody>\n",
       "    <tr>\n",
       "      <th>0</th>\n",
       "      <td>0.007380</td>\n",
       "      <td>0.001019</td>\n",
       "      <td>0.011370</td>\n",
       "      <td>0.002052</td>\n",
       "      <td>auto</td>\n",
       "      <td>1</td>\n",
       "      <td>1</td>\n",
       "      <td>uniform</td>\n",
       "      <td>{'algorithm': 'auto', 'leaf_size': 1, 'n_neigh...</td>\n",
       "      <td>0.895349</td>\n",
       "      <td>0.858824</td>\n",
       "      <td>0.858824</td>\n",
       "      <td>0.823529</td>\n",
       "      <td>0.800000</td>\n",
       "      <td>0.847305</td>\n",
       "      <td>0.032792</td>\n",
       "      <td>341</td>\n",
       "    </tr>\n",
       "    <tr>\n",
       "      <th>1</th>\n",
       "      <td>0.007979</td>\n",
       "      <td>0.003090</td>\n",
       "      <td>0.007979</td>\n",
       "      <td>0.001783</td>\n",
       "      <td>auto</td>\n",
       "      <td>1</td>\n",
       "      <td>1</td>\n",
       "      <td>distance</td>\n",
       "      <td>{'algorithm': 'auto', 'leaf_size': 1, 'n_neigh...</td>\n",
       "      <td>0.895349</td>\n",
       "      <td>0.858824</td>\n",
       "      <td>0.858824</td>\n",
       "      <td>0.823529</td>\n",
       "      <td>0.800000</td>\n",
       "      <td>0.847305</td>\n",
       "      <td>0.032792</td>\n",
       "      <td>341</td>\n",
       "    </tr>\n",
       "    <tr>\n",
       "      <th>2</th>\n",
       "      <td>0.009374</td>\n",
       "      <td>0.003002</td>\n",
       "      <td>0.016356</td>\n",
       "      <td>0.005870</td>\n",
       "      <td>auto</td>\n",
       "      <td>1</td>\n",
       "      <td>2</td>\n",
       "      <td>uniform</td>\n",
       "      <td>{'algorithm': 'auto', 'leaf_size': 1, 'n_neigh...</td>\n",
       "      <td>0.895349</td>\n",
       "      <td>0.835294</td>\n",
       "      <td>0.847059</td>\n",
       "      <td>0.835294</td>\n",
       "      <td>0.811765</td>\n",
       "      <td>0.844952</td>\n",
       "      <td>0.027685</td>\n",
       "      <td>371</td>\n",
       "    </tr>\n",
       "    <tr>\n",
       "      <th>3</th>\n",
       "      <td>0.017553</td>\n",
       "      <td>0.010453</td>\n",
       "      <td>0.013564</td>\n",
       "      <td>0.005337</td>\n",
       "      <td>auto</td>\n",
       "      <td>1</td>\n",
       "      <td>2</td>\n",
       "      <td>distance</td>\n",
       "      <td>{'algorithm': 'auto', 'leaf_size': 1, 'n_neigh...</td>\n",
       "      <td>0.895349</td>\n",
       "      <td>0.858824</td>\n",
       "      <td>0.858824</td>\n",
       "      <td>0.823529</td>\n",
       "      <td>0.800000</td>\n",
       "      <td>0.847305</td>\n",
       "      <td>0.032792</td>\n",
       "      <td>341</td>\n",
       "    </tr>\n",
       "    <tr>\n",
       "      <th>4</th>\n",
       "      <td>0.009773</td>\n",
       "      <td>0.002475</td>\n",
       "      <td>0.014547</td>\n",
       "      <td>0.002169</td>\n",
       "      <td>auto</td>\n",
       "      <td>1</td>\n",
       "      <td>3</td>\n",
       "      <td>uniform</td>\n",
       "      <td>{'algorithm': 'auto', 'leaf_size': 1, 'n_neigh...</td>\n",
       "      <td>0.895349</td>\n",
       "      <td>0.894118</td>\n",
       "      <td>0.941176</td>\n",
       "      <td>0.811765</td>\n",
       "      <td>0.870588</td>\n",
       "      <td>0.882599</td>\n",
       "      <td>0.042162</td>\n",
       "      <td>31</td>\n",
       "    </tr>\n",
       "    <tr>\n",
       "      <th>...</th>\n",
       "      <td>...</td>\n",
       "      <td>...</td>\n",
       "      <td>...</td>\n",
       "      <td>...</td>\n",
       "      <td>...</td>\n",
       "      <td>...</td>\n",
       "      <td>...</td>\n",
       "      <td>...</td>\n",
       "      <td>...</td>\n",
       "      <td>...</td>\n",
       "      <td>...</td>\n",
       "      <td>...</td>\n",
       "      <td>...</td>\n",
       "      <td>...</td>\n",
       "      <td>...</td>\n",
       "      <td>...</td>\n",
       "      <td>...</td>\n",
       "    </tr>\n",
       "    <tr>\n",
       "      <th>375</th>\n",
       "      <td>0.004388</td>\n",
       "      <td>0.001352</td>\n",
       "      <td>0.003989</td>\n",
       "      <td>0.000631</td>\n",
       "      <td>kd_tree</td>\n",
       "      <td>10</td>\n",
       "      <td>17</td>\n",
       "      <td>distance</td>\n",
       "      <td>{'algorithm': 'kd_tree', 'leaf_size': 10, 'n_n...</td>\n",
       "      <td>0.895349</td>\n",
       "      <td>0.870588</td>\n",
       "      <td>0.941176</td>\n",
       "      <td>0.835294</td>\n",
       "      <td>0.870588</td>\n",
       "      <td>0.882599</td>\n",
       "      <td>0.034986</td>\n",
       "      <td>31</td>\n",
       "    </tr>\n",
       "    <tr>\n",
       "      <th>376</th>\n",
       "      <td>0.005786</td>\n",
       "      <td>0.002779</td>\n",
       "      <td>0.009573</td>\n",
       "      <td>0.001197</td>\n",
       "      <td>kd_tree</td>\n",
       "      <td>10</td>\n",
       "      <td>18</td>\n",
       "      <td>uniform</td>\n",
       "      <td>{'algorithm': 'kd_tree', 'leaf_size': 10, 'n_n...</td>\n",
       "      <td>0.906977</td>\n",
       "      <td>0.870588</td>\n",
       "      <td>0.952941</td>\n",
       "      <td>0.835294</td>\n",
       "      <td>0.870588</td>\n",
       "      <td>0.887278</td>\n",
       "      <td>0.039898</td>\n",
       "      <td>1</td>\n",
       "    </tr>\n",
       "    <tr>\n",
       "      <th>377</th>\n",
       "      <td>0.004386</td>\n",
       "      <td>0.000799</td>\n",
       "      <td>0.003791</td>\n",
       "      <td>0.000747</td>\n",
       "      <td>kd_tree</td>\n",
       "      <td>10</td>\n",
       "      <td>18</td>\n",
       "      <td>distance</td>\n",
       "      <td>{'algorithm': 'kd_tree', 'leaf_size': 10, 'n_n...</td>\n",
       "      <td>0.895349</td>\n",
       "      <td>0.882353</td>\n",
       "      <td>0.941176</td>\n",
       "      <td>0.835294</td>\n",
       "      <td>0.870588</td>\n",
       "      <td>0.884952</td>\n",
       "      <td>0.034491</td>\n",
       "      <td>11</td>\n",
       "    </tr>\n",
       "    <tr>\n",
       "      <th>378</th>\n",
       "      <td>0.003994</td>\n",
       "      <td>0.000632</td>\n",
       "      <td>0.006978</td>\n",
       "      <td>0.000006</td>\n",
       "      <td>kd_tree</td>\n",
       "      <td>10</td>\n",
       "      <td>19</td>\n",
       "      <td>uniform</td>\n",
       "      <td>{'algorithm': 'kd_tree', 'leaf_size': 10, 'n_n...</td>\n",
       "      <td>0.906977</td>\n",
       "      <td>0.858824</td>\n",
       "      <td>0.952941</td>\n",
       "      <td>0.823529</td>\n",
       "      <td>0.870588</td>\n",
       "      <td>0.882572</td>\n",
       "      <td>0.044139</td>\n",
       "      <td>131</td>\n",
       "    </tr>\n",
       "    <tr>\n",
       "      <th>379</th>\n",
       "      <td>0.003392</td>\n",
       "      <td>0.000489</td>\n",
       "      <td>0.003390</td>\n",
       "      <td>0.000489</td>\n",
       "      <td>kd_tree</td>\n",
       "      <td>10</td>\n",
       "      <td>19</td>\n",
       "      <td>distance</td>\n",
       "      <td>{'algorithm': 'kd_tree', 'leaf_size': 10, 'n_n...</td>\n",
       "      <td>0.895349</td>\n",
       "      <td>0.870588</td>\n",
       "      <td>0.941176</td>\n",
       "      <td>0.835294</td>\n",
       "      <td>0.870588</td>\n",
       "      <td>0.882599</td>\n",
       "      <td>0.034986</td>\n",
       "      <td>31</td>\n",
       "    </tr>\n",
       "  </tbody>\n",
       "</table>\n",
       "<p>380 rows × 17 columns</p>\n",
       "</div>"
      ],
      "text/plain": [
       "     mean_fit_time  std_fit_time  mean_score_time  std_score_time  \\\n",
       "0         0.007380      0.001019         0.011370        0.002052   \n",
       "1         0.007979      0.003090         0.007979        0.001783   \n",
       "2         0.009374      0.003002         0.016356        0.005870   \n",
       "3         0.017553      0.010453         0.013564        0.005337   \n",
       "4         0.009773      0.002475         0.014547        0.002169   \n",
       "..             ...           ...              ...             ...   \n",
       "375       0.004388      0.001352         0.003989        0.000631   \n",
       "376       0.005786      0.002779         0.009573        0.001197   \n",
       "377       0.004386      0.000799         0.003791        0.000747   \n",
       "378       0.003994      0.000632         0.006978        0.000006   \n",
       "379       0.003392      0.000489         0.003390        0.000489   \n",
       "\n",
       "    param_algorithm param_leaf_size param_n_neighbors param_weights  \\\n",
       "0              auto               1                 1       uniform   \n",
       "1              auto               1                 1      distance   \n",
       "2              auto               1                 2       uniform   \n",
       "3              auto               1                 2      distance   \n",
       "4              auto               1                 3       uniform   \n",
       "..              ...             ...               ...           ...   \n",
       "375         kd_tree              10                17      distance   \n",
       "376         kd_tree              10                18       uniform   \n",
       "377         kd_tree              10                18      distance   \n",
       "378         kd_tree              10                19       uniform   \n",
       "379         kd_tree              10                19      distance   \n",
       "\n",
       "                                                params  split0_test_score  \\\n",
       "0    {'algorithm': 'auto', 'leaf_size': 1, 'n_neigh...           0.895349   \n",
       "1    {'algorithm': 'auto', 'leaf_size': 1, 'n_neigh...           0.895349   \n",
       "2    {'algorithm': 'auto', 'leaf_size': 1, 'n_neigh...           0.895349   \n",
       "3    {'algorithm': 'auto', 'leaf_size': 1, 'n_neigh...           0.895349   \n",
       "4    {'algorithm': 'auto', 'leaf_size': 1, 'n_neigh...           0.895349   \n",
       "..                                                 ...                ...   \n",
       "375  {'algorithm': 'kd_tree', 'leaf_size': 10, 'n_n...           0.895349   \n",
       "376  {'algorithm': 'kd_tree', 'leaf_size': 10, 'n_n...           0.906977   \n",
       "377  {'algorithm': 'kd_tree', 'leaf_size': 10, 'n_n...           0.895349   \n",
       "378  {'algorithm': 'kd_tree', 'leaf_size': 10, 'n_n...           0.906977   \n",
       "379  {'algorithm': 'kd_tree', 'leaf_size': 10, 'n_n...           0.895349   \n",
       "\n",
       "     split1_test_score  split2_test_score  split3_test_score  \\\n",
       "0             0.858824           0.858824           0.823529   \n",
       "1             0.858824           0.858824           0.823529   \n",
       "2             0.835294           0.847059           0.835294   \n",
       "3             0.858824           0.858824           0.823529   \n",
       "4             0.894118           0.941176           0.811765   \n",
       "..                 ...                ...                ...   \n",
       "375           0.870588           0.941176           0.835294   \n",
       "376           0.870588           0.952941           0.835294   \n",
       "377           0.882353           0.941176           0.835294   \n",
       "378           0.858824           0.952941           0.823529   \n",
       "379           0.870588           0.941176           0.835294   \n",
       "\n",
       "     split4_test_score  mean_test_score  std_test_score  rank_test_score  \n",
       "0             0.800000         0.847305        0.032792              341  \n",
       "1             0.800000         0.847305        0.032792              341  \n",
       "2             0.811765         0.844952        0.027685              371  \n",
       "3             0.800000         0.847305        0.032792              341  \n",
       "4             0.870588         0.882599        0.042162               31  \n",
       "..                 ...              ...             ...              ...  \n",
       "375           0.870588         0.882599        0.034986               31  \n",
       "376           0.870588         0.887278        0.039898                1  \n",
       "377           0.870588         0.884952        0.034491               11  \n",
       "378           0.870588         0.882572        0.044139              131  \n",
       "379           0.870588         0.882599        0.034986               31  \n",
       "\n",
       "[380 rows x 17 columns]"
      ]
     },
     "execution_count": 10,
     "metadata": {},
     "output_type": "execute_result"
    }
   ],
   "source": [
    "print(\"Mejores parametros: \"+str(model.best_params_))\n",
    "print(\"Mejor Score: \"+str(model.best_score_)+'\\n')\n",
    "\n",
    "scores = pd.DataFrame(model.cv_results_)\n",
    "scores"
   ]
  },
  {
   "cell_type": "markdown",
   "metadata": {
    "id": "BEKf4YN0LuzY"
   },
   "source": [
    "En este DataFrame están todos los resultados que devuelve `GridSearchCV()`. Hay mucha información para explorar, pero corre las siguientes celdas antes de hacerlo.\n",
    "\n",
    "Ya leímos la documentación y por lo tanto ya sabemos que podemos predecir con el mejor modelo de la siguiente manera:"
   ]
  },
  {
   "cell_type": "code",
   "execution_count": 11,
   "metadata": {
    "id": "D-mjiHV8LuzZ"
   },
   "outputs": [],
   "source": [
    "#Predecimos en los datos de test\n",
    "prediction = model.predict(X_test)"
   ]
  },
  {
   "cell_type": "markdown",
   "metadata": {
    "id": "jzBRWIP6Luzd"
   },
   "source": [
    "¿Por qué predecimos sobre el conjunto de test?¿Estuvo involucrado este conjunto en el entrenamiento del modelo?"
   ]
  },
  {
   "cell_type": "code",
   "execution_count": 12,
   "metadata": {
    "id": "MkjtB6fFLuzg",
    "outputId": "498f6f91-6abf-4452-af09-2ecf33b36b34"
   },
   "outputs": [
    {
     "name": "stdout",
     "output_type": "stream",
     "text": [
      "Matriz de confusión:\n",
      "[[44 10]\n",
      " [ 1 88]]\n"
     ]
    }
   ],
   "source": [
    "# Matriz de Confusion\n",
    "cm = confusion_matrix(y_test,prediction)\n",
    "print(\"Matriz de confusión:\")\n",
    "print(cm)"
   ]
  },
  {
   "cell_type": "code",
   "execution_count": 13,
   "metadata": {
    "id": "TFMKepJVLuzk",
    "outputId": "2a43b00f-5991-40ae-81cb-25f928faf248"
   },
   "outputs": [
    {
     "name": "stdout",
     "output_type": "stream",
     "text": [
      "Exactitud: 0.9230769230769231\n"
     ]
    }
   ],
   "source": [
    "print('Exactitud:', accuracy_score(y_test, prediction))"
   ]
  },
  {
   "cell_type": "code",
   "execution_count": 14,
   "metadata": {
    "id": "0M_zFEKFLuzp",
    "outputId": "0ef763d2-e00c-4804-a0ed-93b027acb4a1"
   },
   "outputs": [
    {
     "name": "stdout",
     "output_type": "stream",
     "text": [
      "Reporte de Clasificación:\n",
      "              precision    recall  f1-score   support\n",
      "\n",
      "         0.0       0.98      0.81      0.89        54\n",
      "         1.0       0.90      0.99      0.94        89\n",
      "\n",
      "    accuracy                           0.92       143\n",
      "   macro avg       0.94      0.90      0.92       143\n",
      "weighted avg       0.93      0.92      0.92       143\n",
      "\n"
     ]
    }
   ],
   "source": [
    "# Reporte de Clasificacion\n",
    "report = classification_report(y_test, prediction)\n",
    "print(\"Reporte de Clasificación:\")\n",
    "print(report)"
   ]
  },
  {
   "cell_type": "markdown",
   "metadata": {
    "id": "pv3cD3HGLuzt"
   },
   "source": [
    "**Para pensar**: ¿mejoró el desempeño del modelo con respecto a lo que hicimos en la bitácora anterior?¿Qué otros hiperparámetros puedes explorar para ver si mejora el desempeñó?¿Se puede hacer una mejor exploración de los resultados de `GridSearchCV`? Ahora sí, tómate un tiempo para explorar toda la información que devuelve.\n",
    "\n",
    "**Ejercicio - Challenge:** Repite lo que hicimos, pero para un árbol de decisión. Algunos hiperparámetros que pueden ser interesantes de explorar, en este caso, son: `criterion`, `max_depth`, `min_samples_split` y `min_samples_leaf`."
   ]
  },
  {
   "cell_type": "markdown",
   "metadata": {
    "id": "Ddm0YYoQLuzu"
   },
   "source": [
    "### 1.2 Random Search\n",
    "\n",
    "La metodología es muy parecida. La principal diferencia radica en que, para crear la grilla, ya no debemos pasar valores para los hiperparámetros, sino un generador aleatorio para cada atributo, en aquellos atributos que queremos que explore aleatoriamente."
   ]
  },
  {
   "cell_type": "code",
   "execution_count": 15,
   "metadata": {
    "id": "rPx1NASWLuzv"
   },
   "outputs": [],
   "source": [
    "# Grilla para Random Search\n",
    "param_dist = {'n_neighbors':sp.stats.randint(1, 20),\n",
    "              'weights': ['uniform', 'distance'], \n",
    "              'leaf_size':sp.stats.randint(1, 10),\n",
    "              'algorithm':['auto', 'kd_tree']}"
   ]
  },
  {
   "cell_type": "markdown",
   "metadata": {
    "id": "zrl8bjrwLuzy"
   },
   "source": [
    "Presta atenció a la documentación, para entender qué hace (es un poco larga, con el comienzo es suficiente):"
   ]
  },
  {
   "cell_type": "code",
   "execution_count": 16,
   "metadata": {
    "id": "lFXeJppVLuzz"
   },
   "outputs": [],
   "source": [
    "# help(sp.stats.randint)"
   ]
  },
  {
   "cell_type": "markdown",
   "metadata": {
    "id": "X9N0ZfQbLuz2"
   },
   "source": [
    "Ya podemos entrenar nuestro modelo. Presta atención al parámetro `n_iter`."
   ]
  },
  {
   "cell_type": "code",
   "execution_count": 17,
   "metadata": {
    "id": "CaLU_tWxLuz3",
    "outputId": "e154cd19-2e57-4dec-e0ce-2ea9acfc46bc"
   },
   "outputs": [
    {
     "data": {
      "text/plain": [
       "RandomizedSearchCV(cv=5, estimator=KNeighborsClassifier(), n_iter=100,\n",
       "                   param_distributions={'algorithm': ['auto', 'kd_tree'],\n",
       "                                        'leaf_size': <scipy.stats._distn_infrastructure.rv_frozen object at 0x00000247A7684D30>,\n",
       "                                        'n_neighbors': <scipy.stats._distn_infrastructure.rv_frozen object at 0x00000247A76C6850>,\n",
       "                                        'weights': ['uniform', 'distance']},\n",
       "                   random_state=0)"
      ]
     },
     "execution_count": 17,
     "metadata": {},
     "output_type": "execute_result"
    }
   ],
   "source": [
    "# ESTRATEGIA 2: Random Search\n",
    "model = RandomizedSearchCV(knn, param_dist,n_iter=100, random_state=0, cv=5)\n",
    "\n",
    "# Entrenamos: KNN con la grilla definida arriba y CV con tamaño de Fold=5\n",
    "model.fit(X_train, y_train)"
   ]
  },
  {
   "cell_type": "code",
   "execution_count": 18,
   "metadata": {
    "id": "dBwbJmStLuz8",
    "outputId": "131938ce-bb0e-4b4f-a98a-fb126437d103"
   },
   "outputs": [
    {
     "name": "stdout",
     "output_type": "stream",
     "text": [
      "Mejores parametros: {'algorithm': 'kd_tree', 'leaf_size': 1, 'n_neighbors': 18, 'weights': 'uniform'}\n",
      "Mejor Score: 0.8872777017783857\n",
      "\n"
     ]
    },
    {
     "data": {
      "text/html": [
       "<div>\n",
       "<style scoped>\n",
       "    .dataframe tbody tr th:only-of-type {\n",
       "        vertical-align: middle;\n",
       "    }\n",
       "\n",
       "    .dataframe tbody tr th {\n",
       "        vertical-align: top;\n",
       "    }\n",
       "\n",
       "    .dataframe thead th {\n",
       "        text-align: right;\n",
       "    }\n",
       "</style>\n",
       "<table border=\"1\" class=\"dataframe\">\n",
       "  <thead>\n",
       "    <tr style=\"text-align: right;\">\n",
       "      <th></th>\n",
       "      <th>mean_fit_time</th>\n",
       "      <th>std_fit_time</th>\n",
       "      <th>mean_score_time</th>\n",
       "      <th>std_score_time</th>\n",
       "      <th>param_algorithm</th>\n",
       "      <th>param_leaf_size</th>\n",
       "      <th>param_n_neighbors</th>\n",
       "      <th>param_weights</th>\n",
       "      <th>params</th>\n",
       "      <th>split0_test_score</th>\n",
       "      <th>split1_test_score</th>\n",
       "      <th>split2_test_score</th>\n",
       "      <th>split3_test_score</th>\n",
       "      <th>split4_test_score</th>\n",
       "      <th>mean_test_score</th>\n",
       "      <th>std_test_score</th>\n",
       "      <th>rank_test_score</th>\n",
       "    </tr>\n",
       "  </thead>\n",
       "  <tbody>\n",
       "    <tr>\n",
       "      <th>0</th>\n",
       "      <td>0.003989</td>\n",
       "      <td>0.000892</td>\n",
       "      <td>0.004389</td>\n",
       "      <td>0.001197</td>\n",
       "      <td>auto</td>\n",
       "      <td>6</td>\n",
       "      <td>1</td>\n",
       "      <td>distance</td>\n",
       "      <td>{'algorithm': 'auto', 'leaf_size': 6, 'n_neigh...</td>\n",
       "      <td>0.895349</td>\n",
       "      <td>0.858824</td>\n",
       "      <td>0.858824</td>\n",
       "      <td>0.823529</td>\n",
       "      <td>0.800000</td>\n",
       "      <td>0.847305</td>\n",
       "      <td>0.032792</td>\n",
       "      <td>88</td>\n",
       "    </tr>\n",
       "    <tr>\n",
       "      <th>1</th>\n",
       "      <td>0.004188</td>\n",
       "      <td>0.000398</td>\n",
       "      <td>0.004591</td>\n",
       "      <td>0.001013</td>\n",
       "      <td>kd_tree</td>\n",
       "      <td>4</td>\n",
       "      <td>8</td>\n",
       "      <td>distance</td>\n",
       "      <td>{'algorithm': 'kd_tree', 'leaf_size': 4, 'n_ne...</td>\n",
       "      <td>0.895349</td>\n",
       "      <td>0.882353</td>\n",
       "      <td>0.941176</td>\n",
       "      <td>0.823529</td>\n",
       "      <td>0.870588</td>\n",
       "      <td>0.882599</td>\n",
       "      <td>0.038020</td>\n",
       "      <td>8</td>\n",
       "    </tr>\n",
       "    <tr>\n",
       "      <th>2</th>\n",
       "      <td>0.005585</td>\n",
       "      <td>0.000488</td>\n",
       "      <td>0.008177</td>\n",
       "      <td>0.001162</td>\n",
       "      <td>kd_tree</td>\n",
       "      <td>6</td>\n",
       "      <td>19</td>\n",
       "      <td>uniform</td>\n",
       "      <td>{'algorithm': 'kd_tree', 'leaf_size': 6, 'n_ne...</td>\n",
       "      <td>0.906977</td>\n",
       "      <td>0.858824</td>\n",
       "      <td>0.952941</td>\n",
       "      <td>0.823529</td>\n",
       "      <td>0.870588</td>\n",
       "      <td>0.882572</td>\n",
       "      <td>0.044139</td>\n",
       "      <td>36</td>\n",
       "    </tr>\n",
       "    <tr>\n",
       "      <th>3</th>\n",
       "      <td>0.005584</td>\n",
       "      <td>0.000488</td>\n",
       "      <td>0.012170</td>\n",
       "      <td>0.003755</td>\n",
       "      <td>kd_tree</td>\n",
       "      <td>7</td>\n",
       "      <td>13</td>\n",
       "      <td>uniform</td>\n",
       "      <td>{'algorithm': 'kd_tree', 'leaf_size': 7, 'n_ne...</td>\n",
       "      <td>0.895349</td>\n",
       "      <td>0.870588</td>\n",
       "      <td>0.941176</td>\n",
       "      <td>0.823529</td>\n",
       "      <td>0.858824</td>\n",
       "      <td>0.877893</td>\n",
       "      <td>0.039197</td>\n",
       "      <td>57</td>\n",
       "    </tr>\n",
       "    <tr>\n",
       "      <th>4</th>\n",
       "      <td>0.005584</td>\n",
       "      <td>0.000487</td>\n",
       "      <td>0.012168</td>\n",
       "      <td>0.015379</td>\n",
       "      <td>kd_tree</td>\n",
       "      <td>7</td>\n",
       "      <td>8</td>\n",
       "      <td>distance</td>\n",
       "      <td>{'algorithm': 'kd_tree', 'leaf_size': 7, 'n_ne...</td>\n",
       "      <td>0.895349</td>\n",
       "      <td>0.882353</td>\n",
       "      <td>0.941176</td>\n",
       "      <td>0.823529</td>\n",
       "      <td>0.870588</td>\n",
       "      <td>0.882599</td>\n",
       "      <td>0.038020</td>\n",
       "      <td>8</td>\n",
       "    </tr>\n",
       "    <tr>\n",
       "      <th>...</th>\n",
       "      <td>...</td>\n",
       "      <td>...</td>\n",
       "      <td>...</td>\n",
       "      <td>...</td>\n",
       "      <td>...</td>\n",
       "      <td>...</td>\n",
       "      <td>...</td>\n",
       "      <td>...</td>\n",
       "      <td>...</td>\n",
       "      <td>...</td>\n",
       "      <td>...</td>\n",
       "      <td>...</td>\n",
       "      <td>...</td>\n",
       "      <td>...</td>\n",
       "      <td>...</td>\n",
       "      <td>...</td>\n",
       "      <td>...</td>\n",
       "    </tr>\n",
       "    <tr>\n",
       "      <th>95</th>\n",
       "      <td>0.003786</td>\n",
       "      <td>0.000397</td>\n",
       "      <td>0.003791</td>\n",
       "      <td>0.000746</td>\n",
       "      <td>auto</td>\n",
       "      <td>6</td>\n",
       "      <td>12</td>\n",
       "      <td>distance</td>\n",
       "      <td>{'algorithm': 'auto', 'leaf_size': 6, 'n_neigh...</td>\n",
       "      <td>0.895349</td>\n",
       "      <td>0.882353</td>\n",
       "      <td>0.941176</td>\n",
       "      <td>0.823529</td>\n",
       "      <td>0.870588</td>\n",
       "      <td>0.882599</td>\n",
       "      <td>0.038020</td>\n",
       "      <td>8</td>\n",
       "    </tr>\n",
       "    <tr>\n",
       "      <th>96</th>\n",
       "      <td>0.003790</td>\n",
       "      <td>0.000745</td>\n",
       "      <td>0.003790</td>\n",
       "      <td>0.000399</td>\n",
       "      <td>auto</td>\n",
       "      <td>3</td>\n",
       "      <td>14</td>\n",
       "      <td>distance</td>\n",
       "      <td>{'algorithm': 'auto', 'leaf_size': 3, 'n_neigh...</td>\n",
       "      <td>0.895349</td>\n",
       "      <td>0.882353</td>\n",
       "      <td>0.941176</td>\n",
       "      <td>0.823529</td>\n",
       "      <td>0.858824</td>\n",
       "      <td>0.880246</td>\n",
       "      <td>0.039040</td>\n",
       "      <td>49</td>\n",
       "    </tr>\n",
       "    <tr>\n",
       "      <th>97</th>\n",
       "      <td>0.003987</td>\n",
       "      <td>0.000003</td>\n",
       "      <td>0.003191</td>\n",
       "      <td>0.000399</td>\n",
       "      <td>kd_tree</td>\n",
       "      <td>7</td>\n",
       "      <td>11</td>\n",
       "      <td>distance</td>\n",
       "      <td>{'algorithm': 'kd_tree', 'leaf_size': 7, 'n_ne...</td>\n",
       "      <td>0.895349</td>\n",
       "      <td>0.870588</td>\n",
       "      <td>0.941176</td>\n",
       "      <td>0.823529</td>\n",
       "      <td>0.870588</td>\n",
       "      <td>0.880246</td>\n",
       "      <td>0.038325</td>\n",
       "      <td>47</td>\n",
       "    </tr>\n",
       "    <tr>\n",
       "      <th>98</th>\n",
       "      <td>0.004386</td>\n",
       "      <td>0.000491</td>\n",
       "      <td>0.008983</td>\n",
       "      <td>0.001411</td>\n",
       "      <td>auto</td>\n",
       "      <td>1</td>\n",
       "      <td>4</td>\n",
       "      <td>uniform</td>\n",
       "      <td>{'algorithm': 'auto', 'leaf_size': 1, 'n_neigh...</td>\n",
       "      <td>0.872093</td>\n",
       "      <td>0.870588</td>\n",
       "      <td>0.917647</td>\n",
       "      <td>0.800000</td>\n",
       "      <td>0.858824</td>\n",
       "      <td>0.863830</td>\n",
       "      <td>0.037708</td>\n",
       "      <td>84</td>\n",
       "    </tr>\n",
       "    <tr>\n",
       "      <th>99</th>\n",
       "      <td>0.004188</td>\n",
       "      <td>0.000747</td>\n",
       "      <td>0.003391</td>\n",
       "      <td>0.000488</td>\n",
       "      <td>kd_tree</td>\n",
       "      <td>7</td>\n",
       "      <td>7</td>\n",
       "      <td>distance</td>\n",
       "      <td>{'algorithm': 'kd_tree', 'leaf_size': 7, 'n_ne...</td>\n",
       "      <td>0.895349</td>\n",
       "      <td>0.882353</td>\n",
       "      <td>0.941176</td>\n",
       "      <td>0.823529</td>\n",
       "      <td>0.858824</td>\n",
       "      <td>0.880246</td>\n",
       "      <td>0.039040</td>\n",
       "      <td>49</td>\n",
       "    </tr>\n",
       "  </tbody>\n",
       "</table>\n",
       "<p>100 rows × 17 columns</p>\n",
       "</div>"
      ],
      "text/plain": [
       "    mean_fit_time  std_fit_time  mean_score_time  std_score_time  \\\n",
       "0        0.003989      0.000892         0.004389        0.001197   \n",
       "1        0.004188      0.000398         0.004591        0.001013   \n",
       "2        0.005585      0.000488         0.008177        0.001162   \n",
       "3        0.005584      0.000488         0.012170        0.003755   \n",
       "4        0.005584      0.000487         0.012168        0.015379   \n",
       "..            ...           ...              ...             ...   \n",
       "95       0.003786      0.000397         0.003791        0.000746   \n",
       "96       0.003790      0.000745         0.003790        0.000399   \n",
       "97       0.003987      0.000003         0.003191        0.000399   \n",
       "98       0.004386      0.000491         0.008983        0.001411   \n",
       "99       0.004188      0.000747         0.003391        0.000488   \n",
       "\n",
       "   param_algorithm param_leaf_size param_n_neighbors param_weights  \\\n",
       "0             auto               6                 1      distance   \n",
       "1          kd_tree               4                 8      distance   \n",
       "2          kd_tree               6                19       uniform   \n",
       "3          kd_tree               7                13       uniform   \n",
       "4          kd_tree               7                 8      distance   \n",
       "..             ...             ...               ...           ...   \n",
       "95            auto               6                12      distance   \n",
       "96            auto               3                14      distance   \n",
       "97         kd_tree               7                11      distance   \n",
       "98            auto               1                 4       uniform   \n",
       "99         kd_tree               7                 7      distance   \n",
       "\n",
       "                                               params  split0_test_score  \\\n",
       "0   {'algorithm': 'auto', 'leaf_size': 6, 'n_neigh...           0.895349   \n",
       "1   {'algorithm': 'kd_tree', 'leaf_size': 4, 'n_ne...           0.895349   \n",
       "2   {'algorithm': 'kd_tree', 'leaf_size': 6, 'n_ne...           0.906977   \n",
       "3   {'algorithm': 'kd_tree', 'leaf_size': 7, 'n_ne...           0.895349   \n",
       "4   {'algorithm': 'kd_tree', 'leaf_size': 7, 'n_ne...           0.895349   \n",
       "..                                                ...                ...   \n",
       "95  {'algorithm': 'auto', 'leaf_size': 6, 'n_neigh...           0.895349   \n",
       "96  {'algorithm': 'auto', 'leaf_size': 3, 'n_neigh...           0.895349   \n",
       "97  {'algorithm': 'kd_tree', 'leaf_size': 7, 'n_ne...           0.895349   \n",
       "98  {'algorithm': 'auto', 'leaf_size': 1, 'n_neigh...           0.872093   \n",
       "99  {'algorithm': 'kd_tree', 'leaf_size': 7, 'n_ne...           0.895349   \n",
       "\n",
       "    split1_test_score  split2_test_score  split3_test_score  \\\n",
       "0            0.858824           0.858824           0.823529   \n",
       "1            0.882353           0.941176           0.823529   \n",
       "2            0.858824           0.952941           0.823529   \n",
       "3            0.870588           0.941176           0.823529   \n",
       "4            0.882353           0.941176           0.823529   \n",
       "..                ...                ...                ...   \n",
       "95           0.882353           0.941176           0.823529   \n",
       "96           0.882353           0.941176           0.823529   \n",
       "97           0.870588           0.941176           0.823529   \n",
       "98           0.870588           0.917647           0.800000   \n",
       "99           0.882353           0.941176           0.823529   \n",
       "\n",
       "    split4_test_score  mean_test_score  std_test_score  rank_test_score  \n",
       "0            0.800000         0.847305        0.032792               88  \n",
       "1            0.870588         0.882599        0.038020                8  \n",
       "2            0.870588         0.882572        0.044139               36  \n",
       "3            0.858824         0.877893        0.039197               57  \n",
       "4            0.870588         0.882599        0.038020                8  \n",
       "..                ...              ...             ...              ...  \n",
       "95           0.870588         0.882599        0.038020                8  \n",
       "96           0.858824         0.880246        0.039040               49  \n",
       "97           0.870588         0.880246        0.038325               47  \n",
       "98           0.858824         0.863830        0.037708               84  \n",
       "99           0.858824         0.880246        0.039040               49  \n",
       "\n",
       "[100 rows x 17 columns]"
      ]
     },
     "execution_count": 18,
     "metadata": {},
     "output_type": "execute_result"
    }
   ],
   "source": [
    "print(\"Mejores parametros: \"+str(model.best_params_))\n",
    "print(\"Mejor Score: \"+str(model.best_score_)+'\\n')\n",
    "\n",
    "scores = pd.DataFrame(model.cv_results_)\n",
    "scores"
   ]
  },
  {
   "cell_type": "markdown",
   "metadata": {
    "id": "uOyMhFFHLu0A"
   },
   "source": [
    "¿Encontró algo parecido a Grid Search?¿Fue más rápido?"
   ]
  },
  {
   "cell_type": "code",
   "execution_count": 19,
   "metadata": {
    "id": "In_3GjKSLu0A"
   },
   "outputs": [],
   "source": [
    "#Predecimos en los datos de test\n",
    "prediction = model.predict(X_test)"
   ]
  },
  {
   "cell_type": "code",
   "execution_count": 20,
   "metadata": {
    "id": "Sng3Rnu8Lu0D",
    "outputId": "d8903fe9-cb78-433f-8054-d722fbea10eb"
   },
   "outputs": [
    {
     "name": "stdout",
     "output_type": "stream",
     "text": [
      "Matriz de confusión:\n",
      "[[44 10]\n",
      " [ 1 88]]\n"
     ]
    }
   ],
   "source": [
    "# Matriz de Confusion\n",
    "cm = confusion_matrix(y_test,prediction)\n",
    "print(\"Matriz de confusión:\")\n",
    "print(cm)"
   ]
  },
  {
   "cell_type": "code",
   "execution_count": 21,
   "metadata": {
    "id": "Y8FMsE8kLu0G",
    "outputId": "306851e6-797a-4e3e-f6f0-42d2148a9d62"
   },
   "outputs": [
    {
     "name": "stdout",
     "output_type": "stream",
     "text": [
      "Reporte de Clasificación:\n",
      "              precision    recall  f1-score   support\n",
      "\n",
      "         0.0       0.98      0.81      0.89        54\n",
      "         1.0       0.90      0.99      0.94        89\n",
      "\n",
      "    accuracy                           0.92       143\n",
      "   macro avg       0.94      0.90      0.92       143\n",
      "weighted avg       0.93      0.92      0.92       143\n",
      "\n"
     ]
    }
   ],
   "source": [
    "# Reporte de Clasificacion\n",
    "report = classification_report(y_test, prediction)\n",
    "print(\"Reporte de Clasificación:\")\n",
    "print(report)"
   ]
  },
  {
   "cell_type": "markdown",
   "metadata": {
    "id": "DLqE1WySLu0K"
   },
   "source": [
    "---\n",
    "## Se acabo la parte guiada, ahora es tú turno...\n",
    "\n",
    "<img src=\"https://www.mememaker.net/api/bucket?path=static/img/memes/full/2020/Jan/6/10/now-it-s-your-turn-15161.png\" width=\"400\" />\n",
    "    \n",
    "Ahora es tú turno de aplicar todo lo aprendido con un nuevo conjunto de datos. Para ello, vamos a generarlo de manera artificial usando la función [make_classification()](https://scikit-learn.org/stable/modules/generated/sklearn.datasets.make_classification.html) de sklearn."
   ]
  },
  {
   "cell_type": "code",
   "execution_count": 61,
   "metadata": {
    "id": "ToPpbAFdLu0L"
   },
   "outputs": [],
   "source": [
    "import seaborn as sns\n",
    "from sklearn.datasets import make_classification\n",
    "\n",
    "X, y = make_classification(n_samples=100000, n_features=4, n_informative=4,\n",
    "                           n_redundant=0, n_clusters_per_class=1,\n",
    "                           class_sep=1.0, random_state=40)"
   ]
  },
  {
   "cell_type": "code",
   "execution_count": 62,
   "metadata": {
    "id": "rBjQgW2iLu0Q",
    "outputId": "3af71cc2-1532-4249-a9e0-8c8ce441ade7"
   },
   "outputs": [
    {
     "data": {
      "text/html": [
       "<div>\n",
       "<style scoped>\n",
       "    .dataframe tbody tr th:only-of-type {\n",
       "        vertical-align: middle;\n",
       "    }\n",
       "\n",
       "    .dataframe tbody tr th {\n",
       "        vertical-align: top;\n",
       "    }\n",
       "\n",
       "    .dataframe thead th {\n",
       "        text-align: right;\n",
       "    }\n",
       "</style>\n",
       "<table border=\"1\" class=\"dataframe\">\n",
       "  <thead>\n",
       "    <tr style=\"text-align: right;\">\n",
       "      <th></th>\n",
       "      <th>x0</th>\n",
       "      <th>x1</th>\n",
       "      <th>x2</th>\n",
       "      <th>x3</th>\n",
       "      <th>y</th>\n",
       "    </tr>\n",
       "  </thead>\n",
       "  <tbody>\n",
       "    <tr>\n",
       "      <th>0</th>\n",
       "      <td>-0.292624</td>\n",
       "      <td>-0.783805</td>\n",
       "      <td>-3.849876</td>\n",
       "      <td>-1.758806</td>\n",
       "      <td>1</td>\n",
       "    </tr>\n",
       "    <tr>\n",
       "      <th>1</th>\n",
       "      <td>1.629085</td>\n",
       "      <td>-1.059597</td>\n",
       "      <td>-1.654043</td>\n",
       "      <td>0.431430</td>\n",
       "      <td>0</td>\n",
       "    </tr>\n",
       "    <tr>\n",
       "      <th>2</th>\n",
       "      <td>-1.504583</td>\n",
       "      <td>0.351320</td>\n",
       "      <td>-1.838668</td>\n",
       "      <td>-0.418151</td>\n",
       "      <td>1</td>\n",
       "    </tr>\n",
       "    <tr>\n",
       "      <th>3</th>\n",
       "      <td>1.093868</td>\n",
       "      <td>-1.616160</td>\n",
       "      <td>1.727165</td>\n",
       "      <td>1.464183</td>\n",
       "      <td>0</td>\n",
       "    </tr>\n",
       "    <tr>\n",
       "      <th>4</th>\n",
       "      <td>-1.081868</td>\n",
       "      <td>0.864286</td>\n",
       "      <td>0.838435</td>\n",
       "      <td>-4.457802</td>\n",
       "      <td>1</td>\n",
       "    </tr>\n",
       "  </tbody>\n",
       "</table>\n",
       "</div>"
      ],
      "text/plain": [
       "         x0        x1        x2        x3  y\n",
       "0 -0.292624 -0.783805 -3.849876 -1.758806  1\n",
       "1  1.629085 -1.059597 -1.654043  0.431430  0\n",
       "2 -1.504583  0.351320 -1.838668 -0.418151  1\n",
       "3  1.093868 -1.616160  1.727165  1.464183  0\n",
       "4 -1.081868  0.864286  0.838435 -4.457802  1"
      ]
     },
     "execution_count": 62,
     "metadata": {},
     "output_type": "execute_result"
    }
   ],
   "source": [
    "df1 = pd.DataFrame()\n",
    "\n",
    "for i in range(X.shape[1]):\n",
    "    df1['x' + str(i)] = X[:,i]\n",
    "df1['y'] = y \n",
    "df1.head()"
   ]
  },
  {
   "cell_type": "markdown",
   "metadata": {
    "id": "Y16v-s78Lu0W"
   },
   "source": [
    "Exploremos un poco el dataset con el que vamos a trabajar."
   ]
  },
  {
   "cell_type": "code",
   "execution_count": 75,
   "metadata": {
    "id": "cXJrVatlLu0X",
    "outputId": "edfaeaa0-591d-4a9a-9cb2-84245fa3b92c"
   },
   "outputs": [
    {
     "name": "stdout",
     "output_type": "stream",
     "text": [
      "Error in callback <function flush_figures at 0x00000294B6117550> (for post_execute):\n"
     ]
    },
    {
     "ename": "KeyboardInterrupt",
     "evalue": "",
     "output_type": "error",
     "traceback": [
      "\u001b[1;31m---------------------------------------------------------------------------\u001b[0m",
      "\u001b[1;31mKeyboardInterrupt\u001b[0m                         Traceback (most recent call last)",
      "\u001b[1;32m~\\miniconda3\\lib\\site-packages\\ipykernel\\pylab\\backend_inline.py\u001b[0m in \u001b[0;36mflush_figures\u001b[1;34m()\u001b[0m\n\u001b[0;32m    119\u001b[0m         \u001b[1;31m# ignore the tracking, just draw and close all figures\u001b[0m\u001b[1;33m\u001b[0m\u001b[1;33m\u001b[0m\u001b[1;33m\u001b[0m\u001b[0m\n\u001b[0;32m    120\u001b[0m         \u001b[1;32mtry\u001b[0m\u001b[1;33m:\u001b[0m\u001b[1;33m\u001b[0m\u001b[1;33m\u001b[0m\u001b[0m\n\u001b[1;32m--> 121\u001b[1;33m             \u001b[1;32mreturn\u001b[0m \u001b[0mshow\u001b[0m\u001b[1;33m(\u001b[0m\u001b[1;32mTrue\u001b[0m\u001b[1;33m)\u001b[0m\u001b[1;33m\u001b[0m\u001b[1;33m\u001b[0m\u001b[0m\n\u001b[0m\u001b[0;32m    122\u001b[0m         \u001b[1;32mexcept\u001b[0m \u001b[0mException\u001b[0m \u001b[1;32mas\u001b[0m \u001b[0me\u001b[0m\u001b[1;33m:\u001b[0m\u001b[1;33m\u001b[0m\u001b[1;33m\u001b[0m\u001b[0m\n\u001b[0;32m    123\u001b[0m             \u001b[1;31m# safely show traceback if in IPython, else raise\u001b[0m\u001b[1;33m\u001b[0m\u001b[1;33m\u001b[0m\u001b[1;33m\u001b[0m\u001b[0m\n",
      "\u001b[1;32m~\\miniconda3\\lib\\site-packages\\ipykernel\\pylab\\backend_inline.py\u001b[0m in \u001b[0;36mshow\u001b[1;34m(close, block)\u001b[0m\n\u001b[0;32m     39\u001b[0m     \u001b[1;32mtry\u001b[0m\u001b[1;33m:\u001b[0m\u001b[1;33m\u001b[0m\u001b[1;33m\u001b[0m\u001b[0m\n\u001b[0;32m     40\u001b[0m         \u001b[1;32mfor\u001b[0m \u001b[0mfigure_manager\u001b[0m \u001b[1;32min\u001b[0m \u001b[0mGcf\u001b[0m\u001b[1;33m.\u001b[0m\u001b[0mget_all_fig_managers\u001b[0m\u001b[1;33m(\u001b[0m\u001b[1;33m)\u001b[0m\u001b[1;33m:\u001b[0m\u001b[1;33m\u001b[0m\u001b[1;33m\u001b[0m\u001b[0m\n\u001b[1;32m---> 41\u001b[1;33m             display(\n\u001b[0m\u001b[0;32m     42\u001b[0m                 \u001b[0mfigure_manager\u001b[0m\u001b[1;33m.\u001b[0m\u001b[0mcanvas\u001b[0m\u001b[1;33m.\u001b[0m\u001b[0mfigure\u001b[0m\u001b[1;33m,\u001b[0m\u001b[1;33m\u001b[0m\u001b[1;33m\u001b[0m\u001b[0m\n\u001b[0;32m     43\u001b[0m                 \u001b[0mmetadata\u001b[0m\u001b[1;33m=\u001b[0m\u001b[0m_fetch_figure_metadata\u001b[0m\u001b[1;33m(\u001b[0m\u001b[0mfigure_manager\u001b[0m\u001b[1;33m.\u001b[0m\u001b[0mcanvas\u001b[0m\u001b[1;33m.\u001b[0m\u001b[0mfigure\u001b[0m\u001b[1;33m)\u001b[0m\u001b[1;33m\u001b[0m\u001b[1;33m\u001b[0m\u001b[0m\n",
      "\u001b[1;32m~\\miniconda3\\lib\\site-packages\\IPython\\core\\display.py\u001b[0m in \u001b[0;36mdisplay\u001b[1;34m(include, exclude, metadata, transient, display_id, *objs, **kwargs)\u001b[0m\n\u001b[0;32m    311\u001b[0m             \u001b[0mpublish_display_data\u001b[0m\u001b[1;33m(\u001b[0m\u001b[0mdata\u001b[0m\u001b[1;33m=\u001b[0m\u001b[0mobj\u001b[0m\u001b[1;33m,\u001b[0m \u001b[0mmetadata\u001b[0m\u001b[1;33m=\u001b[0m\u001b[0mmetadata\u001b[0m\u001b[1;33m,\u001b[0m \u001b[1;33m**\u001b[0m\u001b[0mkwargs\u001b[0m\u001b[1;33m)\u001b[0m\u001b[1;33m\u001b[0m\u001b[1;33m\u001b[0m\u001b[0m\n\u001b[0;32m    312\u001b[0m         \u001b[1;32melse\u001b[0m\u001b[1;33m:\u001b[0m\u001b[1;33m\u001b[0m\u001b[1;33m\u001b[0m\u001b[0m\n\u001b[1;32m--> 313\u001b[1;33m             \u001b[0mformat_dict\u001b[0m\u001b[1;33m,\u001b[0m \u001b[0mmd_dict\u001b[0m \u001b[1;33m=\u001b[0m \u001b[0mformat\u001b[0m\u001b[1;33m(\u001b[0m\u001b[0mobj\u001b[0m\u001b[1;33m,\u001b[0m \u001b[0minclude\u001b[0m\u001b[1;33m=\u001b[0m\u001b[0minclude\u001b[0m\u001b[1;33m,\u001b[0m \u001b[0mexclude\u001b[0m\u001b[1;33m=\u001b[0m\u001b[0mexclude\u001b[0m\u001b[1;33m)\u001b[0m\u001b[1;33m\u001b[0m\u001b[1;33m\u001b[0m\u001b[0m\n\u001b[0m\u001b[0;32m    314\u001b[0m             \u001b[1;32mif\u001b[0m \u001b[1;32mnot\u001b[0m \u001b[0mformat_dict\u001b[0m\u001b[1;33m:\u001b[0m\u001b[1;33m\u001b[0m\u001b[1;33m\u001b[0m\u001b[0m\n\u001b[0;32m    315\u001b[0m                 \u001b[1;31m# nothing to display (e.g. _ipython_display_ took over)\u001b[0m\u001b[1;33m\u001b[0m\u001b[1;33m\u001b[0m\u001b[1;33m\u001b[0m\u001b[0m\n",
      "\u001b[1;32m~\\miniconda3\\lib\\site-packages\\IPython\\core\\formatters.py\u001b[0m in \u001b[0;36mformat\u001b[1;34m(self, obj, include, exclude)\u001b[0m\n\u001b[0;32m    178\u001b[0m             \u001b[0mmd\u001b[0m \u001b[1;33m=\u001b[0m \u001b[1;32mNone\u001b[0m\u001b[1;33m\u001b[0m\u001b[1;33m\u001b[0m\u001b[0m\n\u001b[0;32m    179\u001b[0m             \u001b[1;32mtry\u001b[0m\u001b[1;33m:\u001b[0m\u001b[1;33m\u001b[0m\u001b[1;33m\u001b[0m\u001b[0m\n\u001b[1;32m--> 180\u001b[1;33m                 \u001b[0mdata\u001b[0m \u001b[1;33m=\u001b[0m \u001b[0mformatter\u001b[0m\u001b[1;33m(\u001b[0m\u001b[0mobj\u001b[0m\u001b[1;33m)\u001b[0m\u001b[1;33m\u001b[0m\u001b[1;33m\u001b[0m\u001b[0m\n\u001b[0m\u001b[0;32m    181\u001b[0m             \u001b[1;32mexcept\u001b[0m\u001b[1;33m:\u001b[0m\u001b[1;33m\u001b[0m\u001b[1;33m\u001b[0m\u001b[0m\n\u001b[0;32m    182\u001b[0m                 \u001b[1;31m# FIXME: log the exception\u001b[0m\u001b[1;33m\u001b[0m\u001b[1;33m\u001b[0m\u001b[1;33m\u001b[0m\u001b[0m\n",
      "\u001b[1;32m<decorator-gen-9>\u001b[0m in \u001b[0;36m__call__\u001b[1;34m(self, obj)\u001b[0m\n",
      "\u001b[1;32m~\\miniconda3\\lib\\site-packages\\IPython\\core\\formatters.py\u001b[0m in \u001b[0;36mcatch_format_error\u001b[1;34m(method, self, *args, **kwargs)\u001b[0m\n\u001b[0;32m    222\u001b[0m     \u001b[1;34m\"\"\"show traceback on failed format call\"\"\"\u001b[0m\u001b[1;33m\u001b[0m\u001b[1;33m\u001b[0m\u001b[0m\n\u001b[0;32m    223\u001b[0m     \u001b[1;32mtry\u001b[0m\u001b[1;33m:\u001b[0m\u001b[1;33m\u001b[0m\u001b[1;33m\u001b[0m\u001b[0m\n\u001b[1;32m--> 224\u001b[1;33m         \u001b[0mr\u001b[0m \u001b[1;33m=\u001b[0m \u001b[0mmethod\u001b[0m\u001b[1;33m(\u001b[0m\u001b[0mself\u001b[0m\u001b[1;33m,\u001b[0m \u001b[1;33m*\u001b[0m\u001b[0margs\u001b[0m\u001b[1;33m,\u001b[0m \u001b[1;33m**\u001b[0m\u001b[0mkwargs\u001b[0m\u001b[1;33m)\u001b[0m\u001b[1;33m\u001b[0m\u001b[1;33m\u001b[0m\u001b[0m\n\u001b[0m\u001b[0;32m    225\u001b[0m     \u001b[1;32mexcept\u001b[0m \u001b[0mNotImplementedError\u001b[0m\u001b[1;33m:\u001b[0m\u001b[1;33m\u001b[0m\u001b[1;33m\u001b[0m\u001b[0m\n\u001b[0;32m    226\u001b[0m         \u001b[1;31m# don't warn on NotImplementedErrors\u001b[0m\u001b[1;33m\u001b[0m\u001b[1;33m\u001b[0m\u001b[1;33m\u001b[0m\u001b[0m\n",
      "\u001b[1;32m~\\miniconda3\\lib\\site-packages\\IPython\\core\\formatters.py\u001b[0m in \u001b[0;36m__call__\u001b[1;34m(self, obj)\u001b[0m\n\u001b[0;32m    339\u001b[0m                 \u001b[1;32mpass\u001b[0m\u001b[1;33m\u001b[0m\u001b[1;33m\u001b[0m\u001b[0m\n\u001b[0;32m    340\u001b[0m             \u001b[1;32melse\u001b[0m\u001b[1;33m:\u001b[0m\u001b[1;33m\u001b[0m\u001b[1;33m\u001b[0m\u001b[0m\n\u001b[1;32m--> 341\u001b[1;33m                 \u001b[1;32mreturn\u001b[0m \u001b[0mprinter\u001b[0m\u001b[1;33m(\u001b[0m\u001b[0mobj\u001b[0m\u001b[1;33m)\u001b[0m\u001b[1;33m\u001b[0m\u001b[1;33m\u001b[0m\u001b[0m\n\u001b[0m\u001b[0;32m    342\u001b[0m             \u001b[1;31m# Finally look for special method names\u001b[0m\u001b[1;33m\u001b[0m\u001b[1;33m\u001b[0m\u001b[1;33m\u001b[0m\u001b[0m\n\u001b[0;32m    343\u001b[0m             \u001b[0mmethod\u001b[0m \u001b[1;33m=\u001b[0m \u001b[0mget_real_method\u001b[0m\u001b[1;33m(\u001b[0m\u001b[0mobj\u001b[0m\u001b[1;33m,\u001b[0m \u001b[0mself\u001b[0m\u001b[1;33m.\u001b[0m\u001b[0mprint_method\u001b[0m\u001b[1;33m)\u001b[0m\u001b[1;33m\u001b[0m\u001b[1;33m\u001b[0m\u001b[0m\n",
      "\u001b[1;32m~\\miniconda3\\lib\\site-packages\\IPython\\core\\pylabtools.py\u001b[0m in \u001b[0;36m<lambda>\u001b[1;34m(fig)\u001b[0m\n\u001b[0;32m    246\u001b[0m \u001b[1;33m\u001b[0m\u001b[0m\n\u001b[0;32m    247\u001b[0m     \u001b[1;32mif\u001b[0m \u001b[1;34m'png'\u001b[0m \u001b[1;32min\u001b[0m \u001b[0mformats\u001b[0m\u001b[1;33m:\u001b[0m\u001b[1;33m\u001b[0m\u001b[1;33m\u001b[0m\u001b[0m\n\u001b[1;32m--> 248\u001b[1;33m         \u001b[0mpng_formatter\u001b[0m\u001b[1;33m.\u001b[0m\u001b[0mfor_type\u001b[0m\u001b[1;33m(\u001b[0m\u001b[0mFigure\u001b[0m\u001b[1;33m,\u001b[0m \u001b[1;32mlambda\u001b[0m \u001b[0mfig\u001b[0m\u001b[1;33m:\u001b[0m \u001b[0mprint_figure\u001b[0m\u001b[1;33m(\u001b[0m\u001b[0mfig\u001b[0m\u001b[1;33m,\u001b[0m \u001b[1;34m'png'\u001b[0m\u001b[1;33m,\u001b[0m \u001b[1;33m**\u001b[0m\u001b[0mkwargs\u001b[0m\u001b[1;33m)\u001b[0m\u001b[1;33m)\u001b[0m\u001b[1;33m\u001b[0m\u001b[1;33m\u001b[0m\u001b[0m\n\u001b[0m\u001b[0;32m    249\u001b[0m     \u001b[1;32mif\u001b[0m \u001b[1;34m'retina'\u001b[0m \u001b[1;32min\u001b[0m \u001b[0mformats\u001b[0m \u001b[1;32mor\u001b[0m \u001b[1;34m'png2x'\u001b[0m \u001b[1;32min\u001b[0m \u001b[0mformats\u001b[0m\u001b[1;33m:\u001b[0m\u001b[1;33m\u001b[0m\u001b[1;33m\u001b[0m\u001b[0m\n\u001b[0;32m    250\u001b[0m         \u001b[0mpng_formatter\u001b[0m\u001b[1;33m.\u001b[0m\u001b[0mfor_type\u001b[0m\u001b[1;33m(\u001b[0m\u001b[0mFigure\u001b[0m\u001b[1;33m,\u001b[0m \u001b[1;32mlambda\u001b[0m \u001b[0mfig\u001b[0m\u001b[1;33m:\u001b[0m \u001b[0mretina_figure\u001b[0m\u001b[1;33m(\u001b[0m\u001b[0mfig\u001b[0m\u001b[1;33m,\u001b[0m \u001b[1;33m**\u001b[0m\u001b[0mkwargs\u001b[0m\u001b[1;33m)\u001b[0m\u001b[1;33m)\u001b[0m\u001b[1;33m\u001b[0m\u001b[1;33m\u001b[0m\u001b[0m\n",
      "\u001b[1;32m~\\miniconda3\\lib\\site-packages\\IPython\\core\\pylabtools.py\u001b[0m in \u001b[0;36mprint_figure\u001b[1;34m(fig, fmt, bbox_inches, **kwargs)\u001b[0m\n\u001b[0;32m    130\u001b[0m         \u001b[0mFigureCanvasBase\u001b[0m\u001b[1;33m(\u001b[0m\u001b[0mfig\u001b[0m\u001b[1;33m)\u001b[0m\u001b[1;33m\u001b[0m\u001b[1;33m\u001b[0m\u001b[0m\n\u001b[0;32m    131\u001b[0m \u001b[1;33m\u001b[0m\u001b[0m\n\u001b[1;32m--> 132\u001b[1;33m     \u001b[0mfig\u001b[0m\u001b[1;33m.\u001b[0m\u001b[0mcanvas\u001b[0m\u001b[1;33m.\u001b[0m\u001b[0mprint_figure\u001b[0m\u001b[1;33m(\u001b[0m\u001b[0mbytes_io\u001b[0m\u001b[1;33m,\u001b[0m \u001b[1;33m**\u001b[0m\u001b[0mkw\u001b[0m\u001b[1;33m)\u001b[0m\u001b[1;33m\u001b[0m\u001b[1;33m\u001b[0m\u001b[0m\n\u001b[0m\u001b[0;32m    133\u001b[0m     \u001b[0mdata\u001b[0m \u001b[1;33m=\u001b[0m \u001b[0mbytes_io\u001b[0m\u001b[1;33m.\u001b[0m\u001b[0mgetvalue\u001b[0m\u001b[1;33m(\u001b[0m\u001b[1;33m)\u001b[0m\u001b[1;33m\u001b[0m\u001b[1;33m\u001b[0m\u001b[0m\n\u001b[0;32m    134\u001b[0m     \u001b[1;32mif\u001b[0m \u001b[0mfmt\u001b[0m \u001b[1;33m==\u001b[0m \u001b[1;34m'svg'\u001b[0m\u001b[1;33m:\u001b[0m\u001b[1;33m\u001b[0m\u001b[1;33m\u001b[0m\u001b[0m\n",
      "\u001b[1;32m~\\miniconda3\\lib\\site-packages\\matplotlib\\backend_bases.py\u001b[0m in \u001b[0;36mprint_figure\u001b[1;34m(self, filename, dpi, facecolor, edgecolor, orientation, format, bbox_inches, pad_inches, bbox_extra_artists, backend, **kwargs)\u001b[0m\n\u001b[0;32m   2208\u001b[0m \u001b[1;33m\u001b[0m\u001b[0m\n\u001b[0;32m   2209\u001b[0m             \u001b[1;32mtry\u001b[0m\u001b[1;33m:\u001b[0m\u001b[1;33m\u001b[0m\u001b[1;33m\u001b[0m\u001b[0m\n\u001b[1;32m-> 2210\u001b[1;33m                 result = print_method(\n\u001b[0m\u001b[0;32m   2211\u001b[0m                     \u001b[0mfilename\u001b[0m\u001b[1;33m,\u001b[0m\u001b[1;33m\u001b[0m\u001b[1;33m\u001b[0m\u001b[0m\n\u001b[0;32m   2212\u001b[0m                     \u001b[0mdpi\u001b[0m\u001b[1;33m=\u001b[0m\u001b[0mdpi\u001b[0m\u001b[1;33m,\u001b[0m\u001b[1;33m\u001b[0m\u001b[1;33m\u001b[0m\u001b[0m\n",
      "\u001b[1;32m~\\miniconda3\\lib\\site-packages\\matplotlib\\backend_bases.py\u001b[0m in \u001b[0;36mwrapper\u001b[1;34m(*args, **kwargs)\u001b[0m\n\u001b[0;32m   1637\u001b[0m             \u001b[0mkwargs\u001b[0m\u001b[1;33m.\u001b[0m\u001b[0mpop\u001b[0m\u001b[1;33m(\u001b[0m\u001b[0marg\u001b[0m\u001b[1;33m)\u001b[0m\u001b[1;33m\u001b[0m\u001b[1;33m\u001b[0m\u001b[0m\n\u001b[0;32m   1638\u001b[0m \u001b[1;33m\u001b[0m\u001b[0m\n\u001b[1;32m-> 1639\u001b[1;33m         \u001b[1;32mreturn\u001b[0m \u001b[0mfunc\u001b[0m\u001b[1;33m(\u001b[0m\u001b[1;33m*\u001b[0m\u001b[0margs\u001b[0m\u001b[1;33m,\u001b[0m \u001b[1;33m**\u001b[0m\u001b[0mkwargs\u001b[0m\u001b[1;33m)\u001b[0m\u001b[1;33m\u001b[0m\u001b[1;33m\u001b[0m\u001b[0m\n\u001b[0m\u001b[0;32m   1640\u001b[0m \u001b[1;33m\u001b[0m\u001b[0m\n\u001b[0;32m   1641\u001b[0m     \u001b[1;32mreturn\u001b[0m \u001b[0mwrapper\u001b[0m\u001b[1;33m\u001b[0m\u001b[1;33m\u001b[0m\u001b[0m\n",
      "\u001b[1;32m~\\miniconda3\\lib\\site-packages\\matplotlib\\backends\\backend_agg.py\u001b[0m in \u001b[0;36mprint_png\u001b[1;34m(self, filename_or_obj, metadata, pil_kwargs, *args)\u001b[0m\n\u001b[0;32m    507\u001b[0m             \u001b[1;33m*\u001b[0m\u001b[0mmetadata\u001b[0m\u001b[1;33m*\u001b[0m\u001b[1;33m,\u001b[0m \u001b[0mincluding\u001b[0m \u001b[0mthe\u001b[0m \u001b[0mdefault\u001b[0m \u001b[1;34m'Software'\u001b[0m \u001b[0mkey\u001b[0m\u001b[1;33m.\u001b[0m\u001b[1;33m\u001b[0m\u001b[1;33m\u001b[0m\u001b[0m\n\u001b[0;32m    508\u001b[0m         \"\"\"\n\u001b[1;32m--> 509\u001b[1;33m         \u001b[0mFigureCanvasAgg\u001b[0m\u001b[1;33m.\u001b[0m\u001b[0mdraw\u001b[0m\u001b[1;33m(\u001b[0m\u001b[0mself\u001b[0m\u001b[1;33m)\u001b[0m\u001b[1;33m\u001b[0m\u001b[1;33m\u001b[0m\u001b[0m\n\u001b[0m\u001b[0;32m    510\u001b[0m         mpl.image.imsave(\n\u001b[0;32m    511\u001b[0m             \u001b[0mfilename_or_obj\u001b[0m\u001b[1;33m,\u001b[0m \u001b[0mself\u001b[0m\u001b[1;33m.\u001b[0m\u001b[0mbuffer_rgba\u001b[0m\u001b[1;33m(\u001b[0m\u001b[1;33m)\u001b[0m\u001b[1;33m,\u001b[0m \u001b[0mformat\u001b[0m\u001b[1;33m=\u001b[0m\u001b[1;34m\"png\"\u001b[0m\u001b[1;33m,\u001b[0m \u001b[0morigin\u001b[0m\u001b[1;33m=\u001b[0m\u001b[1;34m\"upper\"\u001b[0m\u001b[1;33m,\u001b[0m\u001b[1;33m\u001b[0m\u001b[1;33m\u001b[0m\u001b[0m\n",
      "\u001b[1;32m~\\miniconda3\\lib\\site-packages\\matplotlib\\backends\\backend_agg.py\u001b[0m in \u001b[0;36mdraw\u001b[1;34m(self)\u001b[0m\n\u001b[0;32m    405\u001b[0m              (self.toolbar._wait_cursor_for_draw_cm() if self.toolbar\n\u001b[0;32m    406\u001b[0m               else nullcontext()):\n\u001b[1;32m--> 407\u001b[1;33m             \u001b[0mself\u001b[0m\u001b[1;33m.\u001b[0m\u001b[0mfigure\u001b[0m\u001b[1;33m.\u001b[0m\u001b[0mdraw\u001b[0m\u001b[1;33m(\u001b[0m\u001b[0mself\u001b[0m\u001b[1;33m.\u001b[0m\u001b[0mrenderer\u001b[0m\u001b[1;33m)\u001b[0m\u001b[1;33m\u001b[0m\u001b[1;33m\u001b[0m\u001b[0m\n\u001b[0m\u001b[0;32m    408\u001b[0m             \u001b[1;31m# A GUI class may be need to update a window using this draw, so\u001b[0m\u001b[1;33m\u001b[0m\u001b[1;33m\u001b[0m\u001b[1;33m\u001b[0m\u001b[0m\n\u001b[0;32m    409\u001b[0m             \u001b[1;31m# don't forget to call the superclass.\u001b[0m\u001b[1;33m\u001b[0m\u001b[1;33m\u001b[0m\u001b[1;33m\u001b[0m\u001b[0m\n",
      "\u001b[1;32m~\\miniconda3\\lib\\site-packages\\matplotlib\\artist.py\u001b[0m in \u001b[0;36mdraw_wrapper\u001b[1;34m(artist, renderer, *args, **kwargs)\u001b[0m\n\u001b[0;32m     39\u001b[0m                 \u001b[0mrenderer\u001b[0m\u001b[1;33m.\u001b[0m\u001b[0mstart_filter\u001b[0m\u001b[1;33m(\u001b[0m\u001b[1;33m)\u001b[0m\u001b[1;33m\u001b[0m\u001b[1;33m\u001b[0m\u001b[0m\n\u001b[0;32m     40\u001b[0m \u001b[1;33m\u001b[0m\u001b[0m\n\u001b[1;32m---> 41\u001b[1;33m             \u001b[1;32mreturn\u001b[0m \u001b[0mdraw\u001b[0m\u001b[1;33m(\u001b[0m\u001b[0martist\u001b[0m\u001b[1;33m,\u001b[0m \u001b[0mrenderer\u001b[0m\u001b[1;33m,\u001b[0m \u001b[1;33m*\u001b[0m\u001b[0margs\u001b[0m\u001b[1;33m,\u001b[0m \u001b[1;33m**\u001b[0m\u001b[0mkwargs\u001b[0m\u001b[1;33m)\u001b[0m\u001b[1;33m\u001b[0m\u001b[1;33m\u001b[0m\u001b[0m\n\u001b[0m\u001b[0;32m     42\u001b[0m         \u001b[1;32mfinally\u001b[0m\u001b[1;33m:\u001b[0m\u001b[1;33m\u001b[0m\u001b[1;33m\u001b[0m\u001b[0m\n\u001b[0;32m     43\u001b[0m             \u001b[1;32mif\u001b[0m \u001b[0martist\u001b[0m\u001b[1;33m.\u001b[0m\u001b[0mget_agg_filter\u001b[0m\u001b[1;33m(\u001b[0m\u001b[1;33m)\u001b[0m \u001b[1;32mis\u001b[0m \u001b[1;32mnot\u001b[0m \u001b[1;32mNone\u001b[0m\u001b[1;33m:\u001b[0m\u001b[1;33m\u001b[0m\u001b[1;33m\u001b[0m\u001b[0m\n",
      "\u001b[1;32m~\\miniconda3\\lib\\site-packages\\matplotlib\\figure.py\u001b[0m in \u001b[0;36mdraw\u001b[1;34m(self, renderer)\u001b[0m\n\u001b[0;32m   1861\u001b[0m \u001b[1;33m\u001b[0m\u001b[0m\n\u001b[0;32m   1862\u001b[0m             \u001b[0mself\u001b[0m\u001b[1;33m.\u001b[0m\u001b[0mpatch\u001b[0m\u001b[1;33m.\u001b[0m\u001b[0mdraw\u001b[0m\u001b[1;33m(\u001b[0m\u001b[0mrenderer\u001b[0m\u001b[1;33m)\u001b[0m\u001b[1;33m\u001b[0m\u001b[1;33m\u001b[0m\u001b[0m\n\u001b[1;32m-> 1863\u001b[1;33m             mimage._draw_list_compositing_images(\n\u001b[0m\u001b[0;32m   1864\u001b[0m                 renderer, self, artists, self.suppressComposite)\n\u001b[0;32m   1865\u001b[0m \u001b[1;33m\u001b[0m\u001b[0m\n",
      "\u001b[1;32m~\\miniconda3\\lib\\site-packages\\matplotlib\\image.py\u001b[0m in \u001b[0;36m_draw_list_compositing_images\u001b[1;34m(renderer, parent, artists, suppress_composite)\u001b[0m\n\u001b[0;32m    129\u001b[0m     \u001b[1;32mif\u001b[0m \u001b[0mnot_composite\u001b[0m \u001b[1;32mor\u001b[0m \u001b[1;32mnot\u001b[0m \u001b[0mhas_images\u001b[0m\u001b[1;33m:\u001b[0m\u001b[1;33m\u001b[0m\u001b[1;33m\u001b[0m\u001b[0m\n\u001b[0;32m    130\u001b[0m         \u001b[1;32mfor\u001b[0m \u001b[0ma\u001b[0m \u001b[1;32min\u001b[0m \u001b[0martists\u001b[0m\u001b[1;33m:\u001b[0m\u001b[1;33m\u001b[0m\u001b[1;33m\u001b[0m\u001b[0m\n\u001b[1;32m--> 131\u001b[1;33m             \u001b[0ma\u001b[0m\u001b[1;33m.\u001b[0m\u001b[0mdraw\u001b[0m\u001b[1;33m(\u001b[0m\u001b[0mrenderer\u001b[0m\u001b[1;33m)\u001b[0m\u001b[1;33m\u001b[0m\u001b[1;33m\u001b[0m\u001b[0m\n\u001b[0m\u001b[0;32m    132\u001b[0m     \u001b[1;32melse\u001b[0m\u001b[1;33m:\u001b[0m\u001b[1;33m\u001b[0m\u001b[1;33m\u001b[0m\u001b[0m\n\u001b[0;32m    133\u001b[0m         \u001b[1;31m# Composite any adjacent images together\u001b[0m\u001b[1;33m\u001b[0m\u001b[1;33m\u001b[0m\u001b[1;33m\u001b[0m\u001b[0m\n",
      "\u001b[1;32m~\\miniconda3\\lib\\site-packages\\matplotlib\\artist.py\u001b[0m in \u001b[0;36mdraw_wrapper\u001b[1;34m(artist, renderer, *args, **kwargs)\u001b[0m\n\u001b[0;32m     39\u001b[0m                 \u001b[0mrenderer\u001b[0m\u001b[1;33m.\u001b[0m\u001b[0mstart_filter\u001b[0m\u001b[1;33m(\u001b[0m\u001b[1;33m)\u001b[0m\u001b[1;33m\u001b[0m\u001b[1;33m\u001b[0m\u001b[0m\n\u001b[0;32m     40\u001b[0m \u001b[1;33m\u001b[0m\u001b[0m\n\u001b[1;32m---> 41\u001b[1;33m             \u001b[1;32mreturn\u001b[0m \u001b[0mdraw\u001b[0m\u001b[1;33m(\u001b[0m\u001b[0martist\u001b[0m\u001b[1;33m,\u001b[0m \u001b[0mrenderer\u001b[0m\u001b[1;33m,\u001b[0m \u001b[1;33m*\u001b[0m\u001b[0margs\u001b[0m\u001b[1;33m,\u001b[0m \u001b[1;33m**\u001b[0m\u001b[0mkwargs\u001b[0m\u001b[1;33m)\u001b[0m\u001b[1;33m\u001b[0m\u001b[1;33m\u001b[0m\u001b[0m\n\u001b[0m\u001b[0;32m     42\u001b[0m         \u001b[1;32mfinally\u001b[0m\u001b[1;33m:\u001b[0m\u001b[1;33m\u001b[0m\u001b[1;33m\u001b[0m\u001b[0m\n\u001b[0;32m     43\u001b[0m             \u001b[1;32mif\u001b[0m \u001b[0martist\u001b[0m\u001b[1;33m.\u001b[0m\u001b[0mget_agg_filter\u001b[0m\u001b[1;33m(\u001b[0m\u001b[1;33m)\u001b[0m \u001b[1;32mis\u001b[0m \u001b[1;32mnot\u001b[0m \u001b[1;32mNone\u001b[0m\u001b[1;33m:\u001b[0m\u001b[1;33m\u001b[0m\u001b[1;33m\u001b[0m\u001b[0m\n",
      "\u001b[1;32m~\\miniconda3\\lib\\site-packages\\matplotlib\\cbook\\deprecation.py\u001b[0m in \u001b[0;36mwrapper\u001b[1;34m(*inner_args, **inner_kwargs)\u001b[0m\n\u001b[0;32m    409\u001b[0m                          \u001b[1;32melse\u001b[0m \u001b[0mdeprecation_addendum\u001b[0m\u001b[1;33m,\u001b[0m\u001b[1;33m\u001b[0m\u001b[1;33m\u001b[0m\u001b[0m\n\u001b[0;32m    410\u001b[0m                 **kwargs)\n\u001b[1;32m--> 411\u001b[1;33m         \u001b[1;32mreturn\u001b[0m \u001b[0mfunc\u001b[0m\u001b[1;33m(\u001b[0m\u001b[1;33m*\u001b[0m\u001b[0minner_args\u001b[0m\u001b[1;33m,\u001b[0m \u001b[1;33m**\u001b[0m\u001b[0minner_kwargs\u001b[0m\u001b[1;33m)\u001b[0m\u001b[1;33m\u001b[0m\u001b[1;33m\u001b[0m\u001b[0m\n\u001b[0m\u001b[0;32m    412\u001b[0m \u001b[1;33m\u001b[0m\u001b[0m\n\u001b[0;32m    413\u001b[0m     \u001b[1;32mreturn\u001b[0m \u001b[0mwrapper\u001b[0m\u001b[1;33m\u001b[0m\u001b[1;33m\u001b[0m\u001b[0m\n",
      "\u001b[1;32m~\\miniconda3\\lib\\site-packages\\matplotlib\\axes\\_base.py\u001b[0m in \u001b[0;36mdraw\u001b[1;34m(self, renderer, inframe)\u001b[0m\n\u001b[0;32m   2746\u001b[0m             \u001b[0mrenderer\u001b[0m\u001b[1;33m.\u001b[0m\u001b[0mstop_rasterizing\u001b[0m\u001b[1;33m(\u001b[0m\u001b[1;33m)\u001b[0m\u001b[1;33m\u001b[0m\u001b[1;33m\u001b[0m\u001b[0m\n\u001b[0;32m   2747\u001b[0m \u001b[1;33m\u001b[0m\u001b[0m\n\u001b[1;32m-> 2748\u001b[1;33m         \u001b[0mmimage\u001b[0m\u001b[1;33m.\u001b[0m\u001b[0m_draw_list_compositing_images\u001b[0m\u001b[1;33m(\u001b[0m\u001b[0mrenderer\u001b[0m\u001b[1;33m,\u001b[0m \u001b[0mself\u001b[0m\u001b[1;33m,\u001b[0m \u001b[0martists\u001b[0m\u001b[1;33m)\u001b[0m\u001b[1;33m\u001b[0m\u001b[1;33m\u001b[0m\u001b[0m\n\u001b[0m\u001b[0;32m   2749\u001b[0m \u001b[1;33m\u001b[0m\u001b[0m\n\u001b[0;32m   2750\u001b[0m         \u001b[0mrenderer\u001b[0m\u001b[1;33m.\u001b[0m\u001b[0mclose_group\u001b[0m\u001b[1;33m(\u001b[0m\u001b[1;34m'axes'\u001b[0m\u001b[1;33m)\u001b[0m\u001b[1;33m\u001b[0m\u001b[1;33m\u001b[0m\u001b[0m\n",
      "\u001b[1;32m~\\miniconda3\\lib\\site-packages\\matplotlib\\image.py\u001b[0m in \u001b[0;36m_draw_list_compositing_images\u001b[1;34m(renderer, parent, artists, suppress_composite)\u001b[0m\n\u001b[0;32m    129\u001b[0m     \u001b[1;32mif\u001b[0m \u001b[0mnot_composite\u001b[0m \u001b[1;32mor\u001b[0m \u001b[1;32mnot\u001b[0m \u001b[0mhas_images\u001b[0m\u001b[1;33m:\u001b[0m\u001b[1;33m\u001b[0m\u001b[1;33m\u001b[0m\u001b[0m\n\u001b[0;32m    130\u001b[0m         \u001b[1;32mfor\u001b[0m \u001b[0ma\u001b[0m \u001b[1;32min\u001b[0m \u001b[0martists\u001b[0m\u001b[1;33m:\u001b[0m\u001b[1;33m\u001b[0m\u001b[1;33m\u001b[0m\u001b[0m\n\u001b[1;32m--> 131\u001b[1;33m             \u001b[0ma\u001b[0m\u001b[1;33m.\u001b[0m\u001b[0mdraw\u001b[0m\u001b[1;33m(\u001b[0m\u001b[0mrenderer\u001b[0m\u001b[1;33m)\u001b[0m\u001b[1;33m\u001b[0m\u001b[1;33m\u001b[0m\u001b[0m\n\u001b[0m\u001b[0;32m    132\u001b[0m     \u001b[1;32melse\u001b[0m\u001b[1;33m:\u001b[0m\u001b[1;33m\u001b[0m\u001b[1;33m\u001b[0m\u001b[0m\n\u001b[0;32m    133\u001b[0m         \u001b[1;31m# Composite any adjacent images together\u001b[0m\u001b[1;33m\u001b[0m\u001b[1;33m\u001b[0m\u001b[1;33m\u001b[0m\u001b[0m\n",
      "\u001b[1;32m~\\miniconda3\\lib\\site-packages\\matplotlib\\artist.py\u001b[0m in \u001b[0;36mdraw_wrapper\u001b[1;34m(artist, renderer, *args, **kwargs)\u001b[0m\n\u001b[0;32m     39\u001b[0m                 \u001b[0mrenderer\u001b[0m\u001b[1;33m.\u001b[0m\u001b[0mstart_filter\u001b[0m\u001b[1;33m(\u001b[0m\u001b[1;33m)\u001b[0m\u001b[1;33m\u001b[0m\u001b[1;33m\u001b[0m\u001b[0m\n\u001b[0;32m     40\u001b[0m \u001b[1;33m\u001b[0m\u001b[0m\n\u001b[1;32m---> 41\u001b[1;33m             \u001b[1;32mreturn\u001b[0m \u001b[0mdraw\u001b[0m\u001b[1;33m(\u001b[0m\u001b[0martist\u001b[0m\u001b[1;33m,\u001b[0m \u001b[0mrenderer\u001b[0m\u001b[1;33m,\u001b[0m \u001b[1;33m*\u001b[0m\u001b[0margs\u001b[0m\u001b[1;33m,\u001b[0m \u001b[1;33m**\u001b[0m\u001b[0mkwargs\u001b[0m\u001b[1;33m)\u001b[0m\u001b[1;33m\u001b[0m\u001b[1;33m\u001b[0m\u001b[0m\n\u001b[0m\u001b[0;32m     42\u001b[0m         \u001b[1;32mfinally\u001b[0m\u001b[1;33m:\u001b[0m\u001b[1;33m\u001b[0m\u001b[1;33m\u001b[0m\u001b[0m\n\u001b[0;32m     43\u001b[0m             \u001b[1;32mif\u001b[0m \u001b[0martist\u001b[0m\u001b[1;33m.\u001b[0m\u001b[0mget_agg_filter\u001b[0m\u001b[1;33m(\u001b[0m\u001b[1;33m)\u001b[0m \u001b[1;32mis\u001b[0m \u001b[1;32mnot\u001b[0m \u001b[1;32mNone\u001b[0m\u001b[1;33m:\u001b[0m\u001b[1;33m\u001b[0m\u001b[1;33m\u001b[0m\u001b[0m\n",
      "\u001b[1;32m~\\miniconda3\\lib\\site-packages\\matplotlib\\collections.py\u001b[0m in \u001b[0;36mdraw\u001b[1;34m(self, renderer)\u001b[0m\n\u001b[0;32m    929\u001b[0m     \u001b[1;32mdef\u001b[0m \u001b[0mdraw\u001b[0m\u001b[1;33m(\u001b[0m\u001b[0mself\u001b[0m\u001b[1;33m,\u001b[0m \u001b[0mrenderer\u001b[0m\u001b[1;33m)\u001b[0m\u001b[1;33m:\u001b[0m\u001b[1;33m\u001b[0m\u001b[1;33m\u001b[0m\u001b[0m\n\u001b[0;32m    930\u001b[0m         \u001b[0mself\u001b[0m\u001b[1;33m.\u001b[0m\u001b[0mset_sizes\u001b[0m\u001b[1;33m(\u001b[0m\u001b[0mself\u001b[0m\u001b[1;33m.\u001b[0m\u001b[0m_sizes\u001b[0m\u001b[1;33m,\u001b[0m \u001b[0mself\u001b[0m\u001b[1;33m.\u001b[0m\u001b[0mfigure\u001b[0m\u001b[1;33m.\u001b[0m\u001b[0mdpi\u001b[0m\u001b[1;33m)\u001b[0m\u001b[1;33m\u001b[0m\u001b[1;33m\u001b[0m\u001b[0m\n\u001b[1;32m--> 931\u001b[1;33m         \u001b[0mCollection\u001b[0m\u001b[1;33m.\u001b[0m\u001b[0mdraw\u001b[0m\u001b[1;33m(\u001b[0m\u001b[0mself\u001b[0m\u001b[1;33m,\u001b[0m \u001b[0mrenderer\u001b[0m\u001b[1;33m)\u001b[0m\u001b[1;33m\u001b[0m\u001b[1;33m\u001b[0m\u001b[0m\n\u001b[0m\u001b[0;32m    932\u001b[0m \u001b[1;33m\u001b[0m\u001b[0m\n\u001b[0;32m    933\u001b[0m \u001b[1;33m\u001b[0m\u001b[0m\n",
      "\u001b[1;32m~\\miniconda3\\lib\\site-packages\\matplotlib\\artist.py\u001b[0m in \u001b[0;36mdraw_wrapper\u001b[1;34m(artist, renderer, *args, **kwargs)\u001b[0m\n\u001b[0;32m     39\u001b[0m                 \u001b[0mrenderer\u001b[0m\u001b[1;33m.\u001b[0m\u001b[0mstart_filter\u001b[0m\u001b[1;33m(\u001b[0m\u001b[1;33m)\u001b[0m\u001b[1;33m\u001b[0m\u001b[1;33m\u001b[0m\u001b[0m\n\u001b[0;32m     40\u001b[0m \u001b[1;33m\u001b[0m\u001b[0m\n\u001b[1;32m---> 41\u001b[1;33m             \u001b[1;32mreturn\u001b[0m \u001b[0mdraw\u001b[0m\u001b[1;33m(\u001b[0m\u001b[0martist\u001b[0m\u001b[1;33m,\u001b[0m \u001b[0mrenderer\u001b[0m\u001b[1;33m,\u001b[0m \u001b[1;33m*\u001b[0m\u001b[0margs\u001b[0m\u001b[1;33m,\u001b[0m \u001b[1;33m**\u001b[0m\u001b[0mkwargs\u001b[0m\u001b[1;33m)\u001b[0m\u001b[1;33m\u001b[0m\u001b[1;33m\u001b[0m\u001b[0m\n\u001b[0m\u001b[0;32m     42\u001b[0m         \u001b[1;32mfinally\u001b[0m\u001b[1;33m:\u001b[0m\u001b[1;33m\u001b[0m\u001b[1;33m\u001b[0m\u001b[0m\n\u001b[0;32m     43\u001b[0m             \u001b[1;32mif\u001b[0m \u001b[0martist\u001b[0m\u001b[1;33m.\u001b[0m\u001b[0mget_agg_filter\u001b[0m\u001b[1;33m(\u001b[0m\u001b[1;33m)\u001b[0m \u001b[1;32mis\u001b[0m \u001b[1;32mnot\u001b[0m \u001b[1;32mNone\u001b[0m\u001b[1;33m:\u001b[0m\u001b[1;33m\u001b[0m\u001b[1;33m\u001b[0m\u001b[0m\n",
      "\u001b[1;32m~\\miniconda3\\lib\\site-packages\\matplotlib\\collections.py\u001b[0m in \u001b[0;36mdraw\u001b[1;34m(self, renderer)\u001b[0m\n\u001b[0;32m    404\u001b[0m                 mpath.Path(offsets), transOffset, tuple(facecolors[0]))\n\u001b[0;32m    405\u001b[0m         \u001b[1;32melse\u001b[0m\u001b[1;33m:\u001b[0m\u001b[1;33m\u001b[0m\u001b[1;33m\u001b[0m\u001b[0m\n\u001b[1;32m--> 406\u001b[1;33m             renderer.draw_path_collection(\n\u001b[0m\u001b[0;32m    407\u001b[0m                 \u001b[0mgc\u001b[0m\u001b[1;33m,\u001b[0m \u001b[0mtransform\u001b[0m\u001b[1;33m.\u001b[0m\u001b[0mfrozen\u001b[0m\u001b[1;33m(\u001b[0m\u001b[1;33m)\u001b[0m\u001b[1;33m,\u001b[0m \u001b[0mpaths\u001b[0m\u001b[1;33m,\u001b[0m\u001b[1;33m\u001b[0m\u001b[1;33m\u001b[0m\u001b[0m\n\u001b[0;32m    408\u001b[0m                 \u001b[0mself\u001b[0m\u001b[1;33m.\u001b[0m\u001b[0mget_transforms\u001b[0m\u001b[1;33m(\u001b[0m\u001b[1;33m)\u001b[0m\u001b[1;33m,\u001b[0m \u001b[0moffsets\u001b[0m\u001b[1;33m,\u001b[0m \u001b[0mtransOffset\u001b[0m\u001b[1;33m,\u001b[0m\u001b[1;33m\u001b[0m\u001b[1;33m\u001b[0m\u001b[0m\n",
      "\u001b[1;32m~\\miniconda3\\lib\\site-packages\\matplotlib\\backends\\backend_agg.py\u001b[0m in \u001b[0;36mdraw_path_collection\u001b[1;34m(self, gc, master_transform, paths, all_transforms, offsets, offsetTrans, facecolors, edgecolors, linewidths, linestyles, antialiaseds, urls, offset_position)\u001b[0m\n\u001b[0;32m    170\u001b[0m                 \u001b[1;34m\"3.3\"\u001b[0m\u001b[1;33m,\u001b[0m \u001b[0mmessage\u001b[0m\u001b[1;33m=\u001b[0m\u001b[1;34m\"Support for offset_position='data' is \"\u001b[0m\u001b[1;33m\u001b[0m\u001b[1;33m\u001b[0m\u001b[0m\n\u001b[0;32m    171\u001b[0m                 \"deprecated since %(since)s and will be removed %(removal)s.\")\n\u001b[1;32m--> 172\u001b[1;33m         return self._renderer.draw_path_collection(\n\u001b[0m\u001b[0;32m    173\u001b[0m             \u001b[0mgc\u001b[0m\u001b[1;33m,\u001b[0m \u001b[0mmaster_transform\u001b[0m\u001b[1;33m,\u001b[0m \u001b[0mpaths\u001b[0m\u001b[1;33m,\u001b[0m \u001b[0mall_transforms\u001b[0m\u001b[1;33m,\u001b[0m \u001b[0moffsets\u001b[0m\u001b[1;33m,\u001b[0m \u001b[0moffsetTrans\u001b[0m\u001b[1;33m,\u001b[0m\u001b[1;33m\u001b[0m\u001b[1;33m\u001b[0m\u001b[0m\n\u001b[0;32m    174\u001b[0m             \u001b[0mfacecolors\u001b[0m\u001b[1;33m,\u001b[0m \u001b[0medgecolors\u001b[0m\u001b[1;33m,\u001b[0m \u001b[0mlinewidths\u001b[0m\u001b[1;33m,\u001b[0m \u001b[0mlinestyles\u001b[0m\u001b[1;33m,\u001b[0m \u001b[0mantialiaseds\u001b[0m\u001b[1;33m,\u001b[0m \u001b[0murls\u001b[0m\u001b[1;33m,\u001b[0m\u001b[1;33m\u001b[0m\u001b[1;33m\u001b[0m\u001b[0m\n",
      "\u001b[1;32m~\\miniconda3\\lib\\site-packages\\matplotlib\\path.py\u001b[0m in \u001b[0;36mvertices\u001b[1;34m(self)\u001b[0m\n\u001b[0;32m    200\u001b[0m         )\n\u001b[0;32m    201\u001b[0m \u001b[1;33m\u001b[0m\u001b[0m\n\u001b[1;32m--> 202\u001b[1;33m     \u001b[1;33m@\u001b[0m\u001b[0mproperty\u001b[0m\u001b[1;33m\u001b[0m\u001b[1;33m\u001b[0m\u001b[0m\n\u001b[0m\u001b[0;32m    203\u001b[0m     \u001b[1;32mdef\u001b[0m \u001b[0mvertices\u001b[0m\u001b[1;33m(\u001b[0m\u001b[0mself\u001b[0m\u001b[1;33m)\u001b[0m\u001b[1;33m:\u001b[0m\u001b[1;33m\u001b[0m\u001b[1;33m\u001b[0m\u001b[0m\n\u001b[0;32m    204\u001b[0m         \"\"\"\n",
      "\u001b[1;31mKeyboardInterrupt\u001b[0m: "
     ]
    }
   ],
   "source": [
    "sns.pairplot(data = df1, vars = df1.columns[:-1], hue = 'y');"
   ]
  },
  {
   "cell_type": "markdown",
   "metadata": {
    "id": "h9aCSpIYLu0b"
   },
   "source": [
    "**Ejercicios:**\n",
    "1. Explora el espacio de hiperparámetros con `Grid Search` de un árbol de decisión, entrenado con el dataset artificial antes mencionado. Elige aquellos hiperparámetros que maximicen la exactitud. Luego, evalúa la performance en el conjunto de Test y comparala con la obtenida por `Grid Search` ¿Son diferentes? ¿A qué se deberá? \n",
    "\n",
    "Algunas recomendaciones útiles:\n",
    "   * Recuerda que el espacio a explorar es definido a través de un diccionario. Algunas variables que pueden ser interesantes de explorar, en el caso de un árbol de decisión son: `criterion`, `max_depth`, `min_samples_split` y `min_samples_leaf`.\n",
    "   * Los resultados del `GridSearchCV` se encuentran en un diccionario que se accede con `.cv_results_`. Si quieres conocer las *keys* de ese diccionario, pueden usar `.cv_results_.keys()`\n",
    "   * `GridSearchCV` entrena al final un modelo utilizando todo el conjunto de entrenamiento, con los mejores parámetros que encontró. Por lo tanto, se puede usar ese modelo para predecir con `.predict()`\n",
    "   * Les recomendamos tener a mano la [documentación](https://scikit-learn.org/stable/modules/generated/sklearn.model_selection.GridSearchCV.html) de `GridSearchCV` en Scikit-Learn.\n",
    "    \n",
    "2. Repite el ejercicio 1, pero esta vez evaluando precisión, exhaustividad, F-Score y AUC-ROC. \n",
    "\n",
    "**Notar** que se pueden evaluar múltiples métricas a la vez. También notar que si no eligen una métrica por sobre las otras, `GridSearchCV` no puede reentrenar con el mejor modelo. ¿Cómo son los hiperparámetros que maximizan cada métrica? Por ejemplo, compara entre precisión y exhaustividad.\n",
    "\n",
    "3. **Opcional 1:** repite los ejercicios 1 y 2 pero esta vez utilizando un `Random Search`.\n",
    "4. **Opcional 2:** Si aún tienes tiempo y ganas, repite para un `clasificador KNN`."
   ]
  },
  {
   "cell_type": "code",
   "execution_count": 63,
   "metadata": {},
   "outputs": [],
   "source": [
    "from sklearn.tree import DecisionTreeClassifier"
   ]
  },
  {
   "cell_type": "code",
   "execution_count": 64,
   "metadata": {},
   "outputs": [],
   "source": [
    "X1=df1.drop(['y'],axis=1)\n",
    "y1=df1['y']"
   ]
  },
  {
   "cell_type": "code",
   "execution_count": 65,
   "metadata": {},
   "outputs": [],
   "source": [
    "X_train2,X_test2,y_train2,y_test2=train_test_split(X1,y1,random_state=42)"
   ]
  },
  {
   "cell_type": "code",
   "execution_count": 77,
   "metadata": {},
   "outputs": [],
   "source": [
    "param_grid_tree = {'criterion': ['gini', 'entropy'],\n",
    "              'max_depth' :np.arange(1, 20), \n",
    "              'min_samples_split':[2,3,4],\n",
    "              'min_samples_leaf':[1,2,3]}"
   ]
  },
  {
   "cell_type": "code",
   "execution_count": null,
   "metadata": {},
   "outputs": [],
   "source": [
    "tree= DecisionTreeClassifier()\n",
    "modelo = GridSearchCV(tree, param_grid=param_grid_tree, cv=5)\n",
    "\n",
    "modelo.fit(X_train2, y_train2)"
   ]
  },
  {
   "cell_type": "code",
   "execution_count": 71,
   "metadata": {},
   "outputs": [
    {
     "name": "stdout",
     "output_type": "stream",
     "text": [
      "Mejores parametros: {'criterion': 'entropy', 'max_depth': 9, 'min_samples_leaf': 3, 'min_samples_split': 2}\n",
      "Mejor Score: 0.9570399999999999\n",
      "\n"
     ]
    },
    {
     "data": {
      "text/html": [
       "<div>\n",
       "<style scoped>\n",
       "    .dataframe tbody tr th:only-of-type {\n",
       "        vertical-align: middle;\n",
       "    }\n",
       "\n",
       "    .dataframe tbody tr th {\n",
       "        vertical-align: top;\n",
       "    }\n",
       "\n",
       "    .dataframe thead th {\n",
       "        text-align: right;\n",
       "    }\n",
       "</style>\n",
       "<table border=\"1\" class=\"dataframe\">\n",
       "  <thead>\n",
       "    <tr style=\"text-align: right;\">\n",
       "      <th></th>\n",
       "      <th>mean_fit_time</th>\n",
       "      <th>std_fit_time</th>\n",
       "      <th>mean_score_time</th>\n",
       "      <th>std_score_time</th>\n",
       "      <th>param_criterion</th>\n",
       "      <th>param_max_depth</th>\n",
       "      <th>param_min_samples_leaf</th>\n",
       "      <th>param_min_samples_split</th>\n",
       "      <th>params</th>\n",
       "      <th>split0_test_score</th>\n",
       "      <th>split1_test_score</th>\n",
       "      <th>split2_test_score</th>\n",
       "      <th>split3_test_score</th>\n",
       "      <th>split4_test_score</th>\n",
       "      <th>mean_test_score</th>\n",
       "      <th>std_test_score</th>\n",
       "      <th>rank_test_score</th>\n",
       "    </tr>\n",
       "  </thead>\n",
       "  <tbody>\n",
       "    <tr>\n",
       "      <th>0</th>\n",
       "      <td>0.075598</td>\n",
       "      <td>0.013869</td>\n",
       "      <td>0.005585</td>\n",
       "      <td>0.000797</td>\n",
       "      <td>gini</td>\n",
       "      <td>1</td>\n",
       "      <td>1</td>\n",
       "      <td>2</td>\n",
       "      <td>{'criterion': 'gini', 'max_depth': 1, 'min_sam...</td>\n",
       "      <td>0.838067</td>\n",
       "      <td>0.822267</td>\n",
       "      <td>0.829800</td>\n",
       "      <td>0.827267</td>\n",
       "      <td>0.829267</td>\n",
       "      <td>0.829333</td>\n",
       "      <td>0.005113</td>\n",
       "      <td>325</td>\n",
       "    </tr>\n",
       "    <tr>\n",
       "      <th>1</th>\n",
       "      <td>0.057048</td>\n",
       "      <td>0.001713</td>\n",
       "      <td>0.004188</td>\n",
       "      <td>0.000979</td>\n",
       "      <td>gini</td>\n",
       "      <td>1</td>\n",
       "      <td>1</td>\n",
       "      <td>3</td>\n",
       "      <td>{'criterion': 'gini', 'max_depth': 1, 'min_sam...</td>\n",
       "      <td>0.838067</td>\n",
       "      <td>0.822267</td>\n",
       "      <td>0.829800</td>\n",
       "      <td>0.827267</td>\n",
       "      <td>0.829267</td>\n",
       "      <td>0.829333</td>\n",
       "      <td>0.005113</td>\n",
       "      <td>325</td>\n",
       "    </tr>\n",
       "    <tr>\n",
       "      <th>2</th>\n",
       "      <td>0.059842</td>\n",
       "      <td>0.003839</td>\n",
       "      <td>0.004590</td>\n",
       "      <td>0.000800</td>\n",
       "      <td>gini</td>\n",
       "      <td>1</td>\n",
       "      <td>1</td>\n",
       "      <td>4</td>\n",
       "      <td>{'criterion': 'gini', 'max_depth': 1, 'min_sam...</td>\n",
       "      <td>0.838067</td>\n",
       "      <td>0.822267</td>\n",
       "      <td>0.829800</td>\n",
       "      <td>0.827267</td>\n",
       "      <td>0.829267</td>\n",
       "      <td>0.829333</td>\n",
       "      <td>0.005113</td>\n",
       "      <td>325</td>\n",
       "    </tr>\n",
       "    <tr>\n",
       "      <th>3</th>\n",
       "      <td>0.067288</td>\n",
       "      <td>0.005635</td>\n",
       "      <td>0.004586</td>\n",
       "      <td>0.001019</td>\n",
       "      <td>gini</td>\n",
       "      <td>1</td>\n",
       "      <td>2</td>\n",
       "      <td>2</td>\n",
       "      <td>{'criterion': 'gini', 'max_depth': 1, 'min_sam...</td>\n",
       "      <td>0.838067</td>\n",
       "      <td>0.822267</td>\n",
       "      <td>0.829800</td>\n",
       "      <td>0.827267</td>\n",
       "      <td>0.829267</td>\n",
       "      <td>0.829333</td>\n",
       "      <td>0.005113</td>\n",
       "      <td>325</td>\n",
       "    </tr>\n",
       "    <tr>\n",
       "      <th>4</th>\n",
       "      <td>0.076794</td>\n",
       "      <td>0.014426</td>\n",
       "      <td>0.007381</td>\n",
       "      <td>0.004019</td>\n",
       "      <td>gini</td>\n",
       "      <td>1</td>\n",
       "      <td>2</td>\n",
       "      <td>3</td>\n",
       "      <td>{'criterion': 'gini', 'max_depth': 1, 'min_sam...</td>\n",
       "      <td>0.838067</td>\n",
       "      <td>0.822267</td>\n",
       "      <td>0.829800</td>\n",
       "      <td>0.827267</td>\n",
       "      <td>0.829267</td>\n",
       "      <td>0.829333</td>\n",
       "      <td>0.005113</td>\n",
       "      <td>325</td>\n",
       "    </tr>\n",
       "    <tr>\n",
       "      <th>...</th>\n",
       "      <td>...</td>\n",
       "      <td>...</td>\n",
       "      <td>...</td>\n",
       "      <td>...</td>\n",
       "      <td>...</td>\n",
       "      <td>...</td>\n",
       "      <td>...</td>\n",
       "      <td>...</td>\n",
       "      <td>...</td>\n",
       "      <td>...</td>\n",
       "      <td>...</td>\n",
       "      <td>...</td>\n",
       "      <td>...</td>\n",
       "      <td>...</td>\n",
       "      <td>...</td>\n",
       "      <td>...</td>\n",
       "      <td>...</td>\n",
       "    </tr>\n",
       "    <tr>\n",
       "      <th>337</th>\n",
       "      <td>0.840521</td>\n",
       "      <td>0.034607</td>\n",
       "      <td>0.007980</td>\n",
       "      <td>0.002601</td>\n",
       "      <td>entropy</td>\n",
       "      <td>19</td>\n",
       "      <td>2</td>\n",
       "      <td>3</td>\n",
       "      <td>{'criterion': 'entropy', 'max_depth': 19, 'min...</td>\n",
       "      <td>0.944000</td>\n",
       "      <td>0.940000</td>\n",
       "      <td>0.943000</td>\n",
       "      <td>0.944600</td>\n",
       "      <td>0.944400</td>\n",
       "      <td>0.943200</td>\n",
       "      <td>0.001692</td>\n",
       "      <td>256</td>\n",
       "    </tr>\n",
       "    <tr>\n",
       "      <th>338</th>\n",
       "      <td>0.833216</td>\n",
       "      <td>0.040107</td>\n",
       "      <td>0.006834</td>\n",
       "      <td>0.001570</td>\n",
       "      <td>entropy</td>\n",
       "      <td>19</td>\n",
       "      <td>2</td>\n",
       "      <td>4</td>\n",
       "      <td>{'criterion': 'entropy', 'max_depth': 19, 'min...</td>\n",
       "      <td>0.944133</td>\n",
       "      <td>0.941467</td>\n",
       "      <td>0.942600</td>\n",
       "      <td>0.944200</td>\n",
       "      <td>0.944333</td>\n",
       "      <td>0.943347</td>\n",
       "      <td>0.001132</td>\n",
       "      <td>254</td>\n",
       "    </tr>\n",
       "    <tr>\n",
       "      <th>339</th>\n",
       "      <td>0.852010</td>\n",
       "      <td>0.046704</td>\n",
       "      <td>0.006382</td>\n",
       "      <td>0.000798</td>\n",
       "      <td>entropy</td>\n",
       "      <td>19</td>\n",
       "      <td>3</td>\n",
       "      <td>2</td>\n",
       "      <td>{'criterion': 'entropy', 'max_depth': 19, 'min...</td>\n",
       "      <td>0.947600</td>\n",
       "      <td>0.945667</td>\n",
       "      <td>0.943200</td>\n",
       "      <td>0.949000</td>\n",
       "      <td>0.947800</td>\n",
       "      <td>0.946653</td>\n",
       "      <td>0.002031</td>\n",
       "      <td>213</td>\n",
       "    </tr>\n",
       "    <tr>\n",
       "      <th>340</th>\n",
       "      <td>0.800790</td>\n",
       "      <td>0.021269</td>\n",
       "      <td>0.006985</td>\n",
       "      <td>0.000635</td>\n",
       "      <td>entropy</td>\n",
       "      <td>19</td>\n",
       "      <td>3</td>\n",
       "      <td>3</td>\n",
       "      <td>{'criterion': 'entropy', 'max_depth': 19, 'min...</td>\n",
       "      <td>0.948600</td>\n",
       "      <td>0.945667</td>\n",
       "      <td>0.944933</td>\n",
       "      <td>0.948733</td>\n",
       "      <td>0.948133</td>\n",
       "      <td>0.947213</td>\n",
       "      <td>0.001592</td>\n",
       "      <td>200</td>\n",
       "    </tr>\n",
       "    <tr>\n",
       "      <th>341</th>\n",
       "      <td>0.805755</td>\n",
       "      <td>0.014491</td>\n",
       "      <td>0.006182</td>\n",
       "      <td>0.000746</td>\n",
       "      <td>entropy</td>\n",
       "      <td>19</td>\n",
       "      <td>3</td>\n",
       "      <td>4</td>\n",
       "      <td>{'criterion': 'entropy', 'max_depth': 19, 'min...</td>\n",
       "      <td>0.948000</td>\n",
       "      <td>0.946067</td>\n",
       "      <td>0.944533</td>\n",
       "      <td>0.949600</td>\n",
       "      <td>0.948333</td>\n",
       "      <td>0.947307</td>\n",
       "      <td>0.001790</td>\n",
       "      <td>198</td>\n",
       "    </tr>\n",
       "  </tbody>\n",
       "</table>\n",
       "<p>342 rows × 17 columns</p>\n",
       "</div>"
      ],
      "text/plain": [
       "     mean_fit_time  std_fit_time  mean_score_time  std_score_time  \\\n",
       "0         0.075598      0.013869         0.005585        0.000797   \n",
       "1         0.057048      0.001713         0.004188        0.000979   \n",
       "2         0.059842      0.003839         0.004590        0.000800   \n",
       "3         0.067288      0.005635         0.004586        0.001019   \n",
       "4         0.076794      0.014426         0.007381        0.004019   \n",
       "..             ...           ...              ...             ...   \n",
       "337       0.840521      0.034607         0.007980        0.002601   \n",
       "338       0.833216      0.040107         0.006834        0.001570   \n",
       "339       0.852010      0.046704         0.006382        0.000798   \n",
       "340       0.800790      0.021269         0.006985        0.000635   \n",
       "341       0.805755      0.014491         0.006182        0.000746   \n",
       "\n",
       "    param_criterion param_max_depth param_min_samples_leaf  \\\n",
       "0              gini               1                      1   \n",
       "1              gini               1                      1   \n",
       "2              gini               1                      1   \n",
       "3              gini               1                      2   \n",
       "4              gini               1                      2   \n",
       "..              ...             ...                    ...   \n",
       "337         entropy              19                      2   \n",
       "338         entropy              19                      2   \n",
       "339         entropy              19                      3   \n",
       "340         entropy              19                      3   \n",
       "341         entropy              19                      3   \n",
       "\n",
       "    param_min_samples_split  \\\n",
       "0                         2   \n",
       "1                         3   \n",
       "2                         4   \n",
       "3                         2   \n",
       "4                         3   \n",
       "..                      ...   \n",
       "337                       3   \n",
       "338                       4   \n",
       "339                       2   \n",
       "340                       3   \n",
       "341                       4   \n",
       "\n",
       "                                                params  split0_test_score  \\\n",
       "0    {'criterion': 'gini', 'max_depth': 1, 'min_sam...           0.838067   \n",
       "1    {'criterion': 'gini', 'max_depth': 1, 'min_sam...           0.838067   \n",
       "2    {'criterion': 'gini', 'max_depth': 1, 'min_sam...           0.838067   \n",
       "3    {'criterion': 'gini', 'max_depth': 1, 'min_sam...           0.838067   \n",
       "4    {'criterion': 'gini', 'max_depth': 1, 'min_sam...           0.838067   \n",
       "..                                                 ...                ...   \n",
       "337  {'criterion': 'entropy', 'max_depth': 19, 'min...           0.944000   \n",
       "338  {'criterion': 'entropy', 'max_depth': 19, 'min...           0.944133   \n",
       "339  {'criterion': 'entropy', 'max_depth': 19, 'min...           0.947600   \n",
       "340  {'criterion': 'entropy', 'max_depth': 19, 'min...           0.948600   \n",
       "341  {'criterion': 'entropy', 'max_depth': 19, 'min...           0.948000   \n",
       "\n",
       "     split1_test_score  split2_test_score  split3_test_score  \\\n",
       "0             0.822267           0.829800           0.827267   \n",
       "1             0.822267           0.829800           0.827267   \n",
       "2             0.822267           0.829800           0.827267   \n",
       "3             0.822267           0.829800           0.827267   \n",
       "4             0.822267           0.829800           0.827267   \n",
       "..                 ...                ...                ...   \n",
       "337           0.940000           0.943000           0.944600   \n",
       "338           0.941467           0.942600           0.944200   \n",
       "339           0.945667           0.943200           0.949000   \n",
       "340           0.945667           0.944933           0.948733   \n",
       "341           0.946067           0.944533           0.949600   \n",
       "\n",
       "     split4_test_score  mean_test_score  std_test_score  rank_test_score  \n",
       "0             0.829267         0.829333        0.005113              325  \n",
       "1             0.829267         0.829333        0.005113              325  \n",
       "2             0.829267         0.829333        0.005113              325  \n",
       "3             0.829267         0.829333        0.005113              325  \n",
       "4             0.829267         0.829333        0.005113              325  \n",
       "..                 ...              ...             ...              ...  \n",
       "337           0.944400         0.943200        0.001692              256  \n",
       "338           0.944333         0.943347        0.001132              254  \n",
       "339           0.947800         0.946653        0.002031              213  \n",
       "340           0.948133         0.947213        0.001592              200  \n",
       "341           0.948333         0.947307        0.001790              198  \n",
       "\n",
       "[342 rows x 17 columns]"
      ]
     },
     "execution_count": 71,
     "metadata": {},
     "output_type": "execute_result"
    }
   ],
   "source": [
    "print(\"Mejores parametros: \"+str(modelo.best_params_))\n",
    "print(\"Mejor Score: \"+str(modelo.best_score_)+'\\n')\n",
    "\n",
    "scores = pd.DataFrame(modelo.cv_results_)\n",
    "scores"
   ]
  },
  {
   "cell_type": "code",
   "execution_count": 72,
   "metadata": {},
   "outputs": [],
   "source": [
    "prediction1 = modelo.predict(X_test2)"
   ]
  },
  {
   "cell_type": "code",
   "execution_count": 73,
   "metadata": {},
   "outputs": [
    {
     "name": "stdout",
     "output_type": "stream",
     "text": [
      "Matriz de confusión:\n",
      "[[11905   606]\n",
      " [  427 12062]]\n"
     ]
    }
   ],
   "source": [
    "cm1= confusion_matrix(y_test2,prediction1)\n",
    "print(\"Matriz de confusión:\")\n",
    "print(cm1)"
   ]
  },
  {
   "cell_type": "code",
   "execution_count": 74,
   "metadata": {},
   "outputs": [
    {
     "name": "stdout",
     "output_type": "stream",
     "text": [
      "Reporte de Clasificación:\n",
      "              precision    recall  f1-score   support\n",
      "\n",
      "           0       0.97      0.95      0.96     12511\n",
      "           1       0.95      0.97      0.96     12489\n",
      "\n",
      "    accuracy                           0.96     25000\n",
      "   macro avg       0.96      0.96      0.96     25000\n",
      "weighted avg       0.96      0.96      0.96     25000\n",
      "\n"
     ]
    }
   ],
   "source": [
    "report1 = classification_report(y_test2, prediction1)\n",
    "print(\"Reporte de Clasificación:\")\n",
    "print(report1)"
   ]
  },
  {
   "cell_type": "code",
   "execution_count": null,
   "metadata": {},
   "outputs": [],
   "source": []
  }
 ],
 "metadata": {
  "colab": {
   "name": "DS_Bitácora_22_Optimizacion_de_Hiperparametros.ipynb",
   "provenance": []
  },
  "kernelspec": {
   "display_name": "Python 3",
   "language": "python",
   "name": "python3"
  },
  "language_info": {
   "codemirror_mode": {
    "name": "ipython",
    "version": 3
   },
   "file_extension": ".py",
   "mimetype": "text/x-python",
   "name": "python",
   "nbconvert_exporter": "python",
   "pygments_lexer": "ipython3",
   "version": "3.8.3"
  }
 },
 "nbformat": 4,
 "nbformat_minor": 4
}
