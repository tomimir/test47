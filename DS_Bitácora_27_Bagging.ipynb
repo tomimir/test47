{
 "cells": [
  {
   "cell_type": "markdown",
   "metadata": {
    "id": "5nLhAya1JvpA"
   },
   "source": [
    "# Ensambles - Bagging\n",
    "\n",
    "A lo largo del notebook vamos a trabajar con el siguiente dataset:\n",
    "\n",
    "https://www.kaggle.com/jsphyg/weather-dataset-rattle-package\n",
    "\n",
    "El objetivo de este analisis será predecir si lloverá o no al día siguiente.\n",
    "\n",
    "## 1. EDA y Preprocesamiento"
   ]
  },
  {
   "cell_type": "code",
   "execution_count": 1,
   "metadata": {
    "id": "0Hef9zJ4JvpD"
   },
   "outputs": [],
   "source": [
    "import numpy as np\n",
    "import pandas as pd\n",
    "\n",
    "import matplotlib.pyplot as plt\n",
    "import seaborn as sns\n",
    "sns.set()\n",
    "\n",
    "from sklearn.preprocessing import StandardScaler\n",
    "\n",
    "from sklearn.model_selection import train_test_split\n",
    "from sklearn.model_selection import cross_val_score\n",
    "from sklearn.model_selection import cross_validate\n",
    "\n",
    "from sklearn.tree import DecisionTreeClassifier\n",
    "\n",
    "import sklearn.metrics as metrics\n",
    "from sklearn.model_selection import learning_curve\n",
    "\n"
   ]
  },
  {
   "cell_type": "markdown",
   "metadata": {
    "id": "9UmmNd16JvpO"
   },
   "source": [
    "1. Abrir el dataset"
   ]
  },
  {
   "cell_type": "code",
   "execution_count": 2,
   "metadata": {
    "id": "mCQgrC5OJvpT"
   },
   "outputs": [
    {
     "data": {
      "text/html": [
       "<div>\n",
       "<style scoped>\n",
       "    .dataframe tbody tr th:only-of-type {\n",
       "        vertical-align: middle;\n",
       "    }\n",
       "\n",
       "    .dataframe tbody tr th {\n",
       "        vertical-align: top;\n",
       "    }\n",
       "\n",
       "    .dataframe thead th {\n",
       "        text-align: right;\n",
       "    }\n",
       "</style>\n",
       "<table border=\"1\" class=\"dataframe\">\n",
       "  <thead>\n",
       "    <tr style=\"text-align: right;\">\n",
       "      <th></th>\n",
       "      <th>Date</th>\n",
       "      <th>Location</th>\n",
       "      <th>MinTemp</th>\n",
       "      <th>MaxTemp</th>\n",
       "      <th>Rainfall</th>\n",
       "      <th>Evaporation</th>\n",
       "      <th>Sunshine</th>\n",
       "      <th>WindGustDir</th>\n",
       "      <th>WindGustSpeed</th>\n",
       "      <th>WindDir9am</th>\n",
       "      <th>...</th>\n",
       "      <th>Humidity3pm</th>\n",
       "      <th>Pressure9am</th>\n",
       "      <th>Pressure3pm</th>\n",
       "      <th>Cloud9am</th>\n",
       "      <th>Cloud3pm</th>\n",
       "      <th>Temp9am</th>\n",
       "      <th>Temp3pm</th>\n",
       "      <th>RainToday</th>\n",
       "      <th>RISK_MM</th>\n",
       "      <th>RainTomorrow</th>\n",
       "    </tr>\n",
       "  </thead>\n",
       "  <tbody>\n",
       "    <tr>\n",
       "      <th>0</th>\n",
       "      <td>2008-12-01</td>\n",
       "      <td>Albury</td>\n",
       "      <td>13.4</td>\n",
       "      <td>22.9</td>\n",
       "      <td>0.6</td>\n",
       "      <td>NaN</td>\n",
       "      <td>NaN</td>\n",
       "      <td>W</td>\n",
       "      <td>44.0</td>\n",
       "      <td>W</td>\n",
       "      <td>...</td>\n",
       "      <td>22.0</td>\n",
       "      <td>1007.7</td>\n",
       "      <td>1007.1</td>\n",
       "      <td>8.0</td>\n",
       "      <td>NaN</td>\n",
       "      <td>16.9</td>\n",
       "      <td>21.8</td>\n",
       "      <td>No</td>\n",
       "      <td>0.0</td>\n",
       "      <td>No</td>\n",
       "    </tr>\n",
       "    <tr>\n",
       "      <th>1</th>\n",
       "      <td>2008-12-02</td>\n",
       "      <td>Albury</td>\n",
       "      <td>7.4</td>\n",
       "      <td>25.1</td>\n",
       "      <td>0.0</td>\n",
       "      <td>NaN</td>\n",
       "      <td>NaN</td>\n",
       "      <td>WNW</td>\n",
       "      <td>44.0</td>\n",
       "      <td>NNW</td>\n",
       "      <td>...</td>\n",
       "      <td>25.0</td>\n",
       "      <td>1010.6</td>\n",
       "      <td>1007.8</td>\n",
       "      <td>NaN</td>\n",
       "      <td>NaN</td>\n",
       "      <td>17.2</td>\n",
       "      <td>24.3</td>\n",
       "      <td>No</td>\n",
       "      <td>0.0</td>\n",
       "      <td>No</td>\n",
       "    </tr>\n",
       "    <tr>\n",
       "      <th>2</th>\n",
       "      <td>2008-12-03</td>\n",
       "      <td>Albury</td>\n",
       "      <td>12.9</td>\n",
       "      <td>25.7</td>\n",
       "      <td>0.0</td>\n",
       "      <td>NaN</td>\n",
       "      <td>NaN</td>\n",
       "      <td>WSW</td>\n",
       "      <td>46.0</td>\n",
       "      <td>W</td>\n",
       "      <td>...</td>\n",
       "      <td>30.0</td>\n",
       "      <td>1007.6</td>\n",
       "      <td>1008.7</td>\n",
       "      <td>NaN</td>\n",
       "      <td>2.0</td>\n",
       "      <td>21.0</td>\n",
       "      <td>23.2</td>\n",
       "      <td>No</td>\n",
       "      <td>0.0</td>\n",
       "      <td>No</td>\n",
       "    </tr>\n",
       "    <tr>\n",
       "      <th>3</th>\n",
       "      <td>2008-12-04</td>\n",
       "      <td>Albury</td>\n",
       "      <td>9.2</td>\n",
       "      <td>28.0</td>\n",
       "      <td>0.0</td>\n",
       "      <td>NaN</td>\n",
       "      <td>NaN</td>\n",
       "      <td>NE</td>\n",
       "      <td>24.0</td>\n",
       "      <td>SE</td>\n",
       "      <td>...</td>\n",
       "      <td>16.0</td>\n",
       "      <td>1017.6</td>\n",
       "      <td>1012.8</td>\n",
       "      <td>NaN</td>\n",
       "      <td>NaN</td>\n",
       "      <td>18.1</td>\n",
       "      <td>26.5</td>\n",
       "      <td>No</td>\n",
       "      <td>1.0</td>\n",
       "      <td>No</td>\n",
       "    </tr>\n",
       "    <tr>\n",
       "      <th>4</th>\n",
       "      <td>2008-12-05</td>\n",
       "      <td>Albury</td>\n",
       "      <td>17.5</td>\n",
       "      <td>32.3</td>\n",
       "      <td>1.0</td>\n",
       "      <td>NaN</td>\n",
       "      <td>NaN</td>\n",
       "      <td>W</td>\n",
       "      <td>41.0</td>\n",
       "      <td>ENE</td>\n",
       "      <td>...</td>\n",
       "      <td>33.0</td>\n",
       "      <td>1010.8</td>\n",
       "      <td>1006.0</td>\n",
       "      <td>7.0</td>\n",
       "      <td>8.0</td>\n",
       "      <td>17.8</td>\n",
       "      <td>29.7</td>\n",
       "      <td>No</td>\n",
       "      <td>0.2</td>\n",
       "      <td>No</td>\n",
       "    </tr>\n",
       "  </tbody>\n",
       "</table>\n",
       "<p>5 rows × 24 columns</p>\n",
       "</div>"
      ],
      "text/plain": [
       "         Date Location  MinTemp  MaxTemp  Rainfall  Evaporation  Sunshine  \\\n",
       "0  2008-12-01   Albury     13.4     22.9       0.6          NaN       NaN   \n",
       "1  2008-12-02   Albury      7.4     25.1       0.0          NaN       NaN   \n",
       "2  2008-12-03   Albury     12.9     25.7       0.0          NaN       NaN   \n",
       "3  2008-12-04   Albury      9.2     28.0       0.0          NaN       NaN   \n",
       "4  2008-12-05   Albury     17.5     32.3       1.0          NaN       NaN   \n",
       "\n",
       "  WindGustDir  WindGustSpeed WindDir9am  ... Humidity3pm  Pressure9am  \\\n",
       "0           W           44.0          W  ...        22.0       1007.7   \n",
       "1         WNW           44.0        NNW  ...        25.0       1010.6   \n",
       "2         WSW           46.0          W  ...        30.0       1007.6   \n",
       "3          NE           24.0         SE  ...        16.0       1017.6   \n",
       "4           W           41.0        ENE  ...        33.0       1010.8   \n",
       "\n",
       "   Pressure3pm  Cloud9am  Cloud3pm  Temp9am  Temp3pm  RainToday  RISK_MM  \\\n",
       "0       1007.1       8.0       NaN     16.9     21.8         No      0.0   \n",
       "1       1007.8       NaN       NaN     17.2     24.3         No      0.0   \n",
       "2       1008.7       NaN       2.0     21.0     23.2         No      0.0   \n",
       "3       1012.8       NaN       NaN     18.1     26.5         No      1.0   \n",
       "4       1006.0       7.0       8.0     17.8     29.7         No      0.2   \n",
       "\n",
       "   RainTomorrow  \n",
       "0            No  \n",
       "1            No  \n",
       "2            No  \n",
       "3            No  \n",
       "4            No  \n",
       "\n",
       "[5 rows x 24 columns]"
      ]
     },
     "execution_count": 2,
     "metadata": {},
     "output_type": "execute_result"
    }
   ],
   "source": [
    "data = pd.read_csv(\"weatherAUS.csv\")\n",
    "data.head()"
   ]
  },
  {
   "cell_type": "markdown",
   "metadata": {
    "id": "oweAXg_nJvpb"
   },
   "source": [
    "Contamos cuántos valores no-nulos hay"
   ]
  },
  {
   "cell_type": "code",
   "execution_count": 3,
   "metadata": {
    "id": "JC3UJn1PJvpd"
   },
   "outputs": [
    {
     "data": {
      "text/plain": [
       "Sunshine          74377\n",
       "Evaporation       81350\n",
       "Cloud3pm          85099\n",
       "Cloud9am          88536\n",
       "Pressure9am      128179\n",
       "Pressure3pm      128212\n",
       "WindDir9am       132180\n",
       "WindGustDir      132863\n",
       "WindGustSpeed    132923\n",
       "WindDir3pm       138415\n",
       "Humidity3pm      138583\n",
       "Temp3pm          139467\n",
       "WindSpeed3pm     139563\n",
       "Humidity9am      140419\n",
       "RainToday        140787\n",
       "Rainfall         140787\n",
       "WindSpeed9am     140845\n",
       "Temp9am          141289\n",
       "MinTemp          141556\n",
       "MaxTemp          141871\n",
       "Date             142193\n",
       "Location         142193\n",
       "RISK_MM          142193\n",
       "RainTomorrow     142193\n",
       "dtype: int64"
      ]
     },
     "execution_count": 3,
     "metadata": {},
     "output_type": "execute_result"
    }
   ],
   "source": [
    "data1=data.copy()\n",
    "data1.count().sort_values()"
   ]
  },
  {
   "cell_type": "markdown",
   "metadata": {
    "id": "ONJ845VYJvpk"
   },
   "source": [
    "2. Tirar las columnas que no nos interesan, entre ellas las que tienen pocos datos (menos de cien mil). Además, tirar 'Location' y 'Date', ya que no nos interesa el lugar ni fecha (al menos en este análisis), y 'RISK_MM', porque es un *leak*. **Para googlear**: ¿qué es un leak?"
   ]
  },
  {
   "cell_type": "code",
   "execution_count": 4,
   "metadata": {
    "id": "RQh_qzUQJvpm"
   },
   "outputs": [
    {
     "data": {
      "text/plain": [
       "(142193, 17)"
      ]
     },
     "execution_count": 4,
     "metadata": {},
     "output_type": "execute_result"
    }
   ],
   "source": [
    "columnas_descartables = ['RISK_MM','Sunshine','Evaporation','Cloud3pm','Cloud9am','Location','Date']\n",
    "data1 = data1.drop(columns=columnas_descartables)\n",
    "data1.shape"
   ]
  },
  {
   "cell_type": "markdown",
   "metadata": {
    "id": "J-NK0lB1Jvpt"
   },
   "source": [
    "3. Tirar todas las filas que tengan valores nulos."
   ]
  },
  {
   "cell_type": "code",
   "execution_count": 5,
   "metadata": {
    "id": "xFtAJxwdJvpu"
   },
   "outputs": [
    {
     "name": "stdout",
     "output_type": "stream",
     "text": [
      "(112925, 17)\n"
     ]
    },
    {
     "data": {
      "text/html": [
       "<div>\n",
       "<style scoped>\n",
       "    .dataframe tbody tr th:only-of-type {\n",
       "        vertical-align: middle;\n",
       "    }\n",
       "\n",
       "    .dataframe tbody tr th {\n",
       "        vertical-align: top;\n",
       "    }\n",
       "\n",
       "    .dataframe thead th {\n",
       "        text-align: right;\n",
       "    }\n",
       "</style>\n",
       "<table border=\"1\" class=\"dataframe\">\n",
       "  <thead>\n",
       "    <tr style=\"text-align: right;\">\n",
       "      <th></th>\n",
       "      <th>MinTemp</th>\n",
       "      <th>MaxTemp</th>\n",
       "      <th>Rainfall</th>\n",
       "      <th>WindGustDir</th>\n",
       "      <th>WindGustSpeed</th>\n",
       "      <th>WindDir9am</th>\n",
       "      <th>WindDir3pm</th>\n",
       "      <th>WindSpeed9am</th>\n",
       "      <th>WindSpeed3pm</th>\n",
       "      <th>Humidity9am</th>\n",
       "      <th>Humidity3pm</th>\n",
       "      <th>Pressure9am</th>\n",
       "      <th>Pressure3pm</th>\n",
       "      <th>Temp9am</th>\n",
       "      <th>Temp3pm</th>\n",
       "      <th>RainToday</th>\n",
       "      <th>RainTomorrow</th>\n",
       "    </tr>\n",
       "  </thead>\n",
       "  <tbody>\n",
       "    <tr>\n",
       "      <th>0</th>\n",
       "      <td>13.4</td>\n",
       "      <td>22.9</td>\n",
       "      <td>0.6</td>\n",
       "      <td>W</td>\n",
       "      <td>44.0</td>\n",
       "      <td>W</td>\n",
       "      <td>WNW</td>\n",
       "      <td>20.0</td>\n",
       "      <td>24.0</td>\n",
       "      <td>71.0</td>\n",
       "      <td>22.0</td>\n",
       "      <td>1007.7</td>\n",
       "      <td>1007.1</td>\n",
       "      <td>16.9</td>\n",
       "      <td>21.8</td>\n",
       "      <td>No</td>\n",
       "      <td>No</td>\n",
       "    </tr>\n",
       "    <tr>\n",
       "      <th>1</th>\n",
       "      <td>7.4</td>\n",
       "      <td>25.1</td>\n",
       "      <td>0.0</td>\n",
       "      <td>WNW</td>\n",
       "      <td>44.0</td>\n",
       "      <td>NNW</td>\n",
       "      <td>WSW</td>\n",
       "      <td>4.0</td>\n",
       "      <td>22.0</td>\n",
       "      <td>44.0</td>\n",
       "      <td>25.0</td>\n",
       "      <td>1010.6</td>\n",
       "      <td>1007.8</td>\n",
       "      <td>17.2</td>\n",
       "      <td>24.3</td>\n",
       "      <td>No</td>\n",
       "      <td>No</td>\n",
       "    </tr>\n",
       "    <tr>\n",
       "      <th>2</th>\n",
       "      <td>12.9</td>\n",
       "      <td>25.7</td>\n",
       "      <td>0.0</td>\n",
       "      <td>WSW</td>\n",
       "      <td>46.0</td>\n",
       "      <td>W</td>\n",
       "      <td>WSW</td>\n",
       "      <td>19.0</td>\n",
       "      <td>26.0</td>\n",
       "      <td>38.0</td>\n",
       "      <td>30.0</td>\n",
       "      <td>1007.6</td>\n",
       "      <td>1008.7</td>\n",
       "      <td>21.0</td>\n",
       "      <td>23.2</td>\n",
       "      <td>No</td>\n",
       "      <td>No</td>\n",
       "    </tr>\n",
       "    <tr>\n",
       "      <th>3</th>\n",
       "      <td>9.2</td>\n",
       "      <td>28.0</td>\n",
       "      <td>0.0</td>\n",
       "      <td>NE</td>\n",
       "      <td>24.0</td>\n",
       "      <td>SE</td>\n",
       "      <td>E</td>\n",
       "      <td>11.0</td>\n",
       "      <td>9.0</td>\n",
       "      <td>45.0</td>\n",
       "      <td>16.0</td>\n",
       "      <td>1017.6</td>\n",
       "      <td>1012.8</td>\n",
       "      <td>18.1</td>\n",
       "      <td>26.5</td>\n",
       "      <td>No</td>\n",
       "      <td>No</td>\n",
       "    </tr>\n",
       "    <tr>\n",
       "      <th>4</th>\n",
       "      <td>17.5</td>\n",
       "      <td>32.3</td>\n",
       "      <td>1.0</td>\n",
       "      <td>W</td>\n",
       "      <td>41.0</td>\n",
       "      <td>ENE</td>\n",
       "      <td>NW</td>\n",
       "      <td>7.0</td>\n",
       "      <td>20.0</td>\n",
       "      <td>82.0</td>\n",
       "      <td>33.0</td>\n",
       "      <td>1010.8</td>\n",
       "      <td>1006.0</td>\n",
       "      <td>17.8</td>\n",
       "      <td>29.7</td>\n",
       "      <td>No</td>\n",
       "      <td>No</td>\n",
       "    </tr>\n",
       "  </tbody>\n",
       "</table>\n",
       "</div>"
      ],
      "text/plain": [
       "   MinTemp  MaxTemp  Rainfall WindGustDir  WindGustSpeed WindDir9am  \\\n",
       "0     13.4     22.9       0.6           W           44.0          W   \n",
       "1      7.4     25.1       0.0         WNW           44.0        NNW   \n",
       "2     12.9     25.7       0.0         WSW           46.0          W   \n",
       "3      9.2     28.0       0.0          NE           24.0         SE   \n",
       "4     17.5     32.3       1.0           W           41.0        ENE   \n",
       "\n",
       "  WindDir3pm  WindSpeed9am  WindSpeed3pm  Humidity9am  Humidity3pm  \\\n",
       "0        WNW          20.0          24.0         71.0         22.0   \n",
       "1        WSW           4.0          22.0         44.0         25.0   \n",
       "2        WSW          19.0          26.0         38.0         30.0   \n",
       "3          E          11.0           9.0         45.0         16.0   \n",
       "4         NW           7.0          20.0         82.0         33.0   \n",
       "\n",
       "   Pressure9am  Pressure3pm  Temp9am  Temp3pm RainToday RainTomorrow  \n",
       "0       1007.7       1007.1     16.9     21.8        No           No  \n",
       "1       1010.6       1007.8     17.2     24.3        No           No  \n",
       "2       1007.6       1008.7     21.0     23.2        No           No  \n",
       "3       1017.6       1012.8     18.1     26.5        No           No  \n",
       "4       1010.8       1006.0     17.8     29.7        No           No  "
      ]
     },
     "execution_count": 5,
     "metadata": {},
     "output_type": "execute_result"
    }
   ],
   "source": [
    "data1 = data1.dropna()\n",
    "print(data1.shape)\n",
    "data1.head()"
   ]
  },
  {
   "cell_type": "markdown",
   "metadata": {
    "id": "dCaiTdARJvp2"
   },
   "source": [
    "4. Para simplificar el preprocesamiento, también tirar todas las columnas que tengan valores categóricos. ¿Por qué no nos molesta tirar 'RainToday'?"
   ]
  },
  {
   "cell_type": "code",
   "execution_count": 6,
   "metadata": {
    "id": "ac96jl7qJvp4"
   },
   "outputs": [
    {
     "data": {
      "text/html": [
       "<div>\n",
       "<style scoped>\n",
       "    .dataframe tbody tr th:only-of-type {\n",
       "        vertical-align: middle;\n",
       "    }\n",
       "\n",
       "    .dataframe tbody tr th {\n",
       "        vertical-align: top;\n",
       "    }\n",
       "\n",
       "    .dataframe thead th {\n",
       "        text-align: right;\n",
       "    }\n",
       "</style>\n",
       "<table border=\"1\" class=\"dataframe\">\n",
       "  <thead>\n",
       "    <tr style=\"text-align: right;\">\n",
       "      <th></th>\n",
       "      <th>MinTemp</th>\n",
       "      <th>MaxTemp</th>\n",
       "      <th>Rainfall</th>\n",
       "      <th>WindGustSpeed</th>\n",
       "      <th>WindSpeed9am</th>\n",
       "      <th>WindSpeed3pm</th>\n",
       "      <th>Humidity9am</th>\n",
       "      <th>Humidity3pm</th>\n",
       "      <th>Pressure9am</th>\n",
       "      <th>Pressure3pm</th>\n",
       "      <th>Temp9am</th>\n",
       "      <th>Temp3pm</th>\n",
       "      <th>RainTomorrow</th>\n",
       "    </tr>\n",
       "  </thead>\n",
       "  <tbody>\n",
       "    <tr>\n",
       "      <th>0</th>\n",
       "      <td>13.4</td>\n",
       "      <td>22.9</td>\n",
       "      <td>0.6</td>\n",
       "      <td>44.0</td>\n",
       "      <td>20.0</td>\n",
       "      <td>24.0</td>\n",
       "      <td>71.0</td>\n",
       "      <td>22.0</td>\n",
       "      <td>1007.7</td>\n",
       "      <td>1007.1</td>\n",
       "      <td>16.9</td>\n",
       "      <td>21.8</td>\n",
       "      <td>No</td>\n",
       "    </tr>\n",
       "    <tr>\n",
       "      <th>1</th>\n",
       "      <td>7.4</td>\n",
       "      <td>25.1</td>\n",
       "      <td>0.0</td>\n",
       "      <td>44.0</td>\n",
       "      <td>4.0</td>\n",
       "      <td>22.0</td>\n",
       "      <td>44.0</td>\n",
       "      <td>25.0</td>\n",
       "      <td>1010.6</td>\n",
       "      <td>1007.8</td>\n",
       "      <td>17.2</td>\n",
       "      <td>24.3</td>\n",
       "      <td>No</td>\n",
       "    </tr>\n",
       "    <tr>\n",
       "      <th>2</th>\n",
       "      <td>12.9</td>\n",
       "      <td>25.7</td>\n",
       "      <td>0.0</td>\n",
       "      <td>46.0</td>\n",
       "      <td>19.0</td>\n",
       "      <td>26.0</td>\n",
       "      <td>38.0</td>\n",
       "      <td>30.0</td>\n",
       "      <td>1007.6</td>\n",
       "      <td>1008.7</td>\n",
       "      <td>21.0</td>\n",
       "      <td>23.2</td>\n",
       "      <td>No</td>\n",
       "    </tr>\n",
       "    <tr>\n",
       "      <th>3</th>\n",
       "      <td>9.2</td>\n",
       "      <td>28.0</td>\n",
       "      <td>0.0</td>\n",
       "      <td>24.0</td>\n",
       "      <td>11.0</td>\n",
       "      <td>9.0</td>\n",
       "      <td>45.0</td>\n",
       "      <td>16.0</td>\n",
       "      <td>1017.6</td>\n",
       "      <td>1012.8</td>\n",
       "      <td>18.1</td>\n",
       "      <td>26.5</td>\n",
       "      <td>No</td>\n",
       "    </tr>\n",
       "    <tr>\n",
       "      <th>4</th>\n",
       "      <td>17.5</td>\n",
       "      <td>32.3</td>\n",
       "      <td>1.0</td>\n",
       "      <td>41.0</td>\n",
       "      <td>7.0</td>\n",
       "      <td>20.0</td>\n",
       "      <td>82.0</td>\n",
       "      <td>33.0</td>\n",
       "      <td>1010.8</td>\n",
       "      <td>1006.0</td>\n",
       "      <td>17.8</td>\n",
       "      <td>29.7</td>\n",
       "      <td>No</td>\n",
       "    </tr>\n",
       "    <tr>\n",
       "      <th>...</th>\n",
       "      <td>...</td>\n",
       "      <td>...</td>\n",
       "      <td>...</td>\n",
       "      <td>...</td>\n",
       "      <td>...</td>\n",
       "      <td>...</td>\n",
       "      <td>...</td>\n",
       "      <td>...</td>\n",
       "      <td>...</td>\n",
       "      <td>...</td>\n",
       "      <td>...</td>\n",
       "      <td>...</td>\n",
       "      <td>...</td>\n",
       "    </tr>\n",
       "    <tr>\n",
       "      <th>142188</th>\n",
       "      <td>3.5</td>\n",
       "      <td>21.8</td>\n",
       "      <td>0.0</td>\n",
       "      <td>31.0</td>\n",
       "      <td>15.0</td>\n",
       "      <td>13.0</td>\n",
       "      <td>59.0</td>\n",
       "      <td>27.0</td>\n",
       "      <td>1024.7</td>\n",
       "      <td>1021.2</td>\n",
       "      <td>9.4</td>\n",
       "      <td>20.9</td>\n",
       "      <td>No</td>\n",
       "    </tr>\n",
       "    <tr>\n",
       "      <th>142189</th>\n",
       "      <td>2.8</td>\n",
       "      <td>23.4</td>\n",
       "      <td>0.0</td>\n",
       "      <td>31.0</td>\n",
       "      <td>13.0</td>\n",
       "      <td>11.0</td>\n",
       "      <td>51.0</td>\n",
       "      <td>24.0</td>\n",
       "      <td>1024.6</td>\n",
       "      <td>1020.3</td>\n",
       "      <td>10.1</td>\n",
       "      <td>22.4</td>\n",
       "      <td>No</td>\n",
       "    </tr>\n",
       "    <tr>\n",
       "      <th>142190</th>\n",
       "      <td>3.6</td>\n",
       "      <td>25.3</td>\n",
       "      <td>0.0</td>\n",
       "      <td>22.0</td>\n",
       "      <td>13.0</td>\n",
       "      <td>9.0</td>\n",
       "      <td>56.0</td>\n",
       "      <td>21.0</td>\n",
       "      <td>1023.5</td>\n",
       "      <td>1019.1</td>\n",
       "      <td>10.9</td>\n",
       "      <td>24.5</td>\n",
       "      <td>No</td>\n",
       "    </tr>\n",
       "    <tr>\n",
       "      <th>142191</th>\n",
       "      <td>5.4</td>\n",
       "      <td>26.9</td>\n",
       "      <td>0.0</td>\n",
       "      <td>37.0</td>\n",
       "      <td>9.0</td>\n",
       "      <td>9.0</td>\n",
       "      <td>53.0</td>\n",
       "      <td>24.0</td>\n",
       "      <td>1021.0</td>\n",
       "      <td>1016.8</td>\n",
       "      <td>12.5</td>\n",
       "      <td>26.1</td>\n",
       "      <td>No</td>\n",
       "    </tr>\n",
       "    <tr>\n",
       "      <th>142192</th>\n",
       "      <td>7.8</td>\n",
       "      <td>27.0</td>\n",
       "      <td>0.0</td>\n",
       "      <td>28.0</td>\n",
       "      <td>13.0</td>\n",
       "      <td>7.0</td>\n",
       "      <td>51.0</td>\n",
       "      <td>24.0</td>\n",
       "      <td>1019.4</td>\n",
       "      <td>1016.5</td>\n",
       "      <td>15.1</td>\n",
       "      <td>26.0</td>\n",
       "      <td>No</td>\n",
       "    </tr>\n",
       "  </tbody>\n",
       "</table>\n",
       "<p>112925 rows × 13 columns</p>\n",
       "</div>"
      ],
      "text/plain": [
       "        MinTemp  MaxTemp  Rainfall  WindGustSpeed  WindSpeed9am  WindSpeed3pm  \\\n",
       "0          13.4     22.9       0.6           44.0          20.0          24.0   \n",
       "1           7.4     25.1       0.0           44.0           4.0          22.0   \n",
       "2          12.9     25.7       0.0           46.0          19.0          26.0   \n",
       "3           9.2     28.0       0.0           24.0          11.0           9.0   \n",
       "4          17.5     32.3       1.0           41.0           7.0          20.0   \n",
       "...         ...      ...       ...            ...           ...           ...   \n",
       "142188      3.5     21.8       0.0           31.0          15.0          13.0   \n",
       "142189      2.8     23.4       0.0           31.0          13.0          11.0   \n",
       "142190      3.6     25.3       0.0           22.0          13.0           9.0   \n",
       "142191      5.4     26.9       0.0           37.0           9.0           9.0   \n",
       "142192      7.8     27.0       0.0           28.0          13.0           7.0   \n",
       "\n",
       "        Humidity9am  Humidity3pm  Pressure9am  Pressure3pm  Temp9am  Temp3pm  \\\n",
       "0              71.0         22.0       1007.7       1007.1     16.9     21.8   \n",
       "1              44.0         25.0       1010.6       1007.8     17.2     24.3   \n",
       "2              38.0         30.0       1007.6       1008.7     21.0     23.2   \n",
       "3              45.0         16.0       1017.6       1012.8     18.1     26.5   \n",
       "4              82.0         33.0       1010.8       1006.0     17.8     29.7   \n",
       "...             ...          ...          ...          ...      ...      ...   \n",
       "142188         59.0         27.0       1024.7       1021.2      9.4     20.9   \n",
       "142189         51.0         24.0       1024.6       1020.3     10.1     22.4   \n",
       "142190         56.0         21.0       1023.5       1019.1     10.9     24.5   \n",
       "142191         53.0         24.0       1021.0       1016.8     12.5     26.1   \n",
       "142192         51.0         24.0       1019.4       1016.5     15.1     26.0   \n",
       "\n",
       "       RainTomorrow  \n",
       "0                No  \n",
       "1                No  \n",
       "2                No  \n",
       "3                No  \n",
       "4                No  \n",
       "...             ...  \n",
       "142188           No  \n",
       "142189           No  \n",
       "142190           No  \n",
       "142191           No  \n",
       "142192           No  \n",
       "\n",
       "[112925 rows x 13 columns]"
      ]
     },
     "execution_count": 6,
     "metadata": {},
     "output_type": "execute_result"
    }
   ],
   "source": [
    "data1.head()\n",
    "data1.drop(columns=data1[['WindGustDir','WindDir9am','WindDir3pm','RainToday']])"
   ]
  },
  {
   "cell_type": "markdown",
   "metadata": {
    "id": "hJEIzdGpJvp9"
   },
   "source": [
    "5. Realizar un countplot para ver cuántos casos hay de lluvia y no-lluvia."
   ]
  },
  {
   "cell_type": "code",
   "execution_count": 7,
   "metadata": {
    "id": "kYe4U3KkJvp-"
   },
   "outputs": [
    {
     "name": "stderr",
     "output_type": "stream",
     "text": [
      "C:\\Users\\Thomas Mir Mercere\\miniconda3\\lib\\site-packages\\seaborn\\_decorators.py:36: FutureWarning: Pass the following variable as a keyword arg: x. From version 0.12, the only valid positional argument will be `data`, and passing other arguments without an explicit keyword will result in an error or misinterpretation.\n",
      "  warnings.warn(\n"
     ]
    },
    {
     "data": {
      "image/png": "[encoded data removed]",
      "text/plain": [
       "<Figure size 432x288 with 1 Axes>"
      ]
     },
     "metadata": {},
     "output_type": "display_data"
    }
   ],
   "source": [
    "sns.countplot(data1.RainTomorrow)\n",
    "plt.show()"
   ]
  },
  {
   "cell_type": "markdown",
   "metadata": {
    "id": "uE5WNUyDJvqE"
   },
   "source": [
    "Y hacer el `pairplot` para ver cómo se relacionan las variables. Recuerden que este gráfico puede llevar bastante tiempo. También recuerden que pueden agrandar el gráfico haciendo doble click en él."
   ]
  },
  {
   "cell_type": "markdown",
   "metadata": {
    "id": "VUwv2uCOJvqN"
   },
   "source": [
    "Hay algunas que parecen *correlacionadas*. Tratamos de cuantificarlo."
   ]
  },
  {
   "cell_type": "code",
   "execution_count": 8,
   "metadata": {
    "id": "rQfAuhVIJvqO"
   },
   "outputs": [
    {
     "data": {
      "image/png": "[encoded data removed]",
      "text/plain": [
       "<Figure size 1008x1008 with 2 Axes>"
      ]
     },
     "metadata": {},
     "output_type": "display_data"
    }
   ],
   "source": [
    "corr = data1.drop(columns = ['RainTomorrow']).corr(method='spearman') # .corr is used for find corelation\n",
    "plt.figure(figsize=(14,14))\n",
    "sns.heatmap(corr, cbar = True,  square = True, annot=True, fmt= '.2f',annot_kws={'size': 15},\n",
    "           xticklabels= data1.drop(columns = ['RainTomorrow']).columns, \n",
    "           yticklabels= data1.drop(columns = ['RainTomorrow']).columns,\n",
    "           cmap= 'coolwarm')\n",
    "\n",
    "plt.show()"
   ]
  },
  {
   "cell_type": "markdown",
   "metadata": {
    "id": "teNYT08HJvqU"
   },
   "source": [
    "En base a la correlación, podemos descartar (o no) algunas variables. **Para pensar**, ¿por qué haríamos (o no) esto?"
   ]
  },
  {
   "cell_type": "code",
   "execution_count": 10,
   "metadata": {
    "id": "V4r03pC2JvqX"
   },
   "outputs": [
    {
     "data": {
      "text/html": [
       "<div>\n",
       "<style scoped>\n",
       "    .dataframe tbody tr th:only-of-type {\n",
       "        vertical-align: middle;\n",
       "    }\n",
       "\n",
       "    .dataframe tbody tr th {\n",
       "        vertical-align: top;\n",
       "    }\n",
       "\n",
       "    .dataframe thead th {\n",
       "        text-align: right;\n",
       "    }\n",
       "</style>\n",
       "<table border=\"1\" class=\"dataframe\">\n",
       "  <thead>\n",
       "    <tr style=\"text-align: right;\">\n",
       "      <th></th>\n",
       "      <th>MinTemp</th>\n",
       "      <th>MaxTemp</th>\n",
       "      <th>Rainfall</th>\n",
       "      <th>WindGustSpeed</th>\n",
       "      <th>WindSpeed9am</th>\n",
       "      <th>WindSpeed3pm</th>\n",
       "      <th>Humidity9am</th>\n",
       "      <th>Humidity3pm</th>\n",
       "      <th>Pressure9am</th>\n",
       "      <th>Pressure3pm</th>\n",
       "      <th>Temp9am</th>\n",
       "      <th>Temp3pm</th>\n",
       "      <th>RainTomorrow</th>\n",
       "    </tr>\n",
       "  </thead>\n",
       "  <tbody>\n",
       "    <tr>\n",
       "      <th>0</th>\n",
       "      <td>13.4</td>\n",
       "      <td>22.9</td>\n",
       "      <td>0.6</td>\n",
       "      <td>44.0</td>\n",
       "      <td>20.0</td>\n",
       "      <td>24.0</td>\n",
       "      <td>71.0</td>\n",
       "      <td>22.0</td>\n",
       "      <td>1007.7</td>\n",
       "      <td>1007.1</td>\n",
       "      <td>16.9</td>\n",
       "      <td>21.8</td>\n",
       "      <td>No</td>\n",
       "    </tr>\n",
       "    <tr>\n",
       "      <th>1</th>\n",
       "      <td>7.4</td>\n",
       "      <td>25.1</td>\n",
       "      <td>0.0</td>\n",
       "      <td>44.0</td>\n",
       "      <td>4.0</td>\n",
       "      <td>22.0</td>\n",
       "      <td>44.0</td>\n",
       "      <td>25.0</td>\n",
       "      <td>1010.6</td>\n",
       "      <td>1007.8</td>\n",
       "      <td>17.2</td>\n",
       "      <td>24.3</td>\n",
       "      <td>No</td>\n",
       "    </tr>\n",
       "    <tr>\n",
       "      <th>2</th>\n",
       "      <td>12.9</td>\n",
       "      <td>25.7</td>\n",
       "      <td>0.0</td>\n",
       "      <td>46.0</td>\n",
       "      <td>19.0</td>\n",
       "      <td>26.0</td>\n",
       "      <td>38.0</td>\n",
       "      <td>30.0</td>\n",
       "      <td>1007.6</td>\n",
       "      <td>1008.7</td>\n",
       "      <td>21.0</td>\n",
       "      <td>23.2</td>\n",
       "      <td>No</td>\n",
       "    </tr>\n",
       "    <tr>\n",
       "      <th>3</th>\n",
       "      <td>9.2</td>\n",
       "      <td>28.0</td>\n",
       "      <td>0.0</td>\n",
       "      <td>24.0</td>\n",
       "      <td>11.0</td>\n",
       "      <td>9.0</td>\n",
       "      <td>45.0</td>\n",
       "      <td>16.0</td>\n",
       "      <td>1017.6</td>\n",
       "      <td>1012.8</td>\n",
       "      <td>18.1</td>\n",
       "      <td>26.5</td>\n",
       "      <td>No</td>\n",
       "    </tr>\n",
       "    <tr>\n",
       "      <th>4</th>\n",
       "      <td>17.5</td>\n",
       "      <td>32.3</td>\n",
       "      <td>1.0</td>\n",
       "      <td>41.0</td>\n",
       "      <td>7.0</td>\n",
       "      <td>20.0</td>\n",
       "      <td>82.0</td>\n",
       "      <td>33.0</td>\n",
       "      <td>1010.8</td>\n",
       "      <td>1006.0</td>\n",
       "      <td>17.8</td>\n",
       "      <td>29.7</td>\n",
       "      <td>No</td>\n",
       "    </tr>\n",
       "  </tbody>\n",
       "</table>\n",
       "</div>"
      ],
      "text/plain": [
       "   MinTemp  MaxTemp  Rainfall  WindGustSpeed  WindSpeed9am  WindSpeed3pm  \\\n",
       "0     13.4     22.9       0.6           44.0          20.0          24.0   \n",
       "1      7.4     25.1       0.0           44.0           4.0          22.0   \n",
       "2     12.9     25.7       0.0           46.0          19.0          26.0   \n",
       "3      9.2     28.0       0.0           24.0          11.0           9.0   \n",
       "4     17.5     32.3       1.0           41.0           7.0          20.0   \n",
       "\n",
       "   Humidity9am  Humidity3pm  Pressure9am  Pressure3pm  Temp9am  Temp3pm  \\\n",
       "0         71.0         22.0       1007.7       1007.1     16.9     21.8   \n",
       "1         44.0         25.0       1010.6       1007.8     17.2     24.3   \n",
       "2         38.0         30.0       1007.6       1008.7     21.0     23.2   \n",
       "3         45.0         16.0       1017.6       1012.8     18.1     26.5   \n",
       "4         82.0         33.0       1010.8       1006.0     17.8     29.7   \n",
       "\n",
       "  RainTomorrow  \n",
       "0           No  \n",
       "1           No  \n",
       "2           No  \n",
       "3           No  \n",
       "4           No  "
      ]
     },
     "execution_count": 10,
     "metadata": {},
     "output_type": "execute_result"
    }
   ],
   "source": [
    "data1 = data1.drop(columns=['WindGustDir','WindDir9am','WindDir3pm','RainToday'])\n",
    "data1.head()"
   ]
  },
  {
   "cell_type": "markdown",
   "metadata": {
    "id": "5NkB6JNlJvqc"
   },
   "source": [
    "6. Llevar `RainTomorrow` a una variable númerica"
   ]
  },
  {
   "cell_type": "raw",
   "metadata": {
    "id": "bHiBV7ApJvqd"
   },
   "source": [
    "data1['RainTomorrow'] = data1['RainTomorrow'].map({'No':0 , 'Yes':1})\n",
    "data1.head()"
   ]
  },
  {
   "cell_type": "code",
   "execution_count": 11,
   "metadata": {},
   "outputs": [
    {
     "data": {
      "text/html": [
       "<div>\n",
       "<style scoped>\n",
       "    .dataframe tbody tr th:only-of-type {\n",
       "        vertical-align: middle;\n",
       "    }\n",
       "\n",
       "    .dataframe tbody tr th {\n",
       "        vertical-align: top;\n",
       "    }\n",
       "\n",
       "    .dataframe thead th {\n",
       "        text-align: right;\n",
       "    }\n",
       "</style>\n",
       "<table border=\"1\" class=\"dataframe\">\n",
       "  <thead>\n",
       "    <tr style=\"text-align: right;\">\n",
       "      <th></th>\n",
       "      <th>MaxTemp</th>\n",
       "      <th>Rainfall</th>\n",
       "      <th>WindGustSpeed</th>\n",
       "      <th>WindSpeed9am</th>\n",
       "      <th>WindSpeed3pm</th>\n",
       "      <th>Humidity9am</th>\n",
       "      <th>Humidity3pm</th>\n",
       "      <th>Pressure9am</th>\n",
       "      <th>Pressure3pm</th>\n",
       "      <th>Temp9am</th>\n",
       "      <th>Temp3pm</th>\n",
       "      <th>RainTomorrow</th>\n",
       "    </tr>\n",
       "  </thead>\n",
       "  <tbody>\n",
       "    <tr>\n",
       "      <th>0</th>\n",
       "      <td>22.9</td>\n",
       "      <td>0.6</td>\n",
       "      <td>44.0</td>\n",
       "      <td>20.0</td>\n",
       "      <td>24.0</td>\n",
       "      <td>71.0</td>\n",
       "      <td>22.0</td>\n",
       "      <td>1007.7</td>\n",
       "      <td>1007.1</td>\n",
       "      <td>16.9</td>\n",
       "      <td>21.8</td>\n",
       "      <td>No</td>\n",
       "    </tr>\n",
       "    <tr>\n",
       "      <th>1</th>\n",
       "      <td>25.1</td>\n",
       "      <td>0.0</td>\n",
       "      <td>44.0</td>\n",
       "      <td>4.0</td>\n",
       "      <td>22.0</td>\n",
       "      <td>44.0</td>\n",
       "      <td>25.0</td>\n",
       "      <td>1010.6</td>\n",
       "      <td>1007.8</td>\n",
       "      <td>17.2</td>\n",
       "      <td>24.3</td>\n",
       "      <td>No</td>\n",
       "    </tr>\n",
       "    <tr>\n",
       "      <th>2</th>\n",
       "      <td>25.7</td>\n",
       "      <td>0.0</td>\n",
       "      <td>46.0</td>\n",
       "      <td>19.0</td>\n",
       "      <td>26.0</td>\n",
       "      <td>38.0</td>\n",
       "      <td>30.0</td>\n",
       "      <td>1007.6</td>\n",
       "      <td>1008.7</td>\n",
       "      <td>21.0</td>\n",
       "      <td>23.2</td>\n",
       "      <td>No</td>\n",
       "    </tr>\n",
       "    <tr>\n",
       "      <th>3</th>\n",
       "      <td>28.0</td>\n",
       "      <td>0.0</td>\n",
       "      <td>24.0</td>\n",
       "      <td>11.0</td>\n",
       "      <td>9.0</td>\n",
       "      <td>45.0</td>\n",
       "      <td>16.0</td>\n",
       "      <td>1017.6</td>\n",
       "      <td>1012.8</td>\n",
       "      <td>18.1</td>\n",
       "      <td>26.5</td>\n",
       "      <td>No</td>\n",
       "    </tr>\n",
       "    <tr>\n",
       "      <th>4</th>\n",
       "      <td>32.3</td>\n",
       "      <td>1.0</td>\n",
       "      <td>41.0</td>\n",
       "      <td>7.0</td>\n",
       "      <td>20.0</td>\n",
       "      <td>82.0</td>\n",
       "      <td>33.0</td>\n",
       "      <td>1010.8</td>\n",
       "      <td>1006.0</td>\n",
       "      <td>17.8</td>\n",
       "      <td>29.7</td>\n",
       "      <td>No</td>\n",
       "    </tr>\n",
       "  </tbody>\n",
       "</table>\n",
       "</div>"
      ],
      "text/plain": [
       "   MaxTemp  Rainfall  WindGustSpeed  WindSpeed9am  WindSpeed3pm  Humidity9am  \\\n",
       "0     22.9       0.6           44.0          20.0          24.0         71.0   \n",
       "1     25.1       0.0           44.0           4.0          22.0         44.0   \n",
       "2     25.7       0.0           46.0          19.0          26.0         38.0   \n",
       "3     28.0       0.0           24.0          11.0           9.0         45.0   \n",
       "4     32.3       1.0           41.0           7.0          20.0         82.0   \n",
       "\n",
       "   Humidity3pm  Pressure9am  Pressure3pm  Temp9am  Temp3pm RainTomorrow  \n",
       "0         22.0       1007.7       1007.1     16.9     21.8           No  \n",
       "1         25.0       1010.6       1007.8     17.2     24.3           No  \n",
       "2         30.0       1007.6       1008.7     21.0     23.2           No  \n",
       "3         16.0       1017.6       1012.8     18.1     26.5           No  \n",
       "4         33.0       1010.8       1006.0     17.8     29.7           No  "
      ]
     },
     "execution_count": 11,
     "metadata": {},
     "output_type": "execute_result"
    }
   ],
   "source": [
    "data1 = data1.drop(columns=['MinTemp'])\n",
    "data1.head()"
   ]
  },
  {
   "cell_type": "code",
   "execution_count": 15,
   "metadata": {},
   "outputs": [
    {
     "data": {
      "text/html": [
       "<div>\n",
       "<style scoped>\n",
       "    .dataframe tbody tr th:only-of-type {\n",
       "        vertical-align: middle;\n",
       "    }\n",
       "\n",
       "    .dataframe tbody tr th {\n",
       "        vertical-align: top;\n",
       "    }\n",
       "\n",
       "    .dataframe thead th {\n",
       "        text-align: right;\n",
       "    }\n",
       "</style>\n",
       "<table border=\"1\" class=\"dataframe\">\n",
       "  <thead>\n",
       "    <tr style=\"text-align: right;\">\n",
       "      <th></th>\n",
       "      <th>MaxTemp</th>\n",
       "      <th>Rainfall</th>\n",
       "      <th>WindGustSpeed</th>\n",
       "      <th>WindSpeed9am</th>\n",
       "      <th>WindSpeed3pm</th>\n",
       "      <th>Humidity9am</th>\n",
       "      <th>Humidity3pm</th>\n",
       "      <th>Pressure9am</th>\n",
       "      <th>Pressure3pm</th>\n",
       "      <th>Temp9am</th>\n",
       "      <th>Temp3pm</th>\n",
       "      <th>RainTomorrow</th>\n",
       "    </tr>\n",
       "  </thead>\n",
       "  <tbody>\n",
       "    <tr>\n",
       "      <th>0</th>\n",
       "      <td>22.9</td>\n",
       "      <td>0.6</td>\n",
       "      <td>44.0</td>\n",
       "      <td>20.0</td>\n",
       "      <td>24.0</td>\n",
       "      <td>71.0</td>\n",
       "      <td>22.0</td>\n",
       "      <td>1007.7</td>\n",
       "      <td>1007.1</td>\n",
       "      <td>16.9</td>\n",
       "      <td>21.8</td>\n",
       "      <td>0</td>\n",
       "    </tr>\n",
       "    <tr>\n",
       "      <th>1</th>\n",
       "      <td>25.1</td>\n",
       "      <td>0.0</td>\n",
       "      <td>44.0</td>\n",
       "      <td>4.0</td>\n",
       "      <td>22.0</td>\n",
       "      <td>44.0</td>\n",
       "      <td>25.0</td>\n",
       "      <td>1010.6</td>\n",
       "      <td>1007.8</td>\n",
       "      <td>17.2</td>\n",
       "      <td>24.3</td>\n",
       "      <td>0</td>\n",
       "    </tr>\n",
       "    <tr>\n",
       "      <th>2</th>\n",
       "      <td>25.7</td>\n",
       "      <td>0.0</td>\n",
       "      <td>46.0</td>\n",
       "      <td>19.0</td>\n",
       "      <td>26.0</td>\n",
       "      <td>38.0</td>\n",
       "      <td>30.0</td>\n",
       "      <td>1007.6</td>\n",
       "      <td>1008.7</td>\n",
       "      <td>21.0</td>\n",
       "      <td>23.2</td>\n",
       "      <td>0</td>\n",
       "    </tr>\n",
       "    <tr>\n",
       "      <th>3</th>\n",
       "      <td>28.0</td>\n",
       "      <td>0.0</td>\n",
       "      <td>24.0</td>\n",
       "      <td>11.0</td>\n",
       "      <td>9.0</td>\n",
       "      <td>45.0</td>\n",
       "      <td>16.0</td>\n",
       "      <td>1017.6</td>\n",
       "      <td>1012.8</td>\n",
       "      <td>18.1</td>\n",
       "      <td>26.5</td>\n",
       "      <td>0</td>\n",
       "    </tr>\n",
       "    <tr>\n",
       "      <th>4</th>\n",
       "      <td>32.3</td>\n",
       "      <td>1.0</td>\n",
       "      <td>41.0</td>\n",
       "      <td>7.0</td>\n",
       "      <td>20.0</td>\n",
       "      <td>82.0</td>\n",
       "      <td>33.0</td>\n",
       "      <td>1010.8</td>\n",
       "      <td>1006.0</td>\n",
       "      <td>17.8</td>\n",
       "      <td>29.7</td>\n",
       "      <td>0</td>\n",
       "    </tr>\n",
       "  </tbody>\n",
       "</table>\n",
       "</div>"
      ],
      "text/plain": [
       "   MaxTemp  Rainfall  WindGustSpeed  WindSpeed9am  WindSpeed3pm  Humidity9am  \\\n",
       "0     22.9       0.6           44.0          20.0          24.0         71.0   \n",
       "1     25.1       0.0           44.0           4.0          22.0         44.0   \n",
       "2     25.7       0.0           46.0          19.0          26.0         38.0   \n",
       "3     28.0       0.0           24.0          11.0           9.0         45.0   \n",
       "4     32.3       1.0           41.0           7.0          20.0         82.0   \n",
       "\n",
       "   Humidity3pm  Pressure9am  Pressure3pm  Temp9am  Temp3pm  RainTomorrow  \n",
       "0         22.0       1007.7       1007.1     16.9     21.8             0  \n",
       "1         25.0       1010.6       1007.8     17.2     24.3             0  \n",
       "2         30.0       1007.6       1008.7     21.0     23.2             0  \n",
       "3         16.0       1017.6       1012.8     18.1     26.5             0  \n",
       "4         33.0       1010.8       1006.0     17.8     29.7             0  "
      ]
     },
     "execution_count": 15,
     "metadata": {},
     "output_type": "execute_result"
    }
   ],
   "source": [
    "data1['RainTomorrow'] = data1['RainTomorrow'].map({'No':0 , 'Yes':1})\n",
    "data1.head()"
   ]
  },
  {
   "cell_type": "markdown",
   "metadata": {
    "id": "6_iSwBXBJvqk"
   },
   "source": [
    "### Datos de entrenamiento y casos *benchmark*\n",
    "\n",
    "Generamos casos base contra los cuales comparar nuestros resultados.\n",
    "\n",
    "1. Elegir variables de entrenamiento (empezar con dos) y separar las etiquetas"
   ]
  },
  {
   "cell_type": "code",
   "execution_count": 87,
   "metadata": {
    "id": "4YyqzqV-Jvqk"
   },
   "outputs": [
    {
     "name": "stderr",
     "output_type": "stream",
     "text": [
      "C:\\Users\\Thomas Mir Mercere\\miniconda3\\lib\\site-packages\\seaborn\\_decorators.py:36: FutureWarning: Pass the following variable as a keyword arg: x. From version 0.12, the only valid positional argument will be `data`, and passing other arguments without an explicit keyword will result in an error or misinterpretation.\n",
      "  warnings.warn(\n"
     ]
    },
    {
     "data": {
      "text/plain": [
       "<AxesSubplot:xlabel='RainTomorrow', ylabel='count'>"
      ]
     },
     "execution_count": 87,
     "metadata": {},
     "output_type": "execute_result"
    },
    {
     "data": {
      "image/png": "[encoded data removed]",
      "text/plain": [
       "<Figure size 432x288 with 1 Axes>"
      ]
     },
     "metadata": {},
     "output_type": "display_data"
    }
   ],
   "source": [
    "from sklearn.metrics import precision_score,roc_auc_score\n",
    "columnas_entrenamiento = ['MaxTemp','Rainfall']\n",
    "X1 = data1[columnas_entrenamiento]\n",
    "y = data1['RainTomorrow']\n",
    "x1_train,x1_test,y1_train,y1_test=train_test_split(X1,y,test_size=0.3)\n",
    "sns.countplot(y)"
   ]
  },
  {
   "cell_type": "markdown",
   "metadata": {
    "id": "8731_NvkJvqp"
   },
   "source": [
    "2. Generar un modelo que diga siempre que NO va a llover y medir su exactitud."
   ]
  },
  {
   "cell_type": "code",
   "execution_count": 40,
   "metadata": {
    "id": "0_-jbcCdJvqq"
   },
   "outputs": [
    {
     "data": {
      "text/plain": [
       "0.7784458711534205"
      ]
     },
     "execution_count": 40,
     "metadata": {},
     "output_type": "execute_result"
    }
   ],
   "source": [
    "#Todos Ceros\n",
    "y_pred=np.zeros(y.shape)\n",
    "from sklearn.metrics import accuracy_score\n",
    "accuracy_score(y,y_pred)"
   ]
  },
  {
   "cell_type": "markdown",
   "metadata": {
    "id": "ySMoGKeZJvqv"
   },
   "source": [
    "Y generar otro modelo que diga siempre que va a llover y medir su exactitud."
   ]
  },
  {
   "cell_type": "code",
   "execution_count": 41,
   "metadata": {
    "id": "zGWQ7nglJvqw"
   },
   "outputs": [
    {
     "name": "stdout",
     "output_type": "stream",
     "text": [
      "0.2215541288465796\n"
     ]
    }
   ],
   "source": [
    "#Todos Unos\n",
    "y_pred = np.ones(y.shape)\n",
    "\n",
    "print(accuracy_score(y,y_pred))"
   ]
  },
  {
   "cell_type": "markdown",
   "metadata": {
    "id": "Wvd3b7d4Jvq0"
   },
   "source": [
    "**3. - Challenge:**  Entrena un árbol de decisión sobre este dataset. Intenta obtener el mejor desempeño que creas posible, optimizando sus hiperparámetros. "
   ]
  },
  {
   "cell_type": "code",
   "execution_count": 42,
   "metadata": {
    "id": "q8gWqes4Jvq1"
   },
   "outputs": [],
   "source": [
    "from sklearn.preprocessing import StandardScaler\n",
    "data1.head()\n",
    "X2=data1.drop(['RainTomorrow'],axis=1)\n",
    "X2_train,X2_test,y2_train,y2_test=train_test_split(X2,y,test_size=0.3)\n",
    "sc=StandardScaler()\n",
    "Xcol=X2.columns\n",
    "Xid_train=X2_train.index\n",
    "Xid_test=X2_test.index\n",
    "\n",
    "X2_train_s=sc.fit_transform(X2_train)\n",
    "X2_train_s=pd.DataFrame(X2_train_s,columns=Xcol,index=Xid_train)\n",
    "X2_test_s=sc.fit_transform(X2_test)\n",
    "X2_test_s=pd.DataFrame(X2_test_s,columns=Xcol,index=Xid_test)"
   ]
  },
  {
   "cell_type": "code",
   "execution_count": 43,
   "metadata": {},
   "outputs": [],
   "source": [
    "import scipy as sp\n",
    "from sklearn.model_selection import RandomizedSearchCV\n",
    "tree1 = DecisionTreeClassifier()"
   ]
  },
  {
   "cell_type": "code",
   "execution_count": 44,
   "metadata": {},
   "outputs": [],
   "source": [
    "param_grid_tree = {'criterion':['gini','entropy'],\n",
    "                   'max_depth' :sp.stats.randint(1, 15),\n",
    "              'min_samples_split':sp.stats.randint(2, 5),\n",
    "              'min_samples_leaf':sp.stats.randint(1,4)}"
   ]
  },
  {
   "cell_type": "code",
   "execution_count": 45,
   "metadata": {},
   "outputs": [
    {
     "name": "stdout",
     "output_type": "stream",
     "text": [
      "Mejores parametros: {'criterion': 'gini', 'max_depth': 7, 'min_samples_leaf': 3, 'min_samples_split': 4}\n",
      "Mejor Score: 0.8527918921369189\n",
      "\n"
     ]
    },
    {
     "data": {
      "text/html": [
       "<div>\n",
       "<style scoped>\n",
       "    .dataframe tbody tr th:only-of-type {\n",
       "        vertical-align: middle;\n",
       "    }\n",
       "\n",
       "    .dataframe tbody tr th {\n",
       "        vertical-align: top;\n",
       "    }\n",
       "\n",
       "    .dataframe thead th {\n",
       "        text-align: right;\n",
       "    }\n",
       "</style>\n",
       "<table border=\"1\" class=\"dataframe\">\n",
       "  <thead>\n",
       "    <tr style=\"text-align: right;\">\n",
       "      <th></th>\n",
       "      <th>mean_fit_time</th>\n",
       "      <th>std_fit_time</th>\n",
       "      <th>mean_score_time</th>\n",
       "      <th>std_score_time</th>\n",
       "      <th>param_criterion</th>\n",
       "      <th>param_max_depth</th>\n",
       "      <th>param_min_samples_leaf</th>\n",
       "      <th>param_min_samples_split</th>\n",
       "      <th>params</th>\n",
       "      <th>split0_test_score</th>\n",
       "      <th>split1_test_score</th>\n",
       "      <th>split2_test_score</th>\n",
       "      <th>split3_test_score</th>\n",
       "      <th>split4_test_score</th>\n",
       "      <th>mean_test_score</th>\n",
       "      <th>std_test_score</th>\n",
       "      <th>rank_test_score</th>\n",
       "    </tr>\n",
       "  </thead>\n",
       "  <tbody>\n",
       "    <tr>\n",
       "      <th>0</th>\n",
       "      <td>0.245350</td>\n",
       "      <td>0.021999</td>\n",
       "      <td>0.009298</td>\n",
       "      <td>7.308872e-04</td>\n",
       "      <td>gini</td>\n",
       "      <td>6</td>\n",
       "      <td>1</td>\n",
       "      <td>3</td>\n",
       "      <td>{'criterion': 'gini', 'max_depth': 6, 'min_sam...</td>\n",
       "      <td>0.853069</td>\n",
       "      <td>0.852706</td>\n",
       "      <td>0.851331</td>\n",
       "      <td>0.846655</td>\n",
       "      <td>0.842946</td>\n",
       "      <td>0.849341</td>\n",
       "      <td>0.003932</td>\n",
       "      <td>9</td>\n",
       "    </tr>\n",
       "    <tr>\n",
       "      <th>1</th>\n",
       "      <td>0.242941</td>\n",
       "      <td>0.002086</td>\n",
       "      <td>0.008642</td>\n",
       "      <td>4.691519e-04</td>\n",
       "      <td>entropy</td>\n",
       "      <td>6</td>\n",
       "      <td>3</td>\n",
       "      <td>2</td>\n",
       "      <td>{'criterion': 'entropy', 'max_depth': 6, 'min_...</td>\n",
       "      <td>0.855013</td>\n",
       "      <td>0.852652</td>\n",
       "      <td>0.850458</td>\n",
       "      <td>0.846433</td>\n",
       "      <td>0.847508</td>\n",
       "      <td>0.850413</td>\n",
       "      <td>0.003177</td>\n",
       "      <td>8</td>\n",
       "    </tr>\n",
       "    <tr>\n",
       "      <th>2</th>\n",
       "      <td>0.286259</td>\n",
       "      <td>0.002702</td>\n",
       "      <td>0.009040</td>\n",
       "      <td>5.272483e-04</td>\n",
       "      <td>entropy</td>\n",
       "      <td>7</td>\n",
       "      <td>1</td>\n",
       "      <td>2</td>\n",
       "      <td>{'criterion': 'entropy', 'max_depth': 7, 'min_...</td>\n",
       "      <td>0.856164</td>\n",
       "      <td>0.856144</td>\n",
       "      <td>0.852319</td>\n",
       "      <td>0.848682</td>\n",
       "      <td>0.850379</td>\n",
       "      <td>0.852738</td>\n",
       "      <td>0.003018</td>\n",
       "      <td>2</td>\n",
       "    </tr>\n",
       "    <tr>\n",
       "      <th>3</th>\n",
       "      <td>0.424665</td>\n",
       "      <td>0.003301</td>\n",
       "      <td>0.009972</td>\n",
       "      <td>5.460566e-06</td>\n",
       "      <td>gini</td>\n",
       "      <td>11</td>\n",
       "      <td>2</td>\n",
       "      <td>4</td>\n",
       "      <td>{'criterion': 'gini', 'max_depth': 11, 'min_sa...</td>\n",
       "      <td>0.817737</td>\n",
       "      <td>0.818433</td>\n",
       "      <td>0.818788</td>\n",
       "      <td>0.815615</td>\n",
       "      <td>0.811885</td>\n",
       "      <td>0.816492</td>\n",
       "      <td>0.002552</td>\n",
       "      <td>33</td>\n",
       "    </tr>\n",
       "    <tr>\n",
       "      <th>4</th>\n",
       "      <td>0.332710</td>\n",
       "      <td>0.003373</td>\n",
       "      <td>0.010173</td>\n",
       "      <td>1.934161e-03</td>\n",
       "      <td>entropy</td>\n",
       "      <td>8</td>\n",
       "      <td>3</td>\n",
       "      <td>2</td>\n",
       "      <td>{'criterion': 'entropy', 'max_depth': 8, 'min_...</td>\n",
       "      <td>0.856413</td>\n",
       "      <td>0.853442</td>\n",
       "      <td>0.848520</td>\n",
       "      <td>0.848359</td>\n",
       "      <td>0.850180</td>\n",
       "      <td>0.851383</td>\n",
       "      <td>0.003109</td>\n",
       "      <td>5</td>\n",
       "    </tr>\n",
       "    <tr>\n",
       "      <th>5</th>\n",
       "      <td>0.247016</td>\n",
       "      <td>0.006897</td>\n",
       "      <td>0.008936</td>\n",
       "      <td>7.728514e-05</td>\n",
       "      <td>entropy</td>\n",
       "      <td>6</td>\n",
       "      <td>2</td>\n",
       "      <td>3</td>\n",
       "      <td>{'criterion': 'entropy', 'max_depth': 6, 'min_...</td>\n",
       "      <td>0.854894</td>\n",
       "      <td>0.852652</td>\n",
       "      <td>0.850458</td>\n",
       "      <td>0.846738</td>\n",
       "      <td>0.847508</td>\n",
       "      <td>0.850450</td>\n",
       "      <td>0.003067</td>\n",
       "      <td>7</td>\n",
       "    </tr>\n",
       "    <tr>\n",
       "      <th>6</th>\n",
       "      <td>0.391102</td>\n",
       "      <td>0.004242</td>\n",
       "      <td>0.010005</td>\n",
       "      <td>6.836628e-05</td>\n",
       "      <td>gini</td>\n",
       "      <td>10</td>\n",
       "      <td>1</td>\n",
       "      <td>2</td>\n",
       "      <td>{'criterion': 'gini', 'max_depth': 10, 'min_sa...</td>\n",
       "      <td>0.833504</td>\n",
       "      <td>0.836514</td>\n",
       "      <td>0.832878</td>\n",
       "      <td>0.828862</td>\n",
       "      <td>0.832594</td>\n",
       "      <td>0.832870</td>\n",
       "      <td>0.002442</td>\n",
       "      <td>23</td>\n",
       "    </tr>\n",
       "    <tr>\n",
       "      <th>7</th>\n",
       "      <td>0.246855</td>\n",
       "      <td>0.005076</td>\n",
       "      <td>0.009574</td>\n",
       "      <td>2.239173e-03</td>\n",
       "      <td>entropy</td>\n",
       "      <td>6</td>\n",
       "      <td>3</td>\n",
       "      <td>2</td>\n",
       "      <td>{'criterion': 'entropy', 'max_depth': 6, 'min_...</td>\n",
       "      <td>0.855013</td>\n",
       "      <td>0.852652</td>\n",
       "      <td>0.850458</td>\n",
       "      <td>0.846738</td>\n",
       "      <td>0.847508</td>\n",
       "      <td>0.850474</td>\n",
       "      <td>0.003102</td>\n",
       "      <td>6</td>\n",
       "    </tr>\n",
       "    <tr>\n",
       "      <th>8</th>\n",
       "      <td>0.160171</td>\n",
       "      <td>0.002240</td>\n",
       "      <td>0.008385</td>\n",
       "      <td>4.833539e-04</td>\n",
       "      <td>gini</td>\n",
       "      <td>4</td>\n",
       "      <td>1</td>\n",
       "      <td>3</td>\n",
       "      <td>{'criterion': 'gini', 'max_depth': 4, 'min_sam...</td>\n",
       "      <td>0.834373</td>\n",
       "      <td>0.836046</td>\n",
       "      <td>0.829493</td>\n",
       "      <td>0.827295</td>\n",
       "      <td>0.826406</td>\n",
       "      <td>0.830723</td>\n",
       "      <td>0.003836</td>\n",
       "      <td>24</td>\n",
       "    </tr>\n",
       "    <tr>\n",
       "      <th>9</th>\n",
       "      <td>0.581943</td>\n",
       "      <td>0.003381</td>\n",
       "      <td>0.010433</td>\n",
       "      <td>4.530659e-04</td>\n",
       "      <td>entropy</td>\n",
       "      <td>14</td>\n",
       "      <td>3</td>\n",
       "      <td>2</td>\n",
       "      <td>{'criterion': 'entropy', 'max_depth': 14, 'min...</td>\n",
       "      <td>0.777420</td>\n",
       "      <td>0.773336</td>\n",
       "      <td>0.761921</td>\n",
       "      <td>0.773927</td>\n",
       "      <td>0.771424</td>\n",
       "      <td>0.771605</td>\n",
       "      <td>0.005216</td>\n",
       "      <td>40</td>\n",
       "    </tr>\n",
       "    <tr>\n",
       "      <th>10</th>\n",
       "      <td>0.426994</td>\n",
       "      <td>0.004362</td>\n",
       "      <td>0.010064</td>\n",
       "      <td>4.209419e-04</td>\n",
       "      <td>entropy</td>\n",
       "      <td>10</td>\n",
       "      <td>2</td>\n",
       "      <td>2</td>\n",
       "      <td>{'criterion': 'entropy', 'max_depth': 10, 'min...</td>\n",
       "      <td>0.839429</td>\n",
       "      <td>0.839049</td>\n",
       "      <td>0.831215</td>\n",
       "      <td>0.834759</td>\n",
       "      <td>0.831254</td>\n",
       "      <td>0.835141</td>\n",
       "      <td>0.003587</td>\n",
       "      <td>21</td>\n",
       "    </tr>\n",
       "    <tr>\n",
       "      <th>11</th>\n",
       "      <td>0.489312</td>\n",
       "      <td>0.018888</td>\n",
       "      <td>0.011176</td>\n",
       "      <td>1.809437e-03</td>\n",
       "      <td>entropy</td>\n",
       "      <td>11</td>\n",
       "      <td>1</td>\n",
       "      <td>4</td>\n",
       "      <td>{'criterion': 'entropy', 'max_depth': 11, 'min...</td>\n",
       "      <td>0.823669</td>\n",
       "      <td>0.821657</td>\n",
       "      <td>0.813402</td>\n",
       "      <td>0.815699</td>\n",
       "      <td>0.817405</td>\n",
       "      <td>0.818367</td>\n",
       "      <td>0.003785</td>\n",
       "      <td>29</td>\n",
       "    </tr>\n",
       "    <tr>\n",
       "      <th>12</th>\n",
       "      <td>0.137788</td>\n",
       "      <td>0.014571</td>\n",
       "      <td>0.008968</td>\n",
       "      <td>5.820951e-04</td>\n",
       "      <td>entropy</td>\n",
       "      <td>3</td>\n",
       "      <td>1</td>\n",
       "      <td>4</td>\n",
       "      <td>{'criterion': 'entropy', 'max_depth': 3, 'min_...</td>\n",
       "      <td>0.822860</td>\n",
       "      <td>0.821746</td>\n",
       "      <td>0.817943</td>\n",
       "      <td>0.810624</td>\n",
       "      <td>0.814226</td>\n",
       "      <td>0.817480</td>\n",
       "      <td>0.004581</td>\n",
       "      <td>30</td>\n",
       "    </tr>\n",
       "    <tr>\n",
       "      <th>13</th>\n",
       "      <td>0.052151</td>\n",
       "      <td>0.001057</td>\n",
       "      <td>0.007634</td>\n",
       "      <td>5.414924e-04</td>\n",
       "      <td>gini</td>\n",
       "      <td>1</td>\n",
       "      <td>1</td>\n",
       "      <td>3</td>\n",
       "      <td>{'criterion': 'gini', 'max_depth': 1, 'min_sam...</td>\n",
       "      <td>0.695999</td>\n",
       "      <td>0.718989</td>\n",
       "      <td>0.715639</td>\n",
       "      <td>0.709201</td>\n",
       "      <td>0.689959</td>\n",
       "      <td>0.705957</td>\n",
       "      <td>0.011218</td>\n",
       "      <td>49</td>\n",
       "    </tr>\n",
       "    <tr>\n",
       "      <th>14</th>\n",
       "      <td>0.290277</td>\n",
       "      <td>0.003007</td>\n",
       "      <td>0.009772</td>\n",
       "      <td>1.162509e-03</td>\n",
       "      <td>entropy</td>\n",
       "      <td>7</td>\n",
       "      <td>1</td>\n",
       "      <td>2</td>\n",
       "      <td>{'criterion': 'entropy', 'max_depth': 7, 'min_...</td>\n",
       "      <td>0.856164</td>\n",
       "      <td>0.856144</td>\n",
       "      <td>0.852319</td>\n",
       "      <td>0.848461</td>\n",
       "      <td>0.849762</td>\n",
       "      <td>0.852570</td>\n",
       "      <td>0.003179</td>\n",
       "      <td>3</td>\n",
       "    </tr>\n",
       "    <tr>\n",
       "      <th>15</th>\n",
       "      <td>0.210835</td>\n",
       "      <td>0.018287</td>\n",
       "      <td>0.008776</td>\n",
       "      <td>3.992565e-04</td>\n",
       "      <td>entropy</td>\n",
       "      <td>5</td>\n",
       "      <td>2</td>\n",
       "      <td>4</td>\n",
       "      <td>{'criterion': 'entropy', 'max_depth': 5, 'min_...</td>\n",
       "      <td>0.849633</td>\n",
       "      <td>0.847627</td>\n",
       "      <td>0.843817</td>\n",
       "      <td>0.842773</td>\n",
       "      <td>0.841420</td>\n",
       "      <td>0.845054</td>\n",
       "      <td>0.003083</td>\n",
       "      <td>14</td>\n",
       "    </tr>\n",
       "    <tr>\n",
       "      <th>16</th>\n",
       "      <td>0.359643</td>\n",
       "      <td>0.012962</td>\n",
       "      <td>0.011364</td>\n",
       "      <td>2.863442e-03</td>\n",
       "      <td>gini</td>\n",
       "      <td>9</td>\n",
       "      <td>2</td>\n",
       "      <td>3</td>\n",
       "      <td>{'criterion': 'gini', 'max_depth': 9, 'min_sam...</td>\n",
       "      <td>0.847266</td>\n",
       "      <td>0.851615</td>\n",
       "      <td>0.848563</td>\n",
       "      <td>0.840391</td>\n",
       "      <td>0.846091</td>\n",
       "      <td>0.846785</td>\n",
       "      <td>0.003690</td>\n",
       "      <td>11</td>\n",
       "    </tr>\n",
       "    <tr>\n",
       "      <th>17</th>\n",
       "      <td>0.428847</td>\n",
       "      <td>0.003450</td>\n",
       "      <td>0.009722</td>\n",
       "      <td>4.068544e-04</td>\n",
       "      <td>entropy</td>\n",
       "      <td>10</td>\n",
       "      <td>2</td>\n",
       "      <td>4</td>\n",
       "      <td>{'criterion': 'entropy', 'max_depth': 10, 'min...</td>\n",
       "      <td>0.838978</td>\n",
       "      <td>0.839440</td>\n",
       "      <td>0.831073</td>\n",
       "      <td>0.836354</td>\n",
       "      <td>0.830197</td>\n",
       "      <td>0.835208</td>\n",
       "      <td>0.003889</td>\n",
       "      <td>20</td>\n",
       "    </tr>\n",
       "    <tr>\n",
       "      <th>18</th>\n",
       "      <td>0.517911</td>\n",
       "      <td>0.008333</td>\n",
       "      <td>0.010572</td>\n",
       "      <td>7.974150e-04</td>\n",
       "      <td>entropy</td>\n",
       "      <td>12</td>\n",
       "      <td>3</td>\n",
       "      <td>4</td>\n",
       "      <td>{'criterion': 'entropy', 'max_depth': 12, 'min...</td>\n",
       "      <td>0.810227</td>\n",
       "      <td>0.808389</td>\n",
       "      <td>0.800474</td>\n",
       "      <td>0.803396</td>\n",
       "      <td>0.804582</td>\n",
       "      <td>0.805413</td>\n",
       "      <td>0.003498</td>\n",
       "      <td>35</td>\n",
       "    </tr>\n",
       "    <tr>\n",
       "      <th>19</th>\n",
       "      <td>0.050863</td>\n",
       "      <td>0.001410</td>\n",
       "      <td>0.006981</td>\n",
       "      <td>6.315052e-04</td>\n",
       "      <td>entropy</td>\n",
       "      <td>1</td>\n",
       "      <td>3</td>\n",
       "      <td>3</td>\n",
       "      <td>{'criterion': 'entropy', 'max_depth': 1, 'min_...</td>\n",
       "      <td>0.728323</td>\n",
       "      <td>0.728768</td>\n",
       "      <td>0.720506</td>\n",
       "      <td>0.717078</td>\n",
       "      <td>0.715241</td>\n",
       "      <td>0.721983</td>\n",
       "      <td>0.005620</td>\n",
       "      <td>43</td>\n",
       "    </tr>\n",
       "    <tr>\n",
       "      <th>20</th>\n",
       "      <td>0.387764</td>\n",
       "      <td>0.003302</td>\n",
       "      <td>0.009771</td>\n",
       "      <td>3.980017e-04</td>\n",
       "      <td>gini</td>\n",
       "      <td>10</td>\n",
       "      <td>3</td>\n",
       "      <td>2</td>\n",
       "      <td>{'criterion': 'gini', 'max_depth': 10, 'min_sa...</td>\n",
       "      <td>0.837171</td>\n",
       "      <td>0.836716</td>\n",
       "      <td>0.836465</td>\n",
       "      <td>0.835622</td>\n",
       "      <td>0.832474</td>\n",
       "      <td>0.835690</td>\n",
       "      <td>0.001685</td>\n",
       "      <td>19</td>\n",
       "    </tr>\n",
       "    <tr>\n",
       "      <th>21</th>\n",
       "      <td>0.201661</td>\n",
       "      <td>0.003420</td>\n",
       "      <td>0.008577</td>\n",
       "      <td>4.878392e-04</td>\n",
       "      <td>entropy</td>\n",
       "      <td>5</td>\n",
       "      <td>3</td>\n",
       "      <td>2</td>\n",
       "      <td>{'criterion': 'entropy', 'max_depth': 5, 'min_...</td>\n",
       "      <td>0.849633</td>\n",
       "      <td>0.847627</td>\n",
       "      <td>0.843817</td>\n",
       "      <td>0.842773</td>\n",
       "      <td>0.841420</td>\n",
       "      <td>0.845054</td>\n",
       "      <td>0.003083</td>\n",
       "      <td>14</td>\n",
       "    </tr>\n",
       "    <tr>\n",
       "      <th>22</th>\n",
       "      <td>0.200065</td>\n",
       "      <td>0.001017</td>\n",
       "      <td>0.008379</td>\n",
       "      <td>4.900039e-04</td>\n",
       "      <td>entropy</td>\n",
       "      <td>5</td>\n",
       "      <td>1</td>\n",
       "      <td>2</td>\n",
       "      <td>{'criterion': 'entropy', 'max_depth': 5, 'min_...</td>\n",
       "      <td>0.849633</td>\n",
       "      <td>0.847627</td>\n",
       "      <td>0.843817</td>\n",
       "      <td>0.842773</td>\n",
       "      <td>0.841420</td>\n",
       "      <td>0.845054</td>\n",
       "      <td>0.003083</td>\n",
       "      <td>14</td>\n",
       "    </tr>\n",
       "    <tr>\n",
       "      <th>23</th>\n",
       "      <td>0.351302</td>\n",
       "      <td>0.003262</td>\n",
       "      <td>0.009474</td>\n",
       "      <td>2.516332e-04</td>\n",
       "      <td>gini</td>\n",
       "      <td>9</td>\n",
       "      <td>3</td>\n",
       "      <td>2</td>\n",
       "      <td>{'criterion': 'gini', 'max_depth': 9, 'min_sam...</td>\n",
       "      <td>0.848768</td>\n",
       "      <td>0.852539</td>\n",
       "      <td>0.848270</td>\n",
       "      <td>0.843363</td>\n",
       "      <td>0.843443</td>\n",
       "      <td>0.847277</td>\n",
       "      <td>0.003490</td>\n",
       "      <td>10</td>\n",
       "    </tr>\n",
       "    <tr>\n",
       "      <th>24</th>\n",
       "      <td>0.484989</td>\n",
       "      <td>0.010334</td>\n",
       "      <td>0.010042</td>\n",
       "      <td>3.401496e-04</td>\n",
       "      <td>entropy</td>\n",
       "      <td>11</td>\n",
       "      <td>2</td>\n",
       "      <td>3</td>\n",
       "      <td>{'criterion': 'entropy', 'max_depth': 11, 'min...</td>\n",
       "      <td>0.824701</td>\n",
       "      <td>0.821881</td>\n",
       "      <td>0.815352</td>\n",
       "      <td>0.815353</td>\n",
       "      <td>0.815765</td>\n",
       "      <td>0.818610</td>\n",
       "      <td>0.003927</td>\n",
       "      <td>28</td>\n",
       "    </tr>\n",
       "    <tr>\n",
       "      <th>25</th>\n",
       "      <td>0.061932</td>\n",
       "      <td>0.007151</td>\n",
       "      <td>0.009384</td>\n",
       "      <td>1.611976e-03</td>\n",
       "      <td>entropy</td>\n",
       "      <td>1</td>\n",
       "      <td>2</td>\n",
       "      <td>3</td>\n",
       "      <td>{'criterion': 'entropy', 'max_depth': 1, 'min_...</td>\n",
       "      <td>0.728323</td>\n",
       "      <td>0.728768</td>\n",
       "      <td>0.720506</td>\n",
       "      <td>0.717078</td>\n",
       "      <td>0.715241</td>\n",
       "      <td>0.721983</td>\n",
       "      <td>0.005620</td>\n",
       "      <td>43</td>\n",
       "    </tr>\n",
       "    <tr>\n",
       "      <th>26</th>\n",
       "      <td>0.168396</td>\n",
       "      <td>0.007713</td>\n",
       "      <td>0.007711</td>\n",
       "      <td>6.073284e-04</td>\n",
       "      <td>entropy</td>\n",
       "      <td>4</td>\n",
       "      <td>1</td>\n",
       "      <td>3</td>\n",
       "      <td>{'criterion': 'entropy', 'max_depth': 4, 'min_...</td>\n",
       "      <td>0.838254</td>\n",
       "      <td>0.836940</td>\n",
       "      <td>0.831301</td>\n",
       "      <td>0.827970</td>\n",
       "      <td>0.830768</td>\n",
       "      <td>0.833047</td>\n",
       "      <td>0.003906</td>\n",
       "      <td>22</td>\n",
       "    </tr>\n",
       "    <tr>\n",
       "      <th>27</th>\n",
       "      <td>0.052060</td>\n",
       "      <td>0.001466</td>\n",
       "      <td>0.006984</td>\n",
       "      <td>4.845003e-06</td>\n",
       "      <td>gini</td>\n",
       "      <td>1</td>\n",
       "      <td>2</td>\n",
       "      <td>4</td>\n",
       "      <td>{'criterion': 'gini', 'max_depth': 1, 'min_sam...</td>\n",
       "      <td>0.695999</td>\n",
       "      <td>0.718989</td>\n",
       "      <td>0.715639</td>\n",
       "      <td>0.709201</td>\n",
       "      <td>0.689959</td>\n",
       "      <td>0.705957</td>\n",
       "      <td>0.011218</td>\n",
       "      <td>49</td>\n",
       "    </tr>\n",
       "    <tr>\n",
       "      <th>28</th>\n",
       "      <td>0.122696</td>\n",
       "      <td>0.001092</td>\n",
       "      <td>0.007976</td>\n",
       "      <td>4.497462e-06</td>\n",
       "      <td>gini</td>\n",
       "      <td>3</td>\n",
       "      <td>1</td>\n",
       "      <td>3</td>\n",
       "      <td>{'criterion': 'gini', 'max_depth': 3, 'min_sam...</td>\n",
       "      <td>0.818853</td>\n",
       "      <td>0.820980</td>\n",
       "      <td>0.812852</td>\n",
       "      <td>0.809893</td>\n",
       "      <td>0.809349</td>\n",
       "      <td>0.814385</td>\n",
       "      <td>0.004719</td>\n",
       "      <td>34</td>\n",
       "    </tr>\n",
       "    <tr>\n",
       "      <th>29</th>\n",
       "      <td>0.124580</td>\n",
       "      <td>0.000653</td>\n",
       "      <td>0.007582</td>\n",
       "      <td>4.867731e-04</td>\n",
       "      <td>entropy</td>\n",
       "      <td>3</td>\n",
       "      <td>3</td>\n",
       "      <td>3</td>\n",
       "      <td>{'criterion': 'entropy', 'max_depth': 3, 'min_...</td>\n",
       "      <td>0.822860</td>\n",
       "      <td>0.821746</td>\n",
       "      <td>0.817943</td>\n",
       "      <td>0.810624</td>\n",
       "      <td>0.814226</td>\n",
       "      <td>0.817480</td>\n",
       "      <td>0.004581</td>\n",
       "      <td>30</td>\n",
       "    </tr>\n",
       "    <tr>\n",
       "      <th>30</th>\n",
       "      <td>0.326126</td>\n",
       "      <td>0.006610</td>\n",
       "      <td>0.010884</td>\n",
       "      <td>1.719313e-03</td>\n",
       "      <td>gini</td>\n",
       "      <td>8</td>\n",
       "      <td>2</td>\n",
       "      <td>3</td>\n",
       "      <td>{'criterion': 'gini', 'max_depth': 8, 'min_sam...</td>\n",
       "      <td>0.853655</td>\n",
       "      <td>0.856156</td>\n",
       "      <td>0.851824</td>\n",
       "      <td>0.847180</td>\n",
       "      <td>0.851300</td>\n",
       "      <td>0.852023</td>\n",
       "      <td>0.002958</td>\n",
       "      <td>4</td>\n",
       "    </tr>\n",
       "    <tr>\n",
       "      <th>31</th>\n",
       "      <td>0.052937</td>\n",
       "      <td>0.001271</td>\n",
       "      <td>0.007439</td>\n",
       "      <td>4.514769e-04</td>\n",
       "      <td>entropy</td>\n",
       "      <td>1</td>\n",
       "      <td>3</td>\n",
       "      <td>4</td>\n",
       "      <td>{'criterion': 'entropy', 'max_depth': 1, 'min_...</td>\n",
       "      <td>0.728323</td>\n",
       "      <td>0.728768</td>\n",
       "      <td>0.720506</td>\n",
       "      <td>0.717078</td>\n",
       "      <td>0.715241</td>\n",
       "      <td>0.721983</td>\n",
       "      <td>0.005620</td>\n",
       "      <td>43</td>\n",
       "    </tr>\n",
       "    <tr>\n",
       "      <th>32</th>\n",
       "      <td>0.472964</td>\n",
       "      <td>0.008356</td>\n",
       "      <td>0.010343</td>\n",
       "      <td>1.004042e-03</td>\n",
       "      <td>entropy</td>\n",
       "      <td>11</td>\n",
       "      <td>3</td>\n",
       "      <td>3</td>\n",
       "      <td>{'criterion': 'entropy', 'max_depth': 11, 'min...</td>\n",
       "      <td>0.827510</td>\n",
       "      <td>0.826999</td>\n",
       "      <td>0.817355</td>\n",
       "      <td>0.820284</td>\n",
       "      <td>0.818271</td>\n",
       "      <td>0.822084</td>\n",
       "      <td>0.004330</td>\n",
       "      <td>27</td>\n",
       "    </tr>\n",
       "    <tr>\n",
       "      <th>33</th>\n",
       "      <td>0.160037</td>\n",
       "      <td>0.001779</td>\n",
       "      <td>0.008213</td>\n",
       "      <td>1.398106e-04</td>\n",
       "      <td>gini</td>\n",
       "      <td>4</td>\n",
       "      <td>3</td>\n",
       "      <td>4</td>\n",
       "      <td>{'criterion': 'gini', 'max_depth': 4, 'min_sam...</td>\n",
       "      <td>0.834373</td>\n",
       "      <td>0.836046</td>\n",
       "      <td>0.829493</td>\n",
       "      <td>0.827295</td>\n",
       "      <td>0.826406</td>\n",
       "      <td>0.830723</td>\n",
       "      <td>0.003836</td>\n",
       "      <td>24</td>\n",
       "    </tr>\n",
       "    <tr>\n",
       "      <th>34</th>\n",
       "      <td>0.159879</td>\n",
       "      <td>0.002431</td>\n",
       "      <td>0.008260</td>\n",
       "      <td>3.924290e-04</td>\n",
       "      <td>gini</td>\n",
       "      <td>4</td>\n",
       "      <td>1</td>\n",
       "      <td>3</td>\n",
       "      <td>{'criterion': 'gini', 'max_depth': 4, 'min_sam...</td>\n",
       "      <td>0.834373</td>\n",
       "      <td>0.836046</td>\n",
       "      <td>0.829493</td>\n",
       "      <td>0.827295</td>\n",
       "      <td>0.826406</td>\n",
       "      <td>0.830723</td>\n",
       "      <td>0.003836</td>\n",
       "      <td>24</td>\n",
       "    </tr>\n",
       "    <tr>\n",
       "      <th>35</th>\n",
       "      <td>0.463043</td>\n",
       "      <td>0.005123</td>\n",
       "      <td>0.010770</td>\n",
       "      <td>3.842811e-04</td>\n",
       "      <td>gini</td>\n",
       "      <td>12</td>\n",
       "      <td>3</td>\n",
       "      <td>3</td>\n",
       "      <td>{'criterion': 'gini', 'max_depth': 12, 'min_sa...</td>\n",
       "      <td>0.799783</td>\n",
       "      <td>0.801339</td>\n",
       "      <td>0.804825</td>\n",
       "      <td>0.799259</td>\n",
       "      <td>0.797297</td>\n",
       "      <td>0.800501</td>\n",
       "      <td>0.002519</td>\n",
       "      <td>36</td>\n",
       "    </tr>\n",
       "    <tr>\n",
       "      <th>36</th>\n",
       "      <td>0.086767</td>\n",
       "      <td>0.002091</td>\n",
       "      <td>0.007979</td>\n",
       "      <td>8.869684e-07</td>\n",
       "      <td>gini</td>\n",
       "      <td>2</td>\n",
       "      <td>1</td>\n",
       "      <td>4</td>\n",
       "      <td>{'criterion': 'gini', 'max_depth': 2, 'min_sam...</td>\n",
       "      <td>0.781945</td>\n",
       "      <td>0.786261</td>\n",
       "      <td>0.764980</td>\n",
       "      <td>0.775923</td>\n",
       "      <td>0.776021</td>\n",
       "      <td>0.777026</td>\n",
       "      <td>0.007167</td>\n",
       "      <td>39</td>\n",
       "    </tr>\n",
       "    <tr>\n",
       "      <th>37</th>\n",
       "      <td>0.466586</td>\n",
       "      <td>0.006488</td>\n",
       "      <td>0.010670</td>\n",
       "      <td>4.928598e-04</td>\n",
       "      <td>gini</td>\n",
       "      <td>12</td>\n",
       "      <td>1</td>\n",
       "      <td>4</td>\n",
       "      <td>{'criterion': 'gini', 'max_depth': 12, 'min_sa...</td>\n",
       "      <td>0.790925</td>\n",
       "      <td>0.790764</td>\n",
       "      <td>0.797267</td>\n",
       "      <td>0.790237</td>\n",
       "      <td>0.788357</td>\n",
       "      <td>0.791510</td>\n",
       "      <td>0.003020</td>\n",
       "      <td>37</td>\n",
       "    </tr>\n",
       "    <tr>\n",
       "      <th>38</th>\n",
       "      <td>0.051861</td>\n",
       "      <td>0.000630</td>\n",
       "      <td>0.007780</td>\n",
       "      <td>9.774285e-04</td>\n",
       "      <td>entropy</td>\n",
       "      <td>1</td>\n",
       "      <td>1</td>\n",
       "      <td>4</td>\n",
       "      <td>{'criterion': 'entropy', 'max_depth': 1, 'min_...</td>\n",
       "      <td>0.728323</td>\n",
       "      <td>0.728768</td>\n",
       "      <td>0.720506</td>\n",
       "      <td>0.717078</td>\n",
       "      <td>0.715241</td>\n",
       "      <td>0.721983</td>\n",
       "      <td>0.005620</td>\n",
       "      <td>43</td>\n",
       "    </tr>\n",
       "    <tr>\n",
       "      <th>39</th>\n",
       "      <td>0.283925</td>\n",
       "      <td>0.020584</td>\n",
       "      <td>0.009774</td>\n",
       "      <td>1.163236e-03</td>\n",
       "      <td>gini</td>\n",
       "      <td>7</td>\n",
       "      <td>3</td>\n",
       "      <td>4</td>\n",
       "      <td>{'criterion': 'gini', 'max_depth': 7, 'min_sam...</td>\n",
       "      <td>0.856710</td>\n",
       "      <td>0.856574</td>\n",
       "      <td>0.852747</td>\n",
       "      <td>0.848165</td>\n",
       "      <td>0.849764</td>\n",
       "      <td>0.852792</td>\n",
       "      <td>0.003471</td>\n",
       "      <td>1</td>\n",
       "    </tr>\n",
       "    <tr>\n",
       "      <th>40</th>\n",
       "      <td>0.380979</td>\n",
       "      <td>0.004136</td>\n",
       "      <td>0.009774</td>\n",
       "      <td>3.983979e-04</td>\n",
       "      <td>entropy</td>\n",
       "      <td>9</td>\n",
       "      <td>1</td>\n",
       "      <td>2</td>\n",
       "      <td>{'criterion': 'entropy', 'max_depth': 9, 'min_...</td>\n",
       "      <td>0.848339</td>\n",
       "      <td>0.846086</td>\n",
       "      <td>0.840701</td>\n",
       "      <td>0.842758</td>\n",
       "      <td>0.844834</td>\n",
       "      <td>0.844543</td>\n",
       "      <td>0.002639</td>\n",
       "      <td>18</td>\n",
       "    </tr>\n",
       "    <tr>\n",
       "      <th>41</th>\n",
       "      <td>0.399342</td>\n",
       "      <td>0.027718</td>\n",
       "      <td>0.009800</td>\n",
       "      <td>4.151086e-04</td>\n",
       "      <td>entropy</td>\n",
       "      <td>9</td>\n",
       "      <td>2</td>\n",
       "      <td>4</td>\n",
       "      <td>{'criterion': 'entropy', 'max_depth': 9, 'min_...</td>\n",
       "      <td>0.848654</td>\n",
       "      <td>0.846766</td>\n",
       "      <td>0.841596</td>\n",
       "      <td>0.843191</td>\n",
       "      <td>0.844821</td>\n",
       "      <td>0.845005</td>\n",
       "      <td>0.002504</td>\n",
       "      <td>17</td>\n",
       "    </tr>\n",
       "    <tr>\n",
       "      <th>42</th>\n",
       "      <td>0.127857</td>\n",
       "      <td>0.005692</td>\n",
       "      <td>0.008378</td>\n",
       "      <td>4.893568e-04</td>\n",
       "      <td>entropy</td>\n",
       "      <td>3</td>\n",
       "      <td>2</td>\n",
       "      <td>2</td>\n",
       "      <td>{'criterion': 'entropy', 'max_depth': 3, 'min_...</td>\n",
       "      <td>0.822860</td>\n",
       "      <td>0.821746</td>\n",
       "      <td>0.817943</td>\n",
       "      <td>0.810624</td>\n",
       "      <td>0.814226</td>\n",
       "      <td>0.817480</td>\n",
       "      <td>0.004581</td>\n",
       "      <td>30</td>\n",
       "    </tr>\n",
       "    <tr>\n",
       "      <th>43</th>\n",
       "      <td>0.351459</td>\n",
       "      <td>0.004442</td>\n",
       "      <td>0.009375</td>\n",
       "      <td>4.886948e-04</td>\n",
       "      <td>gini</td>\n",
       "      <td>9</td>\n",
       "      <td>1</td>\n",
       "      <td>4</td>\n",
       "      <td>{'criterion': 'gini', 'max_depth': 9, 'min_sam...</td>\n",
       "      <td>0.846991</td>\n",
       "      <td>0.851734</td>\n",
       "      <td>0.847154</td>\n",
       "      <td>0.839328</td>\n",
       "      <td>0.845267</td>\n",
       "      <td>0.846095</td>\n",
       "      <td>0.004005</td>\n",
       "      <td>12</td>\n",
       "    </tr>\n",
       "    <tr>\n",
       "      <th>44</th>\n",
       "      <td>0.358645</td>\n",
       "      <td>0.022917</td>\n",
       "      <td>0.009794</td>\n",
       "      <td>4.170511e-04</td>\n",
       "      <td>gini</td>\n",
       "      <td>9</td>\n",
       "      <td>1</td>\n",
       "      <td>2</td>\n",
       "      <td>{'criterion': 'gini', 'max_depth': 9, 'min_sam...</td>\n",
       "      <td>0.846730</td>\n",
       "      <td>0.850750</td>\n",
       "      <td>0.847512</td>\n",
       "      <td>0.839657</td>\n",
       "      <td>0.844899</td>\n",
       "      <td>0.845910</td>\n",
       "      <td>0.003655</td>\n",
       "      <td>13</td>\n",
       "    </tr>\n",
       "    <tr>\n",
       "      <th>45</th>\n",
       "      <td>0.051662</td>\n",
       "      <td>0.000400</td>\n",
       "      <td>0.007180</td>\n",
       "      <td>3.994944e-04</td>\n",
       "      <td>entropy</td>\n",
       "      <td>1</td>\n",
       "      <td>1</td>\n",
       "      <td>3</td>\n",
       "      <td>{'criterion': 'entropy', 'max_depth': 1, 'min_...</td>\n",
       "      <td>0.728323</td>\n",
       "      <td>0.728768</td>\n",
       "      <td>0.720506</td>\n",
       "      <td>0.717078</td>\n",
       "      <td>0.715241</td>\n",
       "      <td>0.721983</td>\n",
       "      <td>0.005620</td>\n",
       "      <td>43</td>\n",
       "    </tr>\n",
       "    <tr>\n",
       "      <th>46</th>\n",
       "      <td>0.545406</td>\n",
       "      <td>0.003484</td>\n",
       "      <td>0.010578</td>\n",
       "      <td>4.817566e-04</td>\n",
       "      <td>entropy</td>\n",
       "      <td>13</td>\n",
       "      <td>3</td>\n",
       "      <td>3</td>\n",
       "      <td>{'criterion': 'entropy', 'max_depth': 13, 'min...</td>\n",
       "      <td>0.792565</td>\n",
       "      <td>0.789733</td>\n",
       "      <td>0.780705</td>\n",
       "      <td>0.788745</td>\n",
       "      <td>0.787636</td>\n",
       "      <td>0.787877</td>\n",
       "      <td>0.003941</td>\n",
       "      <td>38</td>\n",
       "    </tr>\n",
       "    <tr>\n",
       "      <th>47</th>\n",
       "      <td>0.592540</td>\n",
       "      <td>0.007665</td>\n",
       "      <td>0.011287</td>\n",
       "      <td>1.583360e-03</td>\n",
       "      <td>entropy</td>\n",
       "      <td>14</td>\n",
       "      <td>1</td>\n",
       "      <td>2</td>\n",
       "      <td>{'criterion': 'entropy', 'max_depth': 14, 'min...</td>\n",
       "      <td>0.763025</td>\n",
       "      <td>0.755539</td>\n",
       "      <td>0.745301</td>\n",
       "      <td>0.757886</td>\n",
       "      <td>0.763071</td>\n",
       "      <td>0.756965</td>\n",
       "      <td>0.006526</td>\n",
       "      <td>41</td>\n",
       "    </tr>\n",
       "    <tr>\n",
       "      <th>48</th>\n",
       "      <td>0.523079</td>\n",
       "      <td>0.006530</td>\n",
       "      <td>0.010799</td>\n",
       "      <td>6.037771e-04</td>\n",
       "      <td>gini</td>\n",
       "      <td>14</td>\n",
       "      <td>2</td>\n",
       "      <td>4</td>\n",
       "      <td>{'criterion': 'gini', 'max_depth': 14, 'min_sa...</td>\n",
       "      <td>0.749261</td>\n",
       "      <td>0.757904</td>\n",
       "      <td>0.753125</td>\n",
       "      <td>0.754246</td>\n",
       "      <td>0.746865</td>\n",
       "      <td>0.752280</td>\n",
       "      <td>0.003864</td>\n",
       "      <td>42</td>\n",
       "    </tr>\n",
       "    <tr>\n",
       "      <th>49</th>\n",
       "      <td>0.052004</td>\n",
       "      <td>0.001215</td>\n",
       "      <td>0.007805</td>\n",
       "      <td>1.334841e-03</td>\n",
       "      <td>entropy</td>\n",
       "      <td>1</td>\n",
       "      <td>1</td>\n",
       "      <td>3</td>\n",
       "      <td>{'criterion': 'entropy', 'max_depth': 1, 'min_...</td>\n",
       "      <td>0.728323</td>\n",
       "      <td>0.728768</td>\n",
       "      <td>0.720506</td>\n",
       "      <td>0.717078</td>\n",
       "      <td>0.715241</td>\n",
       "      <td>0.721983</td>\n",
       "      <td>0.005620</td>\n",
       "      <td>43</td>\n",
       "    </tr>\n",
       "  </tbody>\n",
       "</table>\n",
       "</div>"
      ],
      "text/plain": [
       "    mean_fit_time  std_fit_time  mean_score_time  std_score_time  \\\n",
       "0        0.245350      0.021999         0.009298    7.308872e-04   \n",
       "1        0.242941      0.002086         0.008642    4.691519e-04   \n",
       "2        0.286259      0.002702         0.009040    5.272483e-04   \n",
       "3        0.424665      0.003301         0.009972    5.460566e-06   \n",
       "4        0.332710      0.003373         0.010173    1.934161e-03   \n",
       "5        0.247016      0.006897         0.008936    7.728514e-05   \n",
       "6        0.391102      0.004242         0.010005    6.836628e-05   \n",
       "7        0.246855      0.005076         0.009574    2.239173e-03   \n",
       "8        0.160171      0.002240         0.008385    4.833539e-04   \n",
       "9        0.581943      0.003381         0.010433    4.530659e-04   \n",
       "10       0.426994      0.004362         0.010064    4.209419e-04   \n",
       "11       0.489312      0.018888         0.011176    1.809437e-03   \n",
       "12       0.137788      0.014571         0.008968    5.820951e-04   \n",
       "13       0.052151      0.001057         0.007634    5.414924e-04   \n",
       "14       0.290277      0.003007         0.009772    1.162509e-03   \n",
       "15       0.210835      0.018287         0.008776    3.992565e-04   \n",
       "16       0.359643      0.012962         0.011364    2.863442e-03   \n",
       "17       0.428847      0.003450         0.009722    4.068544e-04   \n",
       "18       0.517911      0.008333         0.010572    7.974150e-04   \n",
       "19       0.050863      0.001410         0.006981    6.315052e-04   \n",
       "20       0.387764      0.003302         0.009771    3.980017e-04   \n",
       "21       0.201661      0.003420         0.008577    4.878392e-04   \n",
       "22       0.200065      0.001017         0.008379    4.900039e-04   \n",
       "23       0.351302      0.003262         0.009474    2.516332e-04   \n",
       "24       0.484989      0.010334         0.010042    3.401496e-04   \n",
       "25       0.061932      0.007151         0.009384    1.611976e-03   \n",
       "26       0.168396      0.007713         0.007711    6.073284e-04   \n",
       "27       0.052060      0.001466         0.006984    4.845003e-06   \n",
       "28       0.122696      0.001092         0.007976    4.497462e-06   \n",
       "29       0.124580      0.000653         0.007582    4.867731e-04   \n",
       "30       0.326126      0.006610         0.010884    1.719313e-03   \n",
       "31       0.052937      0.001271         0.007439    4.514769e-04   \n",
       "32       0.472964      0.008356         0.010343    1.004042e-03   \n",
       "33       0.160037      0.001779         0.008213    1.398106e-04   \n",
       "34       0.159879      0.002431         0.008260    3.924290e-04   \n",
       "35       0.463043      0.005123         0.010770    3.842811e-04   \n",
       "36       0.086767      0.002091         0.007979    8.869684e-07   \n",
       "37       0.466586      0.006488         0.010670    4.928598e-04   \n",
       "38       0.051861      0.000630         0.007780    9.774285e-04   \n",
       "39       0.283925      0.020584         0.009774    1.163236e-03   \n",
       "40       0.380979      0.004136         0.009774    3.983979e-04   \n",
       "41       0.399342      0.027718         0.009800    4.151086e-04   \n",
       "42       0.127857      0.005692         0.008378    4.893568e-04   \n",
       "43       0.351459      0.004442         0.009375    4.886948e-04   \n",
       "44       0.358645      0.022917         0.009794    4.170511e-04   \n",
       "45       0.051662      0.000400         0.007180    3.994944e-04   \n",
       "46       0.545406      0.003484         0.010578    4.817566e-04   \n",
       "47       0.592540      0.007665         0.011287    1.583360e-03   \n",
       "48       0.523079      0.006530         0.010799    6.037771e-04   \n",
       "49       0.052004      0.001215         0.007805    1.334841e-03   \n",
       "\n",
       "   param_criterion param_max_depth param_min_samples_leaf  \\\n",
       "0             gini               6                      1   \n",
       "1          entropy               6                      3   \n",
       "2          entropy               7                      1   \n",
       "3             gini              11                      2   \n",
       "4          entropy               8                      3   \n",
       "5          entropy               6                      2   \n",
       "6             gini              10                      1   \n",
       "7          entropy               6                      3   \n",
       "8             gini               4                      1   \n",
       "9          entropy              14                      3   \n",
       "10         entropy              10                      2   \n",
       "11         entropy              11                      1   \n",
       "12         entropy               3                      1   \n",
       "13            gini               1                      1   \n",
       "14         entropy               7                      1   \n",
       "15         entropy               5                      2   \n",
       "16            gini               9                      2   \n",
       "17         entropy              10                      2   \n",
       "18         entropy              12                      3   \n",
       "19         entropy               1                      3   \n",
       "20            gini              10                      3   \n",
       "21         entropy               5                      3   \n",
       "22         entropy               5                      1   \n",
       "23            gini               9                      3   \n",
       "24         entropy              11                      2   \n",
       "25         entropy               1                      2   \n",
       "26         entropy               4                      1   \n",
       "27            gini               1                      2   \n",
       "28            gini               3                      1   \n",
       "29         entropy               3                      3   \n",
       "30            gini               8                      2   \n",
       "31         entropy               1                      3   \n",
       "32         entropy              11                      3   \n",
       "33            gini               4                      3   \n",
       "34            gini               4                      1   \n",
       "35            gini              12                      3   \n",
       "36            gini               2                      1   \n",
       "37            gini              12                      1   \n",
       "38         entropy               1                      1   \n",
       "39            gini               7                      3   \n",
       "40         entropy               9                      1   \n",
       "41         entropy               9                      2   \n",
       "42         entropy               3                      2   \n",
       "43            gini               9                      1   \n",
       "44            gini               9                      1   \n",
       "45         entropy               1                      1   \n",
       "46         entropy              13                      3   \n",
       "47         entropy              14                      1   \n",
       "48            gini              14                      2   \n",
       "49         entropy               1                      1   \n",
       "\n",
       "   param_min_samples_split                                             params  \\\n",
       "0                        3  {'criterion': 'gini', 'max_depth': 6, 'min_sam...   \n",
       "1                        2  {'criterion': 'entropy', 'max_depth': 6, 'min_...   \n",
       "2                        2  {'criterion': 'entropy', 'max_depth': 7, 'min_...   \n",
       "3                        4  {'criterion': 'gini', 'max_depth': 11, 'min_sa...   \n",
       "4                        2  {'criterion': 'entropy', 'max_depth': 8, 'min_...   \n",
       "5                        3  {'criterion': 'entropy', 'max_depth': 6, 'min_...   \n",
       "6                        2  {'criterion': 'gini', 'max_depth': 10, 'min_sa...   \n",
       "7                        2  {'criterion': 'entropy', 'max_depth': 6, 'min_...   \n",
       "8                        3  {'criterion': 'gini', 'max_depth': 4, 'min_sam...   \n",
       "9                        2  {'criterion': 'entropy', 'max_depth': 14, 'min...   \n",
       "10                       2  {'criterion': 'entropy', 'max_depth': 10, 'min...   \n",
       "11                       4  {'criterion': 'entropy', 'max_depth': 11, 'min...   \n",
       "12                       4  {'criterion': 'entropy', 'max_depth': 3, 'min_...   \n",
       "13                       3  {'criterion': 'gini', 'max_depth': 1, 'min_sam...   \n",
       "14                       2  {'criterion': 'entropy', 'max_depth': 7, 'min_...   \n",
       "15                       4  {'criterion': 'entropy', 'max_depth': 5, 'min_...   \n",
       "16                       3  {'criterion': 'gini', 'max_depth': 9, 'min_sam...   \n",
       "17                       4  {'criterion': 'entropy', 'max_depth': 10, 'min...   \n",
       "18                       4  {'criterion': 'entropy', 'max_depth': 12, 'min...   \n",
       "19                       3  {'criterion': 'entropy', 'max_depth': 1, 'min_...   \n",
       "20                       2  {'criterion': 'gini', 'max_depth': 10, 'min_sa...   \n",
       "21                       2  {'criterion': 'entropy', 'max_depth': 5, 'min_...   \n",
       "22                       2  {'criterion': 'entropy', 'max_depth': 5, 'min_...   \n",
       "23                       2  {'criterion': 'gini', 'max_depth': 9, 'min_sam...   \n",
       "24                       3  {'criterion': 'entropy', 'max_depth': 11, 'min...   \n",
       "25                       3  {'criterion': 'entropy', 'max_depth': 1, 'min_...   \n",
       "26                       3  {'criterion': 'entropy', 'max_depth': 4, 'min_...   \n",
       "27                       4  {'criterion': 'gini', 'max_depth': 1, 'min_sam...   \n",
       "28                       3  {'criterion': 'gini', 'max_depth': 3, 'min_sam...   \n",
       "29                       3  {'criterion': 'entropy', 'max_depth': 3, 'min_...   \n",
       "30                       3  {'criterion': 'gini', 'max_depth': 8, 'min_sam...   \n",
       "31                       4  {'criterion': 'entropy', 'max_depth': 1, 'min_...   \n",
       "32                       3  {'criterion': 'entropy', 'max_depth': 11, 'min...   \n",
       "33                       4  {'criterion': 'gini', 'max_depth': 4, 'min_sam...   \n",
       "34                       3  {'criterion': 'gini', 'max_depth': 4, 'min_sam...   \n",
       "35                       3  {'criterion': 'gini', 'max_depth': 12, 'min_sa...   \n",
       "36                       4  {'criterion': 'gini', 'max_depth': 2, 'min_sam...   \n",
       "37                       4  {'criterion': 'gini', 'max_depth': 12, 'min_sa...   \n",
       "38                       4  {'criterion': 'entropy', 'max_depth': 1, 'min_...   \n",
       "39                       4  {'criterion': 'gini', 'max_depth': 7, 'min_sam...   \n",
       "40                       2  {'criterion': 'entropy', 'max_depth': 9, 'min_...   \n",
       "41                       4  {'criterion': 'entropy', 'max_depth': 9, 'min_...   \n",
       "42                       2  {'criterion': 'entropy', 'max_depth': 3, 'min_...   \n",
       "43                       4  {'criterion': 'gini', 'max_depth': 9, 'min_sam...   \n",
       "44                       2  {'criterion': 'gini', 'max_depth': 9, 'min_sam...   \n",
       "45                       3  {'criterion': 'entropy', 'max_depth': 1, 'min_...   \n",
       "46                       3  {'criterion': 'entropy', 'max_depth': 13, 'min...   \n",
       "47                       2  {'criterion': 'entropy', 'max_depth': 14, 'min...   \n",
       "48                       4  {'criterion': 'gini', 'max_depth': 14, 'min_sa...   \n",
       "49                       3  {'criterion': 'entropy', 'max_depth': 1, 'min_...   \n",
       "\n",
       "    split0_test_score  split1_test_score  split2_test_score  \\\n",
       "0            0.853069           0.852706           0.851331   \n",
       "1            0.855013           0.852652           0.850458   \n",
       "2            0.856164           0.856144           0.852319   \n",
       "3            0.817737           0.818433           0.818788   \n",
       "4            0.856413           0.853442           0.848520   \n",
       "5            0.854894           0.852652           0.850458   \n",
       "6            0.833504           0.836514           0.832878   \n",
       "7            0.855013           0.852652           0.850458   \n",
       "8            0.834373           0.836046           0.829493   \n",
       "9            0.777420           0.773336           0.761921   \n",
       "10           0.839429           0.839049           0.831215   \n",
       "11           0.823669           0.821657           0.813402   \n",
       "12           0.822860           0.821746           0.817943   \n",
       "13           0.695999           0.718989           0.715639   \n",
       "14           0.856164           0.856144           0.852319   \n",
       "15           0.849633           0.847627           0.843817   \n",
       "16           0.847266           0.851615           0.848563   \n",
       "17           0.838978           0.839440           0.831073   \n",
       "18           0.810227           0.808389           0.800474   \n",
       "19           0.728323           0.728768           0.720506   \n",
       "20           0.837171           0.836716           0.836465   \n",
       "21           0.849633           0.847627           0.843817   \n",
       "22           0.849633           0.847627           0.843817   \n",
       "23           0.848768           0.852539           0.848270   \n",
       "24           0.824701           0.821881           0.815352   \n",
       "25           0.728323           0.728768           0.720506   \n",
       "26           0.838254           0.836940           0.831301   \n",
       "27           0.695999           0.718989           0.715639   \n",
       "28           0.818853           0.820980           0.812852   \n",
       "29           0.822860           0.821746           0.817943   \n",
       "30           0.853655           0.856156           0.851824   \n",
       "31           0.728323           0.728768           0.720506   \n",
       "32           0.827510           0.826999           0.817355   \n",
       "33           0.834373           0.836046           0.829493   \n",
       "34           0.834373           0.836046           0.829493   \n",
       "35           0.799783           0.801339           0.804825   \n",
       "36           0.781945           0.786261           0.764980   \n",
       "37           0.790925           0.790764           0.797267   \n",
       "38           0.728323           0.728768           0.720506   \n",
       "39           0.856710           0.856574           0.852747   \n",
       "40           0.848339           0.846086           0.840701   \n",
       "41           0.848654           0.846766           0.841596   \n",
       "42           0.822860           0.821746           0.817943   \n",
       "43           0.846991           0.851734           0.847154   \n",
       "44           0.846730           0.850750           0.847512   \n",
       "45           0.728323           0.728768           0.720506   \n",
       "46           0.792565           0.789733           0.780705   \n",
       "47           0.763025           0.755539           0.745301   \n",
       "48           0.749261           0.757904           0.753125   \n",
       "49           0.728323           0.728768           0.720506   \n",
       "\n",
       "    split3_test_score  split4_test_score  mean_test_score  std_test_score  \\\n",
       "0            0.846655           0.842946         0.849341        0.003932   \n",
       "1            0.846433           0.847508         0.850413        0.003177   \n",
       "2            0.848682           0.850379         0.852738        0.003018   \n",
       "3            0.815615           0.811885         0.816492        0.002552   \n",
       "4            0.848359           0.850180         0.851383        0.003109   \n",
       "5            0.846738           0.847508         0.850450        0.003067   \n",
       "6            0.828862           0.832594         0.832870        0.002442   \n",
       "7            0.846738           0.847508         0.850474        0.003102   \n",
       "8            0.827295           0.826406         0.830723        0.003836   \n",
       "9            0.773927           0.771424         0.771605        0.005216   \n",
       "10           0.834759           0.831254         0.835141        0.003587   \n",
       "11           0.815699           0.817405         0.818367        0.003785   \n",
       "12           0.810624           0.814226         0.817480        0.004581   \n",
       "13           0.709201           0.689959         0.705957        0.011218   \n",
       "14           0.848461           0.849762         0.852570        0.003179   \n",
       "15           0.842773           0.841420         0.845054        0.003083   \n",
       "16           0.840391           0.846091         0.846785        0.003690   \n",
       "17           0.836354           0.830197         0.835208        0.003889   \n",
       "18           0.803396           0.804582         0.805413        0.003498   \n",
       "19           0.717078           0.715241         0.721983        0.005620   \n",
       "20           0.835622           0.832474         0.835690        0.001685   \n",
       "21           0.842773           0.841420         0.845054        0.003083   \n",
       "22           0.842773           0.841420         0.845054        0.003083   \n",
       "23           0.843363           0.843443         0.847277        0.003490   \n",
       "24           0.815353           0.815765         0.818610        0.003927   \n",
       "25           0.717078           0.715241         0.721983        0.005620   \n",
       "26           0.827970           0.830768         0.833047        0.003906   \n",
       "27           0.709201           0.689959         0.705957        0.011218   \n",
       "28           0.809893           0.809349         0.814385        0.004719   \n",
       "29           0.810624           0.814226         0.817480        0.004581   \n",
       "30           0.847180           0.851300         0.852023        0.002958   \n",
       "31           0.717078           0.715241         0.721983        0.005620   \n",
       "32           0.820284           0.818271         0.822084        0.004330   \n",
       "33           0.827295           0.826406         0.830723        0.003836   \n",
       "34           0.827295           0.826406         0.830723        0.003836   \n",
       "35           0.799259           0.797297         0.800501        0.002519   \n",
       "36           0.775923           0.776021         0.777026        0.007167   \n",
       "37           0.790237           0.788357         0.791510        0.003020   \n",
       "38           0.717078           0.715241         0.721983        0.005620   \n",
       "39           0.848165           0.849764         0.852792        0.003471   \n",
       "40           0.842758           0.844834         0.844543        0.002639   \n",
       "41           0.843191           0.844821         0.845005        0.002504   \n",
       "42           0.810624           0.814226         0.817480        0.004581   \n",
       "43           0.839328           0.845267         0.846095        0.004005   \n",
       "44           0.839657           0.844899         0.845910        0.003655   \n",
       "45           0.717078           0.715241         0.721983        0.005620   \n",
       "46           0.788745           0.787636         0.787877        0.003941   \n",
       "47           0.757886           0.763071         0.756965        0.006526   \n",
       "48           0.754246           0.746865         0.752280        0.003864   \n",
       "49           0.717078           0.715241         0.721983        0.005620   \n",
       "\n",
       "    rank_test_score  \n",
       "0                 9  \n",
       "1                 8  \n",
       "2                 2  \n",
       "3                33  \n",
       "4                 5  \n",
       "5                 7  \n",
       "6                23  \n",
       "7                 6  \n",
       "8                24  \n",
       "9                40  \n",
       "10               21  \n",
       "11               29  \n",
       "12               30  \n",
       "13               49  \n",
       "14                3  \n",
       "15               14  \n",
       "16               11  \n",
       "17               20  \n",
       "18               35  \n",
       "19               43  \n",
       "20               19  \n",
       "21               14  \n",
       "22               14  \n",
       "23               10  \n",
       "24               28  \n",
       "25               43  \n",
       "26               22  \n",
       "27               49  \n",
       "28               34  \n",
       "29               30  \n",
       "30                4  \n",
       "31               43  \n",
       "32               27  \n",
       "33               24  \n",
       "34               24  \n",
       "35               36  \n",
       "36               39  \n",
       "37               37  \n",
       "38               43  \n",
       "39                1  \n",
       "40               18  \n",
       "41               17  \n",
       "42               30  \n",
       "43               12  \n",
       "44               13  \n",
       "45               43  \n",
       "46               38  \n",
       "47               41  \n",
       "48               42  \n",
       "49               43  "
      ]
     },
     "execution_count": 45,
     "metadata": {},
     "output_type": "execute_result"
    }
   ],
   "source": [
    "model = RandomizedSearchCV(tree1, param_grid_tree,n_iter=50, random_state=0, scoring='roc_auc',cv=5)\n",
    "model.fit(X2_train_s, y2_train)\n",
    "print(\"Mejores parametros: \"+str(model.best_params_))\n",
    "print(\"Mejor Score: \"+str(model.best_score_)+'\\n')\n",
    "\n",
    "scores = pd.DataFrame(model.cv_results_)\n",
    "scores"
   ]
  },
  {
   "cell_type": "code",
   "execution_count": 74,
   "metadata": {},
   "outputs": [
    {
     "name": "stdout",
     "output_type": "stream",
     "text": [
      "0.7224430384212761 0.7179466254566671\n"
     ]
    }
   ],
   "source": [
    "y_train_pred3=model.predict(X2_train_s)\n",
    "y_test_pred3=model.predict(X2_test_s)\n",
    "roc_score_train=roc_auc_score(y2_train,y_train_pred3)\n",
    "roc_score_test=roc_auc_score(y2_test,y_test_pred3)\n",
    "print(roc_score_train,roc_score_test)"
   ]
  },
  {
   "cell_type": "markdown",
   "metadata": {
    "id": "Mc_mkQLyJvrC"
   },
   "source": [
    "## 2. Bagging\n",
    "\n",
    "Separamos entre train y test"
   ]
  },
  {
   "cell_type": "code",
   "execution_count": 46,
   "metadata": {
    "id": "CUISoV0dJvrD"
   },
   "outputs": [],
   "source": [
    "X_train, X_test, y_train, y_test = train_test_split(X2, y, test_size=0.30, random_state=42, stratify = y)"
   ]
  },
  {
   "cell_type": "markdown",
   "metadata": {
    "id": "QDdZ0iLBJvrI"
   },
   "source": [
    "Recuerden que el objetivo de bagging es entrenar distintos modelos, donde cada uno vea distintas porciones del set de entrenamiento. Entonces, vamos a entrenar distintos árboles de decisión y mostrarles distintas porciones del set de datos. Lo vamos a hacer en un `for`.\n",
    "\n",
    "1. Crear una lista vacía donde guardaremos los modelos entrenados y elegir cuántos modelos entrenar (Empezar por algún valor entre 5 y 10)."
   ]
  },
  {
   "cell_type": "code",
   "execution_count": 75,
   "metadata": {
    "id": "-ztTJTETJvrJ"
   },
   "outputs": [],
   "source": [
    "lista_de_modelos = []\n",
    "N_modelos = 10"
   ]
  },
  {
   "cell_type": "markdown",
   "metadata": {
    "id": "gaJ8I7cdJvrN"
   },
   "source": [
    "2. Entrenar cada modelo y guardar cada modelo entrenado en una lista. Para hacer el split, usar la función `train_test_split`. ¿Sobre qué conjunto van a hacer el split?¿Hay que fijar el `random_state`? "
   ]
  },
  {
   "cell_type": "code",
   "execution_count": 76,
   "metadata": {
    "id": "A_otcyfbJvrO"
   },
   "outputs": [],
   "source": [
    "for i in range(N_modelos):\n",
    "    X_train_boostrap, _, y_train_boostrap, _ = train_test_split(X_train, y_train, test_size=0.5, stratify = y_train)\n",
    "    clf = DecisionTreeClassifier(max_depth = None) #Notar que lo dejamos overfitear\n",
    "    clf.fit(X_train_boostrap, y_train_boostrap)\n",
    "    lista_de_modelos.append(clf)"
   ]
  },
  {
   "cell_type": "markdown",
   "metadata": {
    "id": "cpsPf5kFJvrR"
   },
   "source": [
    "3. Evaluar el accuracy de cada modelo usando el conjunto de held_out"
   ]
  },
  {
   "cell_type": "code",
   "execution_count": 77,
   "metadata": {
    "id": "MsgzTND2JvrS"
   },
   "outputs": [
    {
     "name": "stdout",
     "output_type": "stream",
     "text": [
      "Accuracy Modelo  0  es  0.7821004781864337\n",
      "Accuracy Modelo  1  es  0.7824842080406164\n",
      "Accuracy Modelo  2  es  0.7835468445598913\n",
      "Accuracy Modelo  3  es  0.7842552689060748\n",
      "Accuracy Modelo  4  es  0.7787944979042446\n",
      "Accuracy Modelo  5  es  0.7811263947104315\n",
      "Accuracy Modelo  6  es  0.7792372631206093\n",
      "Accuracy Modelo  7  es  0.7852883877442588\n",
      "Accuracy Modelo  8  es  0.7840191274573469\n",
      "Accuracy Modelo  9  es  0.7855245291929867\n"
     ]
    }
   ],
   "source": [
    "from sklearn.metrics import accuracy_score\n",
    "for idx, modelo in enumerate(lista_de_modelos):\n",
    "    y_test_pred = modelo.predict(X_test)\n",
    "    print('Accuracy Modelo ', idx, ' es ', accuracy_score(y_test, y_test_pred))"
   ]
  },
  {
   "cell_type": "markdown",
   "metadata": {
    "id": "KdgMthaaJvrW"
   },
   "source": [
    "Parecen estar un poco overfitteados, que era lo que esperábamos.\n",
    "\n",
    "4. Evaluar el accuracy de todo el ensamble usando el conjunto de held_out. Vamos a hacerlo usando un promedio de las probabilidades que devuelven cada árbol. Si la probabilidad promedio es mayor a 0.5, clasificamos como positivo. Para ello:\n",
    "    1. Inicializar un arreglo de probabilidades del tamaño de la cantidad de instancias del conjunto de test en ceros."
   ]
  },
  {
   "cell_type": "code",
   "execution_count": 78,
   "metadata": {
    "id": "XUEvoz7sJvrX"
   },
   "outputs": [],
   "source": [
    "probs_test_pred = np.zeros(X_test.shape[0])"
   ]
  },
  {
   "cell_type": "markdown",
   "metadata": {
    "id": "tVesaBT4Jvrb"
   },
   "source": [
    "B. Recorrer la lista de modelos y predecir las probabilidades. Mirar como es el `shape` de ese arreglo predicho. Elegir las probabilidades que correspondan a la clase positiva. Luego, sumarlas al vector que definieron antes."
   ]
  },
  {
   "cell_type": "code",
   "execution_count": 79,
   "metadata": {
    "id": "Jz7Za7DZJvre"
   },
   "outputs": [
    {
     "name": "stdout",
     "output_type": "stream",
     "text": [
      "(33878, 2)\n",
      "(33878, 2)\n",
      "(33878, 2)\n",
      "(33878, 2)\n",
      "(33878, 2)\n",
      "(33878, 2)\n",
      "(33878, 2)\n",
      "(33878, 2)\n",
      "(33878, 2)\n",
      "(33878, 2)\n"
     ]
    }
   ],
   "source": [
    "for modelo in lista_de_modelos:\n",
    "    probs_test_pred_modelo = modelo.predict_proba(X_test)\n",
    "    probs_test_pred=probs_test_pred_modelo[:,1]\n",
    "    print(probs_test_pred_modelo.shape)\n",
    "    # Cuando esten seguros de lo que quieran sumar, descomentar la linea de abajo y completar\n",
    "#     probs_test_pred +=probs_test_pred_modelo[COMPLETAR,COMPLETAR]\n",
    "    "
   ]
  },
  {
   "cell_type": "markdown",
   "metadata": {
    "id": "Qmv52DebJvri"
   },
   "source": [
    "C. Dividir `probs_test_pred` por la cantidad de modelos"
   ]
  },
  {
   "cell_type": "code",
   "execution_count": 80,
   "metadata": {
    "id": "9xuoE2eSJvrj"
   },
   "outputs": [],
   "source": [
    "probs_test_pred = probs_test_pred/N_modelos"
   ]
  },
  {
   "cell_type": "markdown",
   "metadata": {
    "id": "zMKCvgCNJvrn"
   },
   "source": [
    "D. Crear las clases predichas (0s y 1s) a partir de comparar la probabilidad predicha con la probabilidad umbral (0.5)."
   ]
  },
  {
   "cell_type": "code",
   "execution_count": 81,
   "metadata": {
    "id": "20crY7SYJvro"
   },
   "outputs": [],
   "source": [
    "y_test_pred = probs_test_pred>0.5\n",
    "y_test_pred = y_test_pred.astype(int)"
   ]
  },
  {
   "cell_type": "markdown",
   "metadata": {
    "id": "6A3BvrucJvrr"
   },
   "source": [
    "Y evaluar la exactitud de todo el ensamble"
   ]
  },
  {
   "cell_type": "code",
   "execution_count": 82,
   "metadata": {
    "id": "mFh0l13tJvrs"
   },
   "outputs": [
    {
     "name": "stdout",
     "output_type": "stream",
     "text": [
      "Accuracy Ensambe  0.778440285731153\n"
     ]
    }
   ],
   "source": [
    "print('Accuracy Ensambe ', metrics.accuracy_score(y_test, y_test_pred))"
   ]
  },
  {
   "cell_type": "markdown",
   "metadata": {
    "id": "APxl2HcfJvrw"
   },
   "source": [
    "5. Explorar el `BagginClassfier` de scikit-learn y algunas de sus características. Usarlo para predecir sobre el train y test, y medir su desempeño."
   ]
  },
  {
   "cell_type": "code",
   "execution_count": 55,
   "metadata": {
    "id": "C1dcDvhTJvrw"
   },
   "outputs": [],
   "source": [
    "from sklearn.ensemble import BaggingClassifier"
   ]
  },
  {
   "cell_type": "code",
   "execution_count": 90,
   "metadata": {
    "id": "CDFRfqvLJvr0"
   },
   "outputs": [
    {
     "name": "stdout",
     "output_type": "stream",
     "text": [
      "0.9952686376459575\n",
      "0.8469508235433024\n"
     ]
    }
   ],
   "source": [
    "clf = BaggingClassifier(base_estimator=None, bootstrap = True, bootstrap_features=False, n_estimators = 20, n_jobs = -1)\n",
    "clf.fit(X_train, y_train)\n",
    "\n",
    "y_train_pred = clf.predict(X_train)\n",
    "y_test_pred = clf.predict(X_test)\n",
    "\n",
    "print(metrics.accuracy_score(y_train, y_train_pred))\n",
    "print(metrics.accuracy_score(y_test, y_test_pred))"
   ]
  },
  {
   "cell_type": "markdown",
   "metadata": {
    "id": "bAuLOo02Jvr4"
   },
   "source": [
    "6. Si usaron dos features, pueden graficar las fronteras de decisión"
   ]
  },
  {
   "cell_type": "code",
   "execution_count": 91,
   "metadata": {
    "id": "9mZXUi0zJvr4"
   },
   "outputs": [
    {
     "data": {
      "image/png": "[encoded data removed]",
      "text/plain": [
       "<Figure size 576x432 with 1 Axes>"
      ]
     },
     "metadata": {},
     "output_type": "display_data"
    }
   ],
   "source": [
    "N = 20 #para no graficar todos los puntos y saturar el grafico\n",
    "\n",
    "plt.figure(figsize = (8,6))\n",
    "\n",
    "#Grafico Clasificador Sesgado\n",
    "ax = sns.scatterplot(x=x1_test.iloc[::N,0], y=x1_test.iloc[::N,1], hue=y1_test[::N], palette='Set2')\n",
    "xlim = ax.get_xlim()\n",
    "ylim = ax.get_ylim()\n",
    "xx, yy = np.meshgrid(np.linspace(*xlim, num=200),\n",
    "                      np.linspace(*ylim, num=200))\n",
    "clf.fit(x1_train,y1_train)\n",
    "Z = clf.predict(np.c_[xx.ravel(), yy.ravel()]).reshape(xx.shape)\n",
    "contours = ax.contourf(xx, yy, Z, alpha=0.3, cmap = 'Set2')\n",
    "plt.ylim(-5,75)\n",
    "plt.show()"
   ]
  },
  {
   "cell_type": "markdown",
   "metadata": {
    "id": "pQNvu9PlJvr7"
   },
   "source": [
    "## 3. Random Forest\n",
    "\n",
    "Random Forest, además de aplicar Bagging, también selecciona features al azar, de esa manera descorrelaciona aún más los distintos modelos de árbol creados.\n",
    "\n",
    "1. Importar de scikit-learn el modelo `RandomForestClassifier`"
   ]
  },
  {
   "cell_type": "code",
   "execution_count": 59,
   "metadata": {
    "id": "M9XxMxz1Jvr8"
   },
   "outputs": [],
   "source": [
    "from sklearn.ensemble import RandomForestClassifier"
   ]
  },
  {
   "cell_type": "markdown",
   "metadata": {
    "id": "F6k1unuvJvsA"
   },
   "source": [
    "2. Investigar sus parámetros. En particular, `n_estimators`, `max_features` y `oob_score`. Luego, crear y entrenar un modelo en el conjunto de train."
   ]
  },
  {
   "cell_type": "code",
   "execution_count": 60,
   "metadata": {
    "id": "pPKh6si1JvsB"
   },
   "outputs": [
    {
     "name": "stderr",
     "output_type": "stream",
     "text": [
      "C:\\Users\\Thomas Mir Mercere\\miniconda3\\lib\\site-packages\\sklearn\\ensemble\\_forest.py:540: UserWarning: Some inputs do not have OOB scores. This probably means too few trees were used to compute any reliable oob estimates.\n",
      "  warn(\"Some inputs do not have OOB scores. \"\n",
      "C:\\Users\\Thomas Mir Mercere\\miniconda3\\lib\\site-packages\\sklearn\\ensemble\\_forest.py:544: RuntimeWarning: invalid value encountered in true_divide\n",
      "  decision = (predictions[k] /\n"
     ]
    },
    {
     "data": {
      "text/plain": [
       "RandomForestClassifier(n_estimators=20, n_jobs=-1, oob_score=True,\n",
       "                       random_state=42)"
      ]
     },
     "execution_count": 60,
     "metadata": {},
     "output_type": "execute_result"
    }
   ],
   "source": [
    "clf = RandomForestClassifier(n_estimators=20, max_features='auto', n_jobs=-1, oob_score = True, random_state = 42)\n",
    "clf.fit(X_train,y_train)\n"
   ]
  },
  {
   "cell_type": "markdown",
   "metadata": {
    "id": "DMLLIS0FJvsF"
   },
   "source": [
    "3. Evaluar su desempeño en el conjunto de train y de test."
   ]
  },
  {
   "cell_type": "code",
   "execution_count": 61,
   "metadata": {
    "id": "7nw18y6MJvsG"
   },
   "outputs": [
    {
     "name": "stdout",
     "output_type": "stream",
     "text": [
      "0.9956481586903994\n",
      "0.8510537812149478\n"
     ]
    }
   ],
   "source": [
    "y_train_pred = clf.predict(X_train)\n",
    "y_test_pred = clf.predict(X_test)\n",
    "print(metrics.accuracy_score(y_train, y_train_pred))\n",
    "print(metrics.accuracy_score(y_test, y_test_pred))"
   ]
  },
  {
   "cell_type": "markdown",
   "metadata": {
    "id": "-lM5LEmxJvsJ"
   },
   "source": [
    "4. ¿Cuál es su `oob_score_`?¿Y que son `feature_importances_`?"
   ]
  },
  {
   "cell_type": "code",
   "execution_count": 62,
   "metadata": {
    "id": "-AbWPlIKJvsJ"
   },
   "outputs": [
    {
     "data": {
      "text/plain": [
       "0.837640897187749"
      ]
     },
     "execution_count": 62,
     "metadata": {},
     "output_type": "execute_result"
    }
   ],
   "source": [
    "clf.oob_score_"
   ]
  },
  {
   "cell_type": "code",
   "execution_count": 63,
   "metadata": {
    "id": "LGgD2Xs3JvsL"
   },
   "outputs": [
    {
     "data": {
      "text/plain": [
       "array([0.07141442, 0.06827147, 0.08033777, 0.0485967 , 0.05354021,\n",
       "       0.08541099, 0.25137291, 0.08853426, 0.09831269, 0.07526409,\n",
       "       0.07894449])"
      ]
     },
     "execution_count": 63,
     "metadata": {},
     "output_type": "execute_result"
    }
   ],
   "source": [
    "clf.feature_importances_"
   ]
  },
  {
   "cell_type": "code",
   "execution_count": 64,
   "metadata": {
    "id": "014iW4IYJvsO"
   },
   "outputs": [
    {
     "name": "stderr",
     "output_type": "stream",
     "text": [
      "C:\\Users\\Thomas Mir Mercere\\miniconda3\\lib\\site-packages\\seaborn\\_decorators.py:36: FutureWarning: Pass the following variables as keyword args: x, y. From version 0.12, the only valid positional argument will be `data`, and passing other arguments without an explicit keyword will result in an error or misinterpretation.\n",
      "  warnings.warn(\n"
     ]
    },
    {
     "data": {
      "image/png": "[encoded data removed]",
      "text/plain": [
       "<Figure size 1080x576 with 1 Axes>"
      ]
     },
     "metadata": {},
     "output_type": "display_data"
    }
   ],
   "source": [
    "# CORRER ESTA CELDA UNA VEZ QUE HAYAN ESTUDIADO QUE ES OOB_SCORE Y FEATURE_IMPORTANCES\n",
    "\n",
    "importances = clf.feature_importances_\n",
    "columns = X_train.columns\n",
    "indices = np.argsort(importances)[::-1]\n",
    "\n",
    "plt.figure(figsize = (15,8))\n",
    "sns.barplot(columns[indices], importances[indices])\n",
    "plt.show()"
   ]
  },
  {
   "cell_type": "markdown",
   "metadata": {
    "id": "HI6jT96DJvsR"
   },
   "source": [
    "5. ¿Qué hay en la propiedad `estimators_`?"
   ]
  },
  {
   "cell_type": "code",
   "execution_count": 65,
   "metadata": {
    "id": "zY0zWZw6JvsR"
   },
   "outputs": [
    {
     "data": {
      "text/plain": [
       "[DecisionTreeClassifier(max_features='auto', random_state=1608637542),\n",
       " DecisionTreeClassifier(max_features='auto', random_state=1273642419),\n",
       " DecisionTreeClassifier(max_features='auto', random_state=1935803228),\n",
       " DecisionTreeClassifier(max_features='auto', random_state=787846414),\n",
       " DecisionTreeClassifier(max_features='auto', random_state=996406378),\n",
       " DecisionTreeClassifier(max_features='auto', random_state=1201263687),\n",
       " DecisionTreeClassifier(max_features='auto', random_state=423734972),\n",
       " DecisionTreeClassifier(max_features='auto', random_state=415968276),\n",
       " DecisionTreeClassifier(max_features='auto', random_state=670094950),\n",
       " DecisionTreeClassifier(max_features='auto', random_state=1914837113),\n",
       " DecisionTreeClassifier(max_features='auto', random_state=669991378),\n",
       " DecisionTreeClassifier(max_features='auto', random_state=429389014),\n",
       " DecisionTreeClassifier(max_features='auto', random_state=249467210),\n",
       " DecisionTreeClassifier(max_features='auto', random_state=1972458954),\n",
       " DecisionTreeClassifier(max_features='auto', random_state=1572714583),\n",
       " DecisionTreeClassifier(max_features='auto', random_state=1433267572),\n",
       " DecisionTreeClassifier(max_features='auto', random_state=434285667),\n",
       " DecisionTreeClassifier(max_features='auto', random_state=613608295),\n",
       " DecisionTreeClassifier(max_features='auto', random_state=893664919),\n",
       " DecisionTreeClassifier(max_features='auto', random_state=648061058)]"
      ]
     },
     "execution_count": 65,
     "metadata": {},
     "output_type": "execute_result"
    }
   ],
   "source": [
    "clf.estimators_"
   ]
  },
  {
   "cell_type": "markdown",
   "metadata": {
    "id": "GGv026tLJvsU"
   },
   "source": [
    "6. Elegir uno de los `estimators` y evaluar su desempeño sobre train y test."
   ]
  },
  {
   "cell_type": "code",
   "execution_count": 70,
   "metadata": {
    "id": "F_A-3QURJvsU"
   },
   "outputs": [
    {
     "data": {
      "text/plain": [
       "{'ccp_alpha': 0.0,\n",
       " 'class_weight': None,\n",
       " 'criterion': 'gini',\n",
       " 'max_depth': None,\n",
       " 'max_features': 'auto',\n",
       " 'max_leaf_nodes': None,\n",
       " 'min_impurity_decrease': 0.0,\n",
       " 'min_impurity_split': None,\n",
       " 'min_samples_leaf': 1,\n",
       " 'min_samples_split': 2,\n",
       " 'min_weight_fraction_leaf': 0.0,\n",
       " 'presort': 'deprecated',\n",
       " 'random_state': 669991378,\n",
       " 'splitter': 'best'}"
      ]
     },
     "execution_count": 70,
     "metadata": {},
     "output_type": "execute_result"
    }
   ],
   "source": [
    "clf_tree = clf.estimators_[10]\n",
    "clf_tree.get_params()"
   ]
  },
  {
   "cell_type": "code",
   "execution_count": 67,
   "metadata": {
    "id": "KPSJnBHwJvsW"
   },
   "outputs": [
    {
     "name": "stdout",
     "output_type": "stream",
     "text": [
      "0.9191620175338723\n",
      "0.7823661373162525\n"
     ]
    }
   ],
   "source": [
    "y_train_pred = clf_tree.predict(X_train)\n",
    "y_test_pred = clf_tree.predict(X_test)\n",
    "print(metrics.accuracy_score(y_train, y_train_pred))\n",
    "print(metrics.accuracy_score(y_test, y_test_pred))"
   ]
  },
  {
   "cell_type": "markdown",
   "metadata": {
    "id": "2kjJIp9WJvsZ"
   },
   "source": [
    "¿Está overfiteado?¿Por qué la accuracy sobre el conjunto de train no es 1?"
   ]
  },
  {
   "cell_type": "markdown",
   "metadata": {
    "id": "Tf49sPGhJvsZ"
   },
   "source": [
    "7. Hacer y graficar la curva de validación/complejidad para un modelo Random Forest en función del número de estimadores. No usamos CV porque puede llevar bastante tiempo. Si quieren, lo pueden probar después. Además, obtener su oob_score para graficar en la curva de complejidad (No se preocupen por los mensajes de warning)."
   ]
  },
  {
   "cell_type": "code",
   "execution_count": 71,
   "metadata": {
    "id": "ZSUel6JGJvsa"
   },
   "outputs": [
    {
     "name": "stdout",
     "output_type": "stream",
     "text": [
      "1\n"
     ]
    },
    {
     "name": "stderr",
     "output_type": "stream",
     "text": [
      "C:\\Users\\Thomas Mir Mercere\\miniconda3\\lib\\site-packages\\sklearn\\ensemble\\_forest.py:540: UserWarning: Some inputs do not have OOB scores. This probably means too few trees were used to compute any reliable oob estimates.\n",
      "  warn(\"Some inputs do not have OOB scores. \"\n",
      "C:\\Users\\Thomas Mir Mercere\\miniconda3\\lib\\site-packages\\sklearn\\ensemble\\_forest.py:544: RuntimeWarning: invalid value encountered in true_divide\n",
      "  decision = (predictions[k] /\n"
     ]
    },
    {
     "name": "stdout",
     "output_type": "stream",
     "text": [
      "2\n"
     ]
    },
    {
     "name": "stderr",
     "output_type": "stream",
     "text": [
      "C:\\Users\\Thomas Mir Mercere\\miniconda3\\lib\\site-packages\\sklearn\\ensemble\\_forest.py:540: UserWarning: Some inputs do not have OOB scores. This probably means too few trees were used to compute any reliable oob estimates.\n",
      "  warn(\"Some inputs do not have OOB scores. \"\n",
      "C:\\Users\\Thomas Mir Mercere\\miniconda3\\lib\\site-packages\\sklearn\\ensemble\\_forest.py:544: RuntimeWarning: invalid value encountered in true_divide\n",
      "  decision = (predictions[k] /\n"
     ]
    },
    {
     "name": "stdout",
     "output_type": "stream",
     "text": [
      "3\n"
     ]
    },
    {
     "name": "stderr",
     "output_type": "stream",
     "text": [
      "C:\\Users\\Thomas Mir Mercere\\miniconda3\\lib\\site-packages\\sklearn\\ensemble\\_forest.py:540: UserWarning: Some inputs do not have OOB scores. This probably means too few trees were used to compute any reliable oob estimates.\n",
      "  warn(\"Some inputs do not have OOB scores. \"\n",
      "C:\\Users\\Thomas Mir Mercere\\miniconda3\\lib\\site-packages\\sklearn\\ensemble\\_forest.py:544: RuntimeWarning: invalid value encountered in true_divide\n",
      "  decision = (predictions[k] /\n"
     ]
    },
    {
     "name": "stdout",
     "output_type": "stream",
     "text": [
      "4\n"
     ]
    },
    {
     "name": "stderr",
     "output_type": "stream",
     "text": [
      "C:\\Users\\Thomas Mir Mercere\\miniconda3\\lib\\site-packages\\sklearn\\ensemble\\_forest.py:540: UserWarning: Some inputs do not have OOB scores. This probably means too few trees were used to compute any reliable oob estimates.\n",
      "  warn(\"Some inputs do not have OOB scores. \"\n",
      "C:\\Users\\Thomas Mir Mercere\\miniconda3\\lib\\site-packages\\sklearn\\ensemble\\_forest.py:544: RuntimeWarning: invalid value encountered in true_divide\n",
      "  decision = (predictions[k] /\n"
     ]
    },
    {
     "name": "stdout",
     "output_type": "stream",
     "text": [
      "5\n"
     ]
    },
    {
     "name": "stderr",
     "output_type": "stream",
     "text": [
      "C:\\Users\\Thomas Mir Mercere\\miniconda3\\lib\\site-packages\\sklearn\\ensemble\\_forest.py:540: UserWarning: Some inputs do not have OOB scores. This probably means too few trees were used to compute any reliable oob estimates.\n",
      "  warn(\"Some inputs do not have OOB scores. \"\n",
      "C:\\Users\\Thomas Mir Mercere\\miniconda3\\lib\\site-packages\\sklearn\\ensemble\\_forest.py:544: RuntimeWarning: invalid value encountered in true_divide\n",
      "  decision = (predictions[k] /\n"
     ]
    },
    {
     "name": "stdout",
     "output_type": "stream",
     "text": [
      "10\n"
     ]
    },
    {
     "name": "stderr",
     "output_type": "stream",
     "text": [
      "C:\\Users\\Thomas Mir Mercere\\miniconda3\\lib\\site-packages\\sklearn\\ensemble\\_forest.py:540: UserWarning: Some inputs do not have OOB scores. This probably means too few trees were used to compute any reliable oob estimates.\n",
      "  warn(\"Some inputs do not have OOB scores. \"\n",
      "C:\\Users\\Thomas Mir Mercere\\miniconda3\\lib\\site-packages\\sklearn\\ensemble\\_forest.py:544: RuntimeWarning: invalid value encountered in true_divide\n",
      "  decision = (predictions[k] /\n"
     ]
    },
    {
     "name": "stdout",
     "output_type": "stream",
     "text": [
      "25\n"
     ]
    },
    {
     "name": "stderr",
     "output_type": "stream",
     "text": [
      "C:\\Users\\Thomas Mir Mercere\\miniconda3\\lib\\site-packages\\sklearn\\ensemble\\_forest.py:540: UserWarning: Some inputs do not have OOB scores. This probably means too few trees were used to compute any reliable oob estimates.\n",
      "  warn(\"Some inputs do not have OOB scores. \"\n",
      "C:\\Users\\Thomas Mir Mercere\\miniconda3\\lib\\site-packages\\sklearn\\ensemble\\_forest.py:544: RuntimeWarning: invalid value encountered in true_divide\n",
      "  decision = (predictions[k] /\n"
     ]
    }
   ],
   "source": [
    "train_accuracy = []\n",
    "test_accuracy = []\n",
    "oob_scores = []\n",
    "\n",
    "N_estimadores = [1,2,3,4,5,10,25]\n",
    "for estimadores in N_estimadores:\n",
    "    print(estimadores)\n",
    "    clf = RandomForestClassifier(n_estimators=estimadores, n_jobs=-1, oob_score= True, random_state = 42)\n",
    "    clf.fit(X_train,y_train)\n",
    "    \n",
    "    y_train_pred = clf.predict(X_train)\n",
    "    y_test_pred = clf.predict(X_test)\n",
    "    \n",
    "    train_accuracy.append(y_train_pred)\n",
    "    test_accuracy.append(y_test_pred)\n",
    "    oob_scores.append(clf.oob_score_)\n",
    "    \n",
    "train_accuracy = np.array(train_accuracy)\n",
    "test_accuracy = np.array(test_accuracy)\n",
    "oob_scores = np.array(oob_scores)"
   ]
  },
  {
   "cell_type": "code",
   "execution_count": 94,
   "metadata": {
    "id": "R_3U1Pw6Jvsd"
   },
   "outputs": [
    {
     "data": {
      "image/png": "[encoded data removed]",
      "text/plain": [
       "<Figure size 720x432 with 1 Axes>"
      ]
     },
     "metadata": {},
     "output_type": "display_data"
    }
   ],
   "source": [
    "plt.figure(figsize = (10,6))\n",
    "plt.plot(N_estimadores, pd.DataFrame(train_accuracy).T.mean(), label = 'Train')\n",
    "plt.plot(N_estimadores, pd.DataFrame(test_accuracy).T.mean(), label = 'Test')\n",
    "plt.plot(N_estimadores, oob_scores, label = 'OOB')\n",
    "plt.xlabel('Numero de estimadores')\n",
    "plt.ylabel('Accuracy')\n",
    "plt.legend()\n",
    "plt.xlim(0,50)\n",
    "plt.ylim(0.1,0.3)\n",
    "plt.show()"
   ]
  },
  {
   "cell_type": "markdown",
   "metadata": {
    "id": "ozuvMLtJJvsg"
   },
   "source": [
    "8. Hacer y graficar la curva de aprendizaje para un modelo con 250 estimadores. Puede llevar bastante tiempo, no se preocupen."
   ]
  },
  {
   "cell_type": "code",
   "execution_count": null,
   "metadata": {
    "id": "w6V7waywJvsh"
   },
   "outputs": [],
   "source": [
    "clf = RandomForestClassifier(n_estimators=250, n_jobs=-1, oob_score= True, random_state = 42)\n",
    "\n",
    "train_sizes, train_scores, valid_scores = learning_curve(COMPLETAR, COMPLETAR, COMPLETAR, \n",
    "                                                         train_sizes = np.linspace(0.0001,1,10),\n",
    "                                                         scoring = 'accuracy', cv=5)"
   ]
  },
  {
   "cell_type": "code",
   "execution_count": null,
   "metadata": {
    "id": "3Siv3xPKJvsk"
   },
   "outputs": [],
   "source": [
    "plt.figure(figsize = (8,6))\n",
    "plt.plot(COMPLETAR, COMPLETAR.mean(axis = COMPLETAR), color = 'r')\n",
    "plt.plot(COMPLETAR, COMPLETAR.mean(axis = COMPLETAR), color = 'g')\n",
    "\n",
    "plt.fill_between(COMPLETAR, COMPLETAR,\n",
    "                     COMPLETAR, alpha=0.25,\n",
    "                     color=\"r\")\n",
    "plt.fill_between(COMPLETAR, COMPLETAR,\n",
    "                     COMPLETAR, alpha=0.25, color=\"g\")\n",
    "\n",
    "plt.ylim(0.5,1.1)\n",
    "plt.show()"
   ]
  },
  {
   "cell_type": "markdown",
   "metadata": {
    "id": "H_QYSwq4Jvsm"
   },
   "source": [
    "9. Si usaron dos features, pueden graficar las fronteras de decisión."
   ]
  },
  {
   "cell_type": "code",
   "execution_count": null,
   "metadata": {
    "id": "xunphIRtJvsn"
   },
   "outputs": [],
   "source": [
    "N = 20 #para no graficar todos los puntos y saturar el grafico\n",
    "clf = RandomForestClassifier(n_estimators=250).fit(X_train, y_train)\n",
    "\n",
    "#COMPLETAR"
   ]
  },
  {
   "cell_type": "markdown",
   "metadata": {
    "id": "Q-pDtsL9Jvso"
   },
   "source": [
    "**Ejercicio**: elegir más features y volver a entrenar.\n",
    "\n",
    "**Para pensar**: ¿qué otras métricas utilizarían para evaluar estos modelos, dadas las características particulares del problema? Comparar con los casos *benchmark* que hicieron."
   ]
  }
 ],
 "metadata": {
  "colab": {
   "collapsed_sections": [
    "6_iSwBXBJvqk",
    "Mc_mkQLyJvrC",
    "pQNvu9PlJvr7"
   ],
   "name": "DS_Bitácora_27_Bagging.ipynb",
   "provenance": []
  },
  "kernelspec": {
   "display_name": "Python 3",
   "language": "python",
   "name": "python3"
  },
  "language_info": {
   "codemirror_mode": {
    "name": "ipython",
    "version": 3
   },
   "file_extension": ".py",
   "mimetype": "text/x-python",
   "name": "python",
   "nbconvert_exporter": "python",
   "pygments_lexer": "ipython3",
   "version": "3.8.3"
  }
 },
 "nbformat": 4,
 "nbformat_minor": 4
}
